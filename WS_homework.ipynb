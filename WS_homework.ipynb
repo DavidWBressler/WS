{
 "cells": [
  {
   "cell_type": "code",
   "execution_count": 1,
   "metadata": {},
   "outputs": [
    {
     "name": "stdout",
     "output_type": "stream",
     "text": [
      "/notebooks\n"
     ]
    }
   ],
   "source": [
    "cd /notebooks/"
   ]
  },
  {
   "cell_type": "code",
   "execution_count": 2,
   "metadata": {},
   "outputs": [
    {
     "name": "stdout",
     "output_type": "stream",
     "text": [
      "Pixiedust database opened successfully\n",
      "Table VERSION_TRACKER created successfully\n",
      "Table METRICS_TRACKER created successfully\n",
      "\n",
      "Share anonymous install statistics? (opt-out instructions)\n",
      "\n",
      "PixieDust will record metadata on its environment the next time the package is installed or updated. The data is anonymized and aggregated to help plan for future releases, and records only the following values:\n",
      "\n",
      "{\n",
      "   \"data_sent\": currentDate,\n",
      "   \"runtime\": \"python\",\n",
      "   \"application_version\": currentPixiedustVersion,\n",
      "   \"space_id\": nonIdentifyingUniqueId,\n",
      "   \"config\": {\n",
      "       \"repository_id\": \"https://github.com/ibm-watson-data-lab/pixiedust\",\n",
      "       \"target_runtimes\": [\"Data Science Experience\"],\n",
      "       \"event_id\": \"web\",\n",
      "       \"event_organizer\": \"dev-journeys\"\n",
      "   }\n",
      "}\n",
      "You can opt out by calling pixiedust.optOut() in a new cell.\n"
     ]
    },
    {
     "data": {
      "text/html": [
       "\n",
       "        <div style=\"margin:10px\">\n",
       "            <a href=\"https://github.com/ibm-watson-data-lab/pixiedust\" target=\"_new\">\n",
       "                <img src=\"https://github.com/ibm-watson-data-lab/pixiedust/raw/master/docs/_static/pd_icon32.png\" style=\"float:left;margin-right:10px\"/>\n",
       "            </a>\n",
       "            <span>Pixiedust version 1.1.15</span>\n",
       "        </div>\n",
       "        "
      ],
      "text/plain": [
       "<IPython.core.display.HTML object>"
      ]
     },
     "metadata": {},
     "output_type": "display_data"
    },
    {
     "name": "stdout",
     "output_type": "stream",
     "text": [
      "\u001b[31mPixiedust runtime updated. Please restart kernel\u001b[0m\n",
      "Table USER_PREFERENCES created successfully\n",
      "Table service_connections created successfully\n"
     ]
    }
   ],
   "source": [
    "from fastai import *\n",
    "from fastai.text import *   # Quick accesss to NLP functionality\n",
    "\n",
    "import torch.utils.data as data_utils\n",
    "from torch.utils.data.dataset import Dataset\n",
    "from torch.utils.data.sampler import Sampler\n",
    "from torch.autograd import Variable\n",
    "\n",
    "import time\n",
    "import importlib\n",
    "import pixiedust\n",
    "import spacy"
   ]
  },
  {
   "cell_type": "code",
   "execution_count": 3,
   "metadata": {},
   "outputs": [],
   "source": [
    "DATAPATH = Path('/data/WS/')\n",
    "PATH = Path('/data/sav/WS/')"
   ]
  },
  {
   "cell_type": "code",
   "execution_count": 26,
   "metadata": {},
   "outputs": [],
   "source": [
    "spacy_tok = spacy.load('en')"
   ]
  },
  {
   "cell_type": "code",
   "execution_count": 6,
   "metadata": {},
   "outputs": [
    {
     "name": "stdout",
     "output_type": "stream",
     "text": [
      "download: s3://dbressbuck/data/WS/evaluate.csv to ../../data/WS/evaluate.csv\n",
      "download: s3://dbressbuck/data/WS/train.csv to ../../data/WS/train.csv\n",
      "download: s3://dbressbuck/data/WS/sent140_training.csv to ../../data/WS/sent140_training.csv\n"
     ]
    }
   ],
   "source": [
    "#DOWNLOAD THE DATA\n",
    "#!aws s3 cp --recursive s3://dbressbuck/data/WS /data/WS"
   ]
  },
  {
   "cell_type": "markdown",
   "metadata": {},
   "source": [
    "# Preprocess the data"
   ]
  },
  {
   "cell_type": "code",
   "execution_count": 120,
   "metadata": {},
   "outputs": [
    {
     "name": "stdout",
     "output_type": "stream",
     "text": [
      "(160000, 2)\n",
      "(69594, 2)\n",
      "  sentiment                                            content\n",
      "0  negative  RT @evixy_: @havocharb 🙄 ALL RIGHT SHERLOCK. E...\n",
      "1   neutral  @Honeybeemtb @80sbuttplug @CNN @zbyronwolf So ...\n",
      "2   neutral  #Beer. #Grub. #StadiumSeating.  Best place in ...\n",
      "3  positive  I want thissssssssss 😍😍😍😍😍 u have a perfect pl...\n",
      "4   neutral  youtu.be/D2IHY4eRdAs IF YOU DRINK DIET SODA OR...\n"
     ]
    }
   ],
   "source": [
    "#load data, look at size of training set and test set, look at some samples\n",
    "df_trn = pd.read_csv(DATAPATH/'train.csv')\n",
    "df_test = pd.read_csv(DATAPATH/'evaluate.csv')\n",
    "df_trn= df_trn[['sentiment','content']]\n",
    "df_test= df_test[['sentiment','content']]\n",
    "print(np.shape(df_trn))\n",
    "print(np.shape(df_test))\n",
    "print(df_trn.head())"
   ]
  },
  {
   "cell_type": "code",
   "execution_count": 121,
   "metadata": {},
   "outputs": [
    {
     "name": "stdout",
     "output_type": "stream",
     "text": [
      "(152319, 2)\n"
     ]
    },
    {
     "data": {
      "text/html": [
       "<div>\n",
       "<style scoped>\n",
       "    .dataframe tbody tr th:only-of-type {\n",
       "        vertical-align: middle;\n",
       "    }\n",
       "\n",
       "    .dataframe tbody tr th {\n",
       "        vertical-align: top;\n",
       "    }\n",
       "\n",
       "    .dataframe thead th {\n",
       "        text-align: right;\n",
       "    }\n",
       "</style>\n",
       "<table border=\"1\" class=\"dataframe\">\n",
       "  <thead>\n",
       "    <tr style=\"text-align: right;\">\n",
       "      <th></th>\n",
       "      <th>sentiment</th>\n",
       "      <th>content</th>\n",
       "    </tr>\n",
       "  </thead>\n",
       "  <tbody>\n",
       "    <tr>\n",
       "      <th>1723</th>\n",
       "      <td>positive</td>\n",
       "      <td>My #McM #mancrushmonday goes out to these love...</td>\n",
       "    </tr>\n",
       "    <tr>\n",
       "      <th>2265</th>\n",
       "      <td>positive</td>\n",
       "      <td>#HappyHolidays from our family to yours! Wishi...</td>\n",
       "    </tr>\n",
       "    <tr>\n",
       "      <th>3500</th>\n",
       "      <td>positive</td>\n",
       "      <td>RT @kted_kiki: my ideal life is traveling the ...</td>\n",
       "    </tr>\n",
       "    <tr>\n",
       "      <th>3533</th>\n",
       "      <td>negative</td>\n",
       "      <td>Eat Shit， Brady. #SuperBowl</td>\n",
       "    </tr>\n",
       "    <tr>\n",
       "      <th>3534</th>\n",
       "      <td>positive</td>\n",
       "      <td>RT @thewannabegypsy: The best restaurants in #...</td>\n",
       "    </tr>\n",
       "  </tbody>\n",
       "</table>\n",
       "</div>"
      ],
      "text/plain": [
       "     sentiment                                            content\n",
       "1723  positive  My #McM #mancrushmonday goes out to these love...\n",
       "2265  positive  #HappyHolidays from our family to yours! Wishi...\n",
       "3500  positive  RT @kted_kiki: my ideal life is traveling the ...\n",
       "3533  negative                        Eat Shit， Brady. #SuperBowl\n",
       "3534  positive  RT @thewannabegypsy: The best restaurants in #..."
      ]
     },
     "execution_count": 121,
     "metadata": {},
     "output_type": "execute_result"
    }
   ],
   "source": [
    "#there are some duplicate tweets... Take a quick look at them\n",
    "print(np.shape(df_trn[~df_trn['content'].duplicated()]))\n",
    "df_duplicated=df_trn[df_trn['content'].duplicated()]\n",
    "df_duplicated.head()"
   ]
  },
  {
   "cell_type": "code",
   "execution_count": 122,
   "metadata": {},
   "outputs": [
    {
     "name": "stdout",
     "output_type": "stream",
     "text": [
      "(152319, 2)\n"
     ]
    }
   ],
   "source": [
    "#remove duplicates... no reason to include these in training\n",
    "df_trn=df_trn[~df_trn['content'].duplicated()]\n",
    "print(np.shape(df_trn))"
   ]
  },
  {
   "cell_type": "code",
   "execution_count": 123,
   "metadata": {},
   "outputs": [
    {
     "name": "stdout",
     "output_type": "stream",
     "text": [
      "(7,)\n",
      "['The hilarious Flash went out to the supermarket to drink some football but felt uncertain as he was flying in the wrong direction.', '@channelislam @channelislam @chahould be done at hotel buffets as well.Its disgusting how people pile plates and eat a quarter.Rest is thrown 🖓', 'There is nothing better than watching the #football game with your favorite food! Pick up #wings， #pizza， or whatever else you are craving to have when you watch the game tonight. #NFL #Vikings pic.twitter.com/NHoQtQFwuB', \"New post (Game of Thrones， That's What I Do I Drink and I Know Things， Stemless Wine ...) has been published on  - happy-fathers-day.info/game-of-throne… pic.twitter.com/NlzlZT8pZP\", \"My parents think I'm studying hard and packing the house up but really I've just been eating junk food and watching Netflix 👩🏻\\u200d💻\", 'YO FUCK PRESEASON FOOTBALL!!! Ya girl was just trynna eat some ice cream and watch bachelor in paradise 😤', '*whispers*I LOVE WATCHING THE WILD EAT SHIT IN THE PLAYOFFS NOM NOM NOM MY BABIES']\n",
      "(152319, 2)\n",
      "(152312, 2)\n"
     ]
    }
   ],
   "source": [
    "#check to see if there's any duplicates between train and test set... that would be cheating!\n",
    "#then remove them\n",
    "listA=list(df_trn['content'])\n",
    "listB=list(df_test['content'])\n",
    "common_elements=list(set(listA).intersection(set(listB)))\n",
    "print(np.shape(common_elements))#there are a few duplicates\n",
    "print(common_elements)\n",
    "\n",
    "#remove the duplicates from the training set\n",
    "print(np.shape(df_trn))\n",
    "for i in range(len(common_elements)):\n",
    "    df_trn=df_trn.drop(df_trn[df_trn['content']==common_elements[i]].index)\n",
    "df_trn=df_trn.reset_index(drop=True)\n",
    "print(np.shape(df_trn))"
   ]
  },
  {
   "cell_type": "code",
   "execution_count": 124,
   "metadata": {},
   "outputs": [
    {
     "name": "stdout",
     "output_type": "stream",
     "text": [
      "  sentiment                                            content  str_len\n",
      "0  negative  RT @evixy_: @havocharb 🙄 ALL RIGHT SHERLOCK. E...       53\n",
      "1   neutral  @Honeybeemtb @80sbuttplug @CNN @zbyronwolf So ...      221\n",
      "2   neutral  #Beer. #Grub. #StadiumSeating.  Best place in ...      122\n",
      "3  positive  I want thissssssssss 😍😍😍😍😍 u have a perfect pl...      253\n",
      "4   neutral  youtu.be/D2IHY4eRdAs IF YOU DRINK DIET SODA OR...       91\n"
     ]
    },
    {
     "data": {
      "text/plain": [
       "array([[<matplotlib.axes._subplots.AxesSubplot object at 0x7f5b34d04dd8>]], dtype=object)"
      ]
     },
     "execution_count": 124,
     "metadata": {},
     "output_type": "execute_result"
    },
    {
     "data": {
      "image/png": "[encoded data removed]",
      "text/plain": [
       "<Figure size 432x288 with 1 Axes>"
      ]
     },
     "metadata": {
      "needs_background": "light"
     },
     "output_type": "display_data"
    }
   ],
   "source": [
    "#create column to take a look at length of tweets, and create graph of distribution\n",
    "df_trn['str_len']=df_trn['content'].str.len()\n",
    "print(df_trn.head())\n",
    "df_trn.hist(column='str_len', bins=100)"
   ]
  },
  {
   "cell_type": "code",
   "execution_count": 99,
   "metadata": {},
   "outputs": [
    {
     "name": "stdout",
     "output_type": "stream",
     "text": [
      "['negative' 'neutral' 'positive']\n"
     ]
    },
    {
     "data": {
      "text/plain": [
       "(array([35118.,     0.,     0.,     0.,     0., 70590.,     0.,     0.,     0., 46611.]),\n",
       " array([0. , 0.2, 0.4, 0.6, 0.8, 1. , 1.2, 1.4, 1.6, 1.8, 2. ]),\n",
       " <a list of 10 Patch objects>)"
      ]
     },
     "execution_count": 99,
     "metadata": {},
     "output_type": "execute_result"
    },
    {
     "data": {
      "image/png": "[encoded data removed]",
      "text/plain": [
       "<Figure size 432x288 with 1 Axes>"
      ]
     },
     "metadata": {
      "needs_background": "light"
     },
     "output_type": "display_data"
    }
   ],
   "source": [
    "#look at distribution of labels\n",
    "print(df_trn['sentiment'].unique()) #unique labels\n",
    "plt.hist(list(df_trn['sentiment']))"
   ]
  },
  {
   "cell_type": "code",
   "execution_count": 119,
   "metadata": {},
   "outputs": [
    {
     "data": {
      "text/plain": [
       "(array([10477.,     0.,     0.,     0.,     0., 55766.,     0.,     0.,     0.,  3351.]),\n",
       " array([0. , 0.2, 0.4, 0.6, 0.8, 1. , 1.2, 1.4, 1.6, 1.8, 2. ]),\n",
       " <a list of 10 Patch objects>)"
      ]
     },
     "execution_count": 119,
     "metadata": {},
     "output_type": "execute_result"
    },
    {
     "data": {
      "image/png": "[encoded data removed]",
      "text/plain": [
       "<Figure size 432x288 with 1 Axes>"
      ]
     },
     "metadata": {
      "needs_background": "light"
     },
     "output_type": "display_data"
    }
   ],
   "source": [
    "#Look at distribution of test dataset as well\n",
    "#Huge class imbalance!\n",
    "plt.hist(list(df_test['sentiment']))"
   ]
  },
  {
   "cell_type": "markdown",
   "metadata": {},
   "source": [
    "# Build and run 1) language model, 2) classification model"
   ]
  },
  {
   "cell_type": "code",
   "execution_count": 125,
   "metadata": {},
   "outputs": [],
   "source": [
    "df_trn.to_csv(DATAPATH/'train_proc.csv', index=False)\n",
    "df_test.to_csv(DATAPATH/'test_proc.csv', index=False)"
   ]
  },
  {
   "cell_type": "code",
   "execution_count": 126,
   "metadata": {},
   "outputs": [
    {
     "name": "stdout",
     "output_type": "stream",
     "text": [
      "  sentiment                                            content  str_len\n",
      "0  negative  RT @evixy_: @havocharb 🙄 ALL RIGHT SHERLOCK. E...       53\n",
      "1   neutral  @Honeybeemtb @80sbuttplug @CNN @zbyronwolf So ...      221\n",
      "2   neutral  #Beer. #Grub. #StadiumSeating.  Best place in ...      122\n",
      "3  positive  I want thissssssssss 😍😍😍😍😍 u have a perfect pl...      253\n",
      "4   neutral  youtu.be/D2IHY4eRdAs IF YOU DRINK DIET SODA OR...       91\n"
     ]
    }
   ],
   "source": [
    "print(df_trn.head())"
   ]
  },
  {
   "cell_type": "code",
   "execution_count": 127,
   "metadata": {},
   "outputs": [
    {
     "name": "stdout",
     "output_type": "stream",
     "text": [
      "  sentiment                                            content\n",
      "0  positive  @joselynalghul I mean you GOTTA go to Grand Ce...\n",
      "1   neutral  ** HAPPY COOKING **#MAINCUISINE #COOKING #RECI...\n",
      "2   neutral  RT @RiverRatBrewery: Today is the day! It's Su...\n",
      "3   neutral  I ate chili cheese fries at 1AM and watched 13...\n",
      "4   neutral  The Most Popular Super Bowl Recipes in Every S...\n"
     ]
    }
   ],
   "source": [
    "print(df_test.head())"
   ]
  },
  {
   "cell_type": "code",
   "execution_count": 154,
   "metadata": {},
   "outputs": [],
   "source": [
    "#set momentum values\n",
    "moms = (0.8,0.7)"
   ]
  },
  {
   "cell_type": "code",
   "execution_count": 128,
   "metadata": {},
   "outputs": [],
   "source": [
    "#language model data object\n",
    "data_lm = TextLMDataBunch.from_csv(DATAPATH, 'train_proc.csv')"
   ]
  },
  {
   "cell_type": "code",
   "execution_count": 131,
   "metadata": {},
   "outputs": [
    {
     "data": {
      "text/html": [
       "<table border=\"1\" class=\"dataframe\">\n",
       "  <thead>\n",
       "    <tr style=\"text-align: left;\">\n",
       "      <th>epoch</th>\n",
       "      <th>train_loss</th>\n",
       "      <th>valid_loss</th>\n",
       "      <th>accuracy</th>\n",
       "      <th>time</th>\n",
       "    </tr>\n",
       "  </thead>\n",
       "  <tbody>\n",
       "    <tr>\n",
       "      <td>0</td>\n",
       "      <td>4.081447</td>\n",
       "      <td>3.728842</td>\n",
       "      <td>0.360819</td>\n",
       "      <td>03:04</td>\n",
       "    </tr>\n",
       "    <tr>\n",
       "      <td>1</td>\n",
       "      <td>3.756207</td>\n",
       "      <td>3.460654</td>\n",
       "      <td>0.391099</td>\n",
       "      <td>03:06</td>\n",
       "    </tr>\n",
       "    <tr>\n",
       "      <td>2</td>\n",
       "      <td>3.557852</td>\n",
       "      <td>3.351406</td>\n",
       "      <td>0.404250</td>\n",
       "      <td>03:07</td>\n",
       "    </tr>\n",
       "    <tr>\n",
       "      <td>3</td>\n",
       "      <td>3.432202</td>\n",
       "      <td>3.328161</td>\n",
       "      <td>0.407641</td>\n",
       "      <td>03:07</td>\n",
       "    </tr>\n",
       "  </tbody>\n",
       "</table>"
      ],
      "text/plain": [
       "<IPython.core.display.HTML object>"
      ]
     },
     "metadata": {},
     "output_type": "display_data"
    }
   ],
   "source": [
    "#This is using fast.ai's pretrained language model:\n",
    "#Model pretrained on wikitext103 dataset: \n",
    "    #https://blog.einstein.ai/the-wikitext-long-term-dependency-language-modeling-dataset/\n",
    "    #~100M tokens, ~270K vocab\n",
    "#Model based on Merity/Socher's AWD-LSTM quasi-recurrent neural network (QRNN)\n",
    "    #https://arxiv.org/abs/1708.02182\n",
    "learn = language_model_learner(data_lm, AWD_LSTM)\n",
    "learn.unfreeze()\n",
    "learn.fit_one_cycle(4, slice(1e-2), moms=moms)"
   ]
  },
  {
   "cell_type": "code",
   "execution_count": 132,
   "metadata": {},
   "outputs": [],
   "source": [
    "#save weights from language model\n",
    "learn.save_encoder('enc')"
   ]
  },
  {
   "cell_type": "code",
   "execution_count": 153,
   "metadata": {},
   "outputs": [],
   "source": [
    "#create dataset for classification model\n",
    "data_clas2 = TextClasDataBunch.from_csv(DATAPATH, 'train_proc.csv', \n",
    "            test='test_proc.csv', vocab=data_lm.train_ds.vocab, bs=40)"
   ]
  },
  {
   "cell_type": "code",
   "execution_count": 155,
   "metadata": {},
   "outputs": [
    {
     "data": {
      "text/html": [
       "<table border=\"1\" class=\"dataframe\">\n",
       "  <thead>\n",
       "    <tr style=\"text-align: left;\">\n",
       "      <th>epoch</th>\n",
       "      <th>train_loss</th>\n",
       "      <th>valid_loss</th>\n",
       "      <th>accuracy</th>\n",
       "      <th>time</th>\n",
       "    </tr>\n",
       "  </thead>\n",
       "  <tbody>\n",
       "    <tr>\n",
       "      <td>0</td>\n",
       "      <td>0.873037</td>\n",
       "      <td>0.769597</td>\n",
       "      <td>0.648623</td>\n",
       "      <td>01:45</td>\n",
       "    </tr>\n",
       "    <tr>\n",
       "      <td>1</td>\n",
       "      <td>0.841288</td>\n",
       "      <td>0.739303</td>\n",
       "      <td>0.668582</td>\n",
       "      <td>01:44</td>\n",
       "    </tr>\n",
       "    <tr>\n",
       "      <td>2</td>\n",
       "      <td>0.838200</td>\n",
       "      <td>0.722005</td>\n",
       "      <td>0.683780</td>\n",
       "      <td>01:43</td>\n",
       "    </tr>\n",
       "    <tr>\n",
       "      <td>3</td>\n",
       "      <td>0.812155</td>\n",
       "      <td>0.717243</td>\n",
       "      <td>0.684732</td>\n",
       "      <td>01:46</td>\n",
       "    </tr>\n",
       "  </tbody>\n",
       "</table>"
      ],
      "text/plain": [
       "<IPython.core.display.HTML object>"
      ]
     },
     "metadata": {},
     "output_type": "display_data"
    }
   ],
   "source": [
    "#Classification model based on Howard/Ruder's ULMFiT approach:\n",
    "    #https://arxiv.org/abs/1801.06146\n",
    "#Start with pretrained LM and fine-tune on dataset as above\n",
    "#Keep the LM's \"encoder\" spine, but replace the head of the NN with a new network that predicts class\n",
    "#This approach utilizes transfer learning to enhance the classifier's performance\n",
    "#Also using one_cycle superconvergence: modify the learning rate and momentum value during training\n",
    "    #Ramp up then down the LR, while ramping down then up the momentum\n",
    "    #Significantly reduces training time and improves performance\n",
    "    #From Leslie Smith's paper: https://arxiv.org/pdf/1803.09820.pdf\n",
    "\n",
    "learn2 = text_classifier_learner(data_clas2, AWD_LSTM)\n",
    "learn2.load_encoder('enc')#load in the weights from the LM encoder\n",
    "learn2.fit_one_cycle(4, moms=moms)"
   ]
  },
  {
   "cell_type": "code",
   "execution_count": 156,
   "metadata": {},
   "outputs": [
    {
     "data": {
      "text/html": [
       "<table border=\"1\" class=\"dataframe\">\n",
       "  <thead>\n",
       "    <tr style=\"text-align: left;\">\n",
       "      <th>epoch</th>\n",
       "      <th>train_loss</th>\n",
       "      <th>valid_loss</th>\n",
       "      <th>accuracy</th>\n",
       "      <th>time</th>\n",
       "    </tr>\n",
       "  </thead>\n",
       "  <tbody>\n",
       "    <tr>\n",
       "      <td>0</td>\n",
       "      <td>0.800146</td>\n",
       "      <td>0.684788</td>\n",
       "      <td>0.703411</td>\n",
       "      <td>04:20</td>\n",
       "    </tr>\n",
       "    <tr>\n",
       "      <td>1</td>\n",
       "      <td>0.736613</td>\n",
       "      <td>0.593232</td>\n",
       "      <td>0.754588</td>\n",
       "      <td>04:23</td>\n",
       "    </tr>\n",
       "    <tr>\n",
       "      <td>2</td>\n",
       "      <td>0.671252</td>\n",
       "      <td>0.503970</td>\n",
       "      <td>0.804090</td>\n",
       "      <td>04:07</td>\n",
       "    </tr>\n",
       "    <tr>\n",
       "      <td>3</td>\n",
       "      <td>0.584129</td>\n",
       "      <td>0.447479</td>\n",
       "      <td>0.831730</td>\n",
       "      <td>04:13</td>\n",
       "    </tr>\n",
       "    <tr>\n",
       "      <td>4</td>\n",
       "      <td>0.538299</td>\n",
       "      <td>0.419107</td>\n",
       "      <td>0.846273</td>\n",
       "      <td>04:12</td>\n",
       "    </tr>\n",
       "    <tr>\n",
       "      <td>5</td>\n",
       "      <td>0.528030</td>\n",
       "      <td>0.387832</td>\n",
       "      <td>0.858189</td>\n",
       "      <td>04:24</td>\n",
       "    </tr>\n",
       "    <tr>\n",
       "      <td>6</td>\n",
       "      <td>0.512136</td>\n",
       "      <td>0.386526</td>\n",
       "      <td>0.858254</td>\n",
       "      <td>04:24</td>\n",
       "    </tr>\n",
       "    <tr>\n",
       "      <td>7</td>\n",
       "      <td>0.528796</td>\n",
       "      <td>0.381221</td>\n",
       "      <td>0.860224</td>\n",
       "      <td>04:23</td>\n",
       "    </tr>\n",
       "  </tbody>\n",
       "</table>"
      ],
      "text/plain": [
       "<IPython.core.display.HTML object>"
      ]
     },
     "metadata": {},
     "output_type": "display_data"
    }
   ],
   "source": [
    "#Unfreeze all the layers and continue training:\n",
    "#Above, all the layers except for the last layer is frozen\n",
    "    #Idea is that \"encoder\" spine from the LM is fairly well-tuned, so only need to train the classifier head\n",
    "#Once head has been trained, now we can train all the layers of the network\n",
    "learn2.unfreeze()\n",
    "learn2.fit_one_cycle(8, slice(1e-5,1e-3), moms=moms)"
   ]
  },
  {
   "cell_type": "code",
   "execution_count": 163,
   "metadata": {},
   "outputs": [],
   "source": [
    "#save weights from classifier model\n",
    "learn2.save_encoder('classifier_weights_001')"
   ]
  },
  {
   "cell_type": "code",
   "execution_count": 161,
   "metadata": {},
   "outputs": [
    {
     "data": {
      "text/plain": [
       "SequentialRNN(\n",
       "  (0): MultiBatchEncoder(\n",
       "    (module): AWD_LSTM(\n",
       "      (encoder): Embedding(46365, 400, padding_idx=1)\n",
       "      (encoder_dp): EmbeddingDropout(\n",
       "        (emb): Embedding(46365, 400, padding_idx=1)\n",
       "      )\n",
       "      (rnns): ModuleList(\n",
       "        (0): WeightDropout(\n",
       "          (module): LSTM(400, 1150, batch_first=True)\n",
       "        )\n",
       "        (1): WeightDropout(\n",
       "          (module): LSTM(1150, 1150, batch_first=True)\n",
       "        )\n",
       "        (2): WeightDropout(\n",
       "          (module): LSTM(1150, 400, batch_first=True)\n",
       "        )\n",
       "      )\n",
       "      (input_dp): RNNDropout()\n",
       "      (hidden_dps): ModuleList(\n",
       "        (0): RNNDropout()\n",
       "        (1): RNNDropout()\n",
       "        (2): RNNDropout()\n",
       "      )\n",
       "    )\n",
       "  )\n",
       "  (1): PoolingLinearClassifier(\n",
       "    (layers): Sequential(\n",
       "      (0): BatchNorm1d(1200, eps=1e-05, momentum=0.1, affine=True, track_running_stats=True)\n",
       "      (1): Dropout(p=0.4)\n",
       "      (2): Linear(in_features=1200, out_features=50, bias=True)\n",
       "      (3): ReLU(inplace)\n",
       "      (4): BatchNorm1d(50, eps=1e-05, momentum=0.1, affine=True, track_running_stats=True)\n",
       "      (5): Dropout(p=0.1)\n",
       "      (6): Linear(in_features=50, out_features=3, bias=True)\n",
       "    )\n",
       "  )\n",
       ")"
      ]
     },
     "execution_count": 161,
     "metadata": {},
     "output_type": "execute_result"
    }
   ],
   "source": [
    "#The AWD-LSTM model backbone, with a linear classifier head\n",
    "learn2.model"
   ]
  },
  {
   "cell_type": "markdown",
   "metadata": {},
   "source": [
    "# Get predictions on test set"
   ]
  },
  {
   "cell_type": "code",
   "execution_count": 157,
   "metadata": {},
   "outputs": [],
   "source": [
    "test_predictions=learn2.get_preds('Test')"
   ]
  },
  {
   "cell_type": "code",
   "execution_count": 158,
   "metadata": {},
   "outputs": [
    {
     "data": {
      "text/plain": [
       "tensor(0.8632)"
      ]
     },
     "execution_count": 158,
     "metadata": {},
     "output_type": "execute_result"
    }
   ],
   "source": [
    "accuracy(*test_predictions)"
   ]
  },
  {
   "cell_type": "code",
   "execution_count": null,
   "metadata": {},
   "outputs": [],
   "source": []
  },
  {
   "cell_type": "code",
   "execution_count": null,
   "metadata": {},
   "outputs": [],
   "source": []
  }
 ],
 "metadata": {
  "kernelspec": {
   "display_name": "Python 3",
   "language": "python",
   "name": "python3"
  },
  "language_info": {
   "codemirror_mode": {
    "name": "ipython",
    "version": 3
   },
   "file_extension": ".py",
   "mimetype": "text/x-python",
   "name": "python",
   "nbconvert_exporter": "python",
   "pygments_lexer": "ipython3",
   "version": "3.7.1"
  }
 },
 "nbformat": 4,
 "nbformat_minor": 2
}
