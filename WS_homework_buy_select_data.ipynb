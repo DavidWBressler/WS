{
 "cells": [
  {
   "cell_type": "code",
   "execution_count": 2,
   "metadata": {},
   "outputs": [
    {
     "name": "stdout",
     "output_type": "stream",
     "text": [
      "/notebooks\n"
     ]
    }
   ],
   "source": [
    "cd /notebooks/"
   ]
  },
  {
   "cell_type": "code",
   "execution_count": 3,
   "metadata": {},
   "outputs": [
    {
     "name": "stdout",
     "output_type": "stream",
     "text": [
      "Pixiedust database opened successfully\n"
     ]
    },
    {
     "data": {
      "text/html": [
       "\n",
       "        <div style=\"margin:10px\">\n",
       "            <a href=\"https://github.com/ibm-watson-data-lab/pixiedust\" target=\"_new\">\n",
       "                <img src=\"https://github.com/ibm-watson-data-lab/pixiedust/raw/master/docs/_static/pd_icon32.png\" style=\"float:left;margin-right:10px\"/>\n",
       "            </a>\n",
       "            <span>Pixiedust version 1.1.15</span>\n",
       "        </div>\n",
       "        "
      ],
      "text/plain": [
       "<IPython.core.display.HTML object>"
      ]
     },
     "metadata": {},
     "output_type": "display_data"
    }
   ],
   "source": [
    "from fastai import *\n",
    "from fastai.text import *   # Quick accesss to NLP functionality\n",
    "\n",
    "import torch.utils.data as data_utils\n",
    "from torch.utils.data.dataset import Dataset\n",
    "from torch.utils.data.sampler import Sampler\n",
    "from torch.autograd import Variable\n",
    "\n",
    "import time\n",
    "import importlib\n",
    "import pixiedust\n",
    "import spacy"
   ]
  },
  {
   "cell_type": "code",
   "execution_count": 4,
   "metadata": {},
   "outputs": [],
   "source": [
    "DATAPATH = Path('/data/WS/')\n",
    "PATH = Path('/data/sav/WS/')"
   ]
  },
  {
   "cell_type": "code",
   "execution_count": 4,
   "metadata": {},
   "outputs": [
    {
     "name": "stdout",
     "output_type": "stream",
     "text": [
      "download: s3://dbressbuck/data/WS/evaluate.csv to ../data/WS/evaluate.csv\n",
      "download: s3://dbressbuck/data/WS/train.csv to ../data/WS/train.csv\n",
      "download: s3://dbressbuck/data/WS/classifier_weights_001.pth to ../data/WS/classifier_weights_001.pth\n",
      "download: s3://dbressbuck/data/WS/sent140_training.csv to ../data/WS/sent140_training.csv\n"
     ]
    }
   ],
   "source": [
    "#DOWNLOAD THE DATA\n",
    "!aws s3 cp --recursive s3://dbressbuck/data/WS /data/WS"
   ]
  },
  {
   "cell_type": "markdown",
   "metadata": {},
   "source": [
    "# Preprocess the data"
   ]
  },
  {
   "cell_type": "code",
   "execution_count": 49,
   "metadata": {},
   "outputs": [
    {
     "name": "stdout",
     "output_type": "stream",
     "text": [
      "(750000, 2)\n",
      "         sentiment                                            content\n",
      "477646           0  todays plans have been messed up as now not fe...\n",
      "133647           0  Nose is completely stuffed and throat is sore ...\n",
      "1196363          4                             Zero tolerence policy \n",
      "64522            0  How in the name of all that is holy did it get...\n",
      "523066           0  @tlmasonaea I wish I could, but I live a bit t...\n"
     ]
    }
   ],
   "source": [
    "#load data, look at size of training sets and test set, look at some samples\n",
    "df_trn = pd.read_csv(DATAPATH/'sent140_training.csv',encoding = \"ISO-8859-1\",names=['sentiment', 'id', 'date','flag','user','content'])\n",
    "df_trn= df_trn[['sentiment','content']]\n",
    "get_these=np.random.permutation(np.shape(df_trn)[0])\n",
    "df_trn=df_trn.iloc[get_these[:750000]]#take a sample of 750K, due to time constraints\n",
    "\n",
    "print(np.shape(df_trn))\n",
    "print(df_trn.head())"
   ]
  },
  {
   "cell_type": "code",
   "execution_count": 50,
   "metadata": {},
   "outputs": [
    {
     "name": "stdout",
     "output_type": "stream",
     "text": [
      "(743815, 2)\n"
     ]
    },
    {
     "data": {
      "text/html": [
       "<div>\n",
       "<style scoped>\n",
       "    .dataframe tbody tr th:only-of-type {\n",
       "        vertical-align: middle;\n",
       "    }\n",
       "\n",
       "    .dataframe tbody tr th {\n",
       "        vertical-align: top;\n",
       "    }\n",
       "\n",
       "    .dataframe thead th {\n",
       "        text-align: right;\n",
       "    }\n",
       "</style>\n",
       "<table border=\"1\" class=\"dataframe\">\n",
       "  <thead>\n",
       "    <tr style=\"text-align: right;\">\n",
       "      <th></th>\n",
       "      <th>sentiment</th>\n",
       "      <th>content</th>\n",
       "    </tr>\n",
       "  </thead>\n",
       "  <tbody>\n",
       "    <tr>\n",
       "      <th>132481</th>\n",
       "      <td>0</td>\n",
       "      <td>Headache</td>\n",
       "    </tr>\n",
       "    <tr>\n",
       "      <th>340713</th>\n",
       "      <td>0</td>\n",
       "      <td>isPlayer Has Died! Sorry</td>\n",
       "    </tr>\n",
       "    <tr>\n",
       "      <th>498708</th>\n",
       "      <td>0</td>\n",
       "      <td>I miss you</td>\n",
       "    </tr>\n",
       "    <tr>\n",
       "      <th>220156</th>\n",
       "      <td>0</td>\n",
       "      <td>I have a headache</td>\n",
       "    </tr>\n",
       "    <tr>\n",
       "      <th>650089</th>\n",
       "      <td>0</td>\n",
       "      <td>Jogging, isnt REALLY that cool, especially if ...</td>\n",
       "    </tr>\n",
       "  </tbody>\n",
       "</table>\n",
       "</div>"
      ],
      "text/plain": [
       "        sentiment                                            content\n",
       "132481          0                                          Headache \n",
       "340713          0                          isPlayer Has Died! Sorry \n",
       "498708          0                                        I miss you \n",
       "220156          0                                 I have a headache \n",
       "650089          0  Jogging, isnt REALLY that cool, especially if ..."
      ]
     },
     "execution_count": 50,
     "metadata": {},
     "output_type": "execute_result"
    }
   ],
   "source": [
    "#there are some duplicate tweets... Take a quick look at them\n",
    "print(np.shape(df_trn[~df_trn['content'].duplicated()]))\n",
    "df_duplicated=df_trn[df_trn['content'].duplicated()]\n",
    "df_duplicated.head()"
   ]
  },
  {
   "cell_type": "code",
   "execution_count": 51,
   "metadata": {},
   "outputs": [
    {
     "name": "stdout",
     "output_type": "stream",
     "text": [
      "(743815, 2)\n"
     ]
    }
   ],
   "source": [
    "#remove duplicates... no reason to include these in training\n",
    "df_trn=df_trn[~df_trn['content'].duplicated()]\n",
    "print(np.shape(df_trn))"
   ]
  },
  {
   "cell_type": "code",
   "execution_count": 52,
   "metadata": {},
   "outputs": [
    {
     "name": "stdout",
     "output_type": "stream",
     "text": [
      "         sentiment                                            content  str_len\n",
      "477646           0  todays plans have been messed up as now not fe...      101\n",
      "133647           0  Nose is completely stuffed and throat is sore ...       85\n",
      "1196363          4                             Zero tolerence policy        22\n",
      "64522            0  How in the name of all that is holy did it get...       58\n",
      "523066           0  @tlmasonaea I wish I could, but I live a bit t...       62\n"
     ]
    },
    {
     "data": {
      "text/plain": [
       "array([[<matplotlib.axes._subplots.AxesSubplot object at 0x7f3a484273c8>]], dtype=object)"
      ]
     },
     "execution_count": 52,
     "metadata": {},
     "output_type": "execute_result"
    },
    {
     "data": {
      "image/png": "[encoded data removed]",
      "text/plain": [
       "<Figure size 432x288 with 1 Axes>"
      ]
     },
     "metadata": {
      "needs_background": "light"
     },
     "output_type": "display_data"
    }
   ],
   "source": [
    "#create column to take a look at length of tweets, and create graph of distribution\n",
    "df_trn['str_len']=df_trn['content'].str.len()\n",
    "print(df_trn.head())\n",
    "df_trn.hist(column='str_len', bins=100)"
   ]
  },
  {
   "cell_type": "code",
   "execution_count": 53,
   "metadata": {},
   "outputs": [],
   "source": [
    "#Time permitting, investigate if there's anything peculiar \n",
    "    #about the spike at the right side of the graph above"
   ]
  },
  {
   "cell_type": "code",
   "execution_count": 54,
   "metadata": {},
   "outputs": [
    {
     "name": "stdout",
     "output_type": "stream",
     "text": [
      "[0 4]\n"
     ]
    },
    {
     "data": {
      "text/plain": [
       "(array([371759.,      0.,      0.,      0.,      0.,      0.,      0.,      0.,      0., 372056.]),\n",
       " array([0. , 0.4, 0.8, 1.2, 1.6, 2. , 2.4, 2.8, 3.2, 3.6, 4. ]),\n",
       " <a list of 10 Patch objects>)"
      ]
     },
     "execution_count": 54,
     "metadata": {},
     "output_type": "execute_result"
    },
    {
     "data": {
      "image/png": "[encoded data removed]",
      "text/plain": [
       "<Figure size 432x288 with 1 Axes>"
      ]
     },
     "metadata": {
      "needs_background": "light"
     },
     "output_type": "display_data"
    }
   ],
   "source": [
    "#look at distribution of labels... \n",
    "#2 categories, approximately equal number each\n",
    "print(df_trn['sentiment'].unique()) #unique labels\n",
    "plt.hist(list(df_trn['sentiment']))"
   ]
  },
  {
   "cell_type": "markdown",
   "metadata": {},
   "source": [
    "# Build new training set for semi-supervised learning"
   ]
  },
  {
   "cell_type": "markdown",
   "metadata": {},
   "source": [
    "### Goal: simulate common situation of: 1) Small labeled dataset, 2) Much larger unlabeled dataset"
   ]
  },
  {
   "cell_type": "code",
   "execution_count": 72,
   "metadata": {},
   "outputs": [
    {
     "name": "stdout",
     "output_type": "stream",
     "text": [
      "labeled set size: 14876\n",
      "unlabeled set size: 728939\n"
     ]
    }
   ],
   "source": [
    "#grab 2% of the dataset as our labeled dataset\n",
    "#the other 98% will serve as our 'unlabeled dataset'\n",
    "    #but we'll still keep the labels\n",
    "get_these=np.random.permutation(np.shape(df_trn)[0])\n",
    "split_here=round(.02*np.shape(df_trn)[0])\n",
    "df_labeled=df_trn.iloc[get_these[:split_here]]\n",
    "df_unlabeled=df_trn.iloc[get_these[split_here:]]\n",
    "print('labeled set size:', np.shape(df_labeled)[0])\n",
    "print('unlabeled set size:',np.shape(df_unlabeled)[0])\n",
    "assert np.shape(df_labeled)[0]+np.shape(df_unlabeled)[0]==np.shape(df_trn)[0], 'lengths dont add up'\n"
   ]
  },
  {
   "cell_type": "code",
   "execution_count": 73,
   "metadata": {},
   "outputs": [
    {
     "name": "stdout",
     "output_type": "stream",
     "text": [
      "test set size: 2231\n",
      "valid set size: 2232\n",
      "train set size: 10413\n",
      "larger set size: 739352\n"
     ]
    },
    {
     "name": "stderr",
     "output_type": "stream",
     "text": [
      "/opt/conda/lib/python3.7/site-packages/ipykernel_launcher.py:15: SettingWithCopyWarning: \n",
      "A value is trying to be set on a copy of a slice from a DataFrame.\n",
      "Try using .loc[row_indexer,col_indexer] = value instead\n",
      "\n",
      "See the caveats in the documentation: http://pandas.pydata.org/pandas-docs/stable/indexing.html#indexing-view-versus-copy\n",
      "  from ipykernel import kernelapp as app\n",
      "/opt/conda/lib/python3.7/site-packages/ipykernel_launcher.py:16: SettingWithCopyWarning: \n",
      "A value is trying to be set on a copy of a slice from a DataFrame.\n",
      "Try using .loc[row_indexer,col_indexer] = value instead\n",
      "\n",
      "See the caveats in the documentation: http://pandas.pydata.org/pandas-docs/stable/indexing.html#indexing-view-versus-copy\n",
      "  app.launch_new_instance()\n",
      "/opt/conda/lib/python3.7/site-packages/ipykernel_launcher.py:17: SettingWithCopyWarning: \n",
      "A value is trying to be set on a copy of a slice from a DataFrame.\n",
      "Try using .loc[row_indexer,col_indexer] = value instead\n",
      "\n",
      "See the caveats in the documentation: http://pandas.pydata.org/pandas-docs/stable/indexing.html#indexing-view-versus-copy\n"
     ]
    }
   ],
   "source": [
    "#create train, valid, and test set from labeled data\n",
    "get_these=np.random.permutation(np.shape(df_labeled)[0])\n",
    "split_here1=round(.15*np.shape(df_labeled)[0])\n",
    "split_here2=round(.3*np.shape(df_labeled)[0])\n",
    "df_labeled_test=df_labeled.iloc[get_these[:split_here1]]\n",
    "df_labeled_valid=df_labeled.iloc[get_these[split_here1:split_here2]]\n",
    "df_labeled_trn=df_labeled.iloc[get_these[split_here2:]]\n",
    "print('test set size:', np.shape(df_labeled_test)[0])\n",
    "print('valid set size:', np.shape(df_labeled_valid)[0])\n",
    "print('train set size:',np.shape(df_labeled_trn)[0])\n",
    "assert np.shape(df_labeled_test)[0]+np.shape(df_labeled_valid)[0]+np.shape(df_labeled_trn)[0]==np.shape(df_labeled)[0], 'lengths dont add up'\n",
    "\n",
    "\n",
    "\n",
    "df_labeled_valid['is_valid']=1\n",
    "df_labeled_trn['is_valid']=0\n",
    "df_unlabeled['is_valid']=0\n",
    "\n",
    "#create a dataset made of df_labeled_trn and df_unlabeled\n",
    "#this simulates situation where we have a much larger set of labeled data\n",
    "df_large=pd.concat([df_labeled_trn,df_unlabeled])\n",
    "\n",
    "print('larger set size:',np.shape(df_large)[0])\n",
    "\n"
   ]
  },
  {
   "cell_type": "code",
   "execution_count": 74,
   "metadata": {},
   "outputs": [
    {
     "name": "stdout",
     "output_type": "stream",
     "text": [
      "         sentiment                                            content  \\\n",
      "877259           4  Talk about Different  I like this one  ? http:...   \n",
      "1434762          4  Got a job at KFC, taking in some new hobbies, ...   \n",
      "139399           0  @HeathCastor I dunno? I never been to a club. ...   \n",
      "53857            0                                 My phone is dying    \n",
      "976136           4                  is watching ellen degeneres show    \n",
      "\n",
      "         str_len  is_valid  \n",
      "877259        62         0  \n",
      "1434762       84         0  \n",
      "139399       116         0  \n",
      "53857         18         0  \n",
      "976136        33         0  \n",
      "         sentiment                                            content  \\\n",
      "299472           0  Ditching school. Im gonna sleep. =P LOL. Watch...   \n",
      "611166           0  @bear_smooter Even with a bottle of wine? That...   \n",
      "777080           0  Running the M/V Donald Creppel *sigh* for the ...   \n",
      "1414226          4  @myMisericordia oH I would love to see the dog...   \n",
      "1109583          4  What a perfect day... Sunshine, 23'C, 4-5 Bft ...   \n",
      "\n",
      "         str_len  is_valid  \n",
      "299472        91         0  \n",
      "611166        58         0  \n",
      "777080       112         0  \n",
      "1414226       63         0  \n",
      "1109583      137         0  \n",
      "size of each sample: 12645\n"
     ]
    }
   ],
   "source": [
    "#For tri-training, we need 3 bootstrapped samples from the labeled train set\n",
    "#That is, we need random sampling with replacement\n",
    "sample_n=np.shape(df_labeled_trn)[0]\n",
    "\n",
    "df_labeled_trn_s1=df_labeled_trn.sample(n=sample_n,replace=True)\n",
    "df_labeled_trn_s2=df_labeled_trn.sample(n=sample_n,replace=True)\n",
    "df_labeled_trn_s3=df_labeled_trn.sample(n=sample_n,replace=True)\n",
    "\n",
    "#add in the validation set\n",
    "df_labeled_trn_s1=pd.concat([df_labeled_trn_s1,df_labeled_valid])\n",
    "df_labeled_trn_s2=pd.concat([df_labeled_trn_s2,df_labeled_valid])\n",
    "df_labeled_trn_s3=pd.concat([df_labeled_trn_s3,df_labeled_valid])\n",
    "df_large=pd.concat([df_large,df_labeled_valid])\n",
    "\n",
    "print(df_labeled_trn_s1.head())\n",
    "print(df_labeled_trn_s2.head())\n",
    "\n",
    "print('size of each sample:',np.shape(df_labeled_trn_s1)[0])\n",
    "\n",
    "assert np.shape(df_labeled_trn_s1)[0]==np.shape(df_labeled_trn_s2)[0]\n",
    "assert np.shape(df_labeled_trn_s1)[0]==np.shape(df_labeled_trn_s3)[0]\n",
    "\n"
   ]
  },
  {
   "cell_type": "code",
   "execution_count": 75,
   "metadata": {},
   "outputs": [],
   "source": [
    "#Save all of our datasets!\n",
    "\n",
    "df_trn.to_csv(DATAPATH/'df_full.csv', index=False)\n",
    "df_large.to_csv(DATAPATH/'df_large.csv', index=False)\n",
    "\n",
    "df_labeled.to_csv(DATAPATH/'df_labeled.csv', index=False)\n",
    "df_unlabeled.to_csv(DATAPATH/'df_unlabeled.csv', index=False)\n",
    "\n",
    "df_labeled_trn.to_csv(DATAPATH/'train_labeled.csv', index=False)\n",
    "df_labeled_valid.to_csv(DATAPATH/'valid_labeled.csv', index=False)\n",
    "df_labeled_test.to_csv(DATAPATH/'test_labeled.csv', index=False)\n",
    "\n",
    "df_labeled_trn_s1.to_csv(DATAPATH/'train_labeled_s1.csv', index=False)\n",
    "df_labeled_trn_s2.to_csv(DATAPATH/'train_labeled_s2.csv', index=False)\n",
    "df_labeled_trn_s3.to_csv(DATAPATH/'train_labeled_s3.csv', index=False)\n",
    "\n",
    "\n"
   ]
  },
  {
   "cell_type": "code",
   "execution_count": null,
   "metadata": {},
   "outputs": [],
   "source": []
  },
  {
   "cell_type": "markdown",
   "metadata": {},
   "source": [
    "# Build and run language model on the full dataset"
   ]
  },
  {
   "cell_type": "code",
   "execution_count": 57,
   "metadata": {},
   "outputs": [],
   "source": [
    "#set momentum values\n",
    "moms = (0.8,0.7)"
   ]
  },
  {
   "cell_type": "code",
   "execution_count": 58,
   "metadata": {},
   "outputs": [],
   "source": [
    "#language model data object\n",
    "data_lm = TextLMDataBunch.from_csv(DATAPATH, 'df_full.csv')"
   ]
  },
  {
   "cell_type": "code",
   "execution_count": 59,
   "metadata": {},
   "outputs": [
    {
     "data": {
      "text/html": [
       "<table border=\"1\" class=\"dataframe\">\n",
       "  <thead>\n",
       "    <tr style=\"text-align: left;\">\n",
       "      <th>epoch</th>\n",
       "      <th>train_loss</th>\n",
       "      <th>valid_loss</th>\n",
       "      <th>accuracy</th>\n",
       "      <th>time</th>\n",
       "    </tr>\n",
       "  </thead>\n",
       "  <tbody>\n",
       "    <tr>\n",
       "      <td>0</td>\n",
       "      <td>4.498345</td>\n",
       "      <td>4.264409</td>\n",
       "      <td>0.251641</td>\n",
       "      <td>13:58</td>\n",
       "    </tr>\n",
       "    <tr>\n",
       "      <td>1</td>\n",
       "      <td>4.341630</td>\n",
       "      <td>4.138883</td>\n",
       "      <td>0.265268</td>\n",
       "      <td>13:56</td>\n",
       "    </tr>\n",
       "    <tr>\n",
       "      <td>2</td>\n",
       "      <td>4.232799</td>\n",
       "      <td>4.069581</td>\n",
       "      <td>0.272389</td>\n",
       "      <td>13:59</td>\n",
       "    </tr>\n",
       "    <tr>\n",
       "      <td>3</td>\n",
       "      <td>4.140287</td>\n",
       "      <td>4.050951</td>\n",
       "      <td>0.274442</td>\n",
       "      <td>13:59</td>\n",
       "    </tr>\n",
       "  </tbody>\n",
       "</table>"
      ],
      "text/plain": [
       "<IPython.core.display.HTML object>"
      ]
     },
     "metadata": {},
     "output_type": "display_data"
    }
   ],
   "source": [
    "#This is using fast.ai's pretrained language model:\n",
    "#Model pretrained on wikitext103 dataset: \n",
    "    #https://blog.einstein.ai/the-wikitext-long-term-dependency-language-modeling-dataset/\n",
    "    #~100M tokens, ~270K vocab\n",
    "#Model based on Merity/Socher's AWD-LSTM quasi-recurrent neural network (QRNN)\n",
    "    #https://arxiv.org/abs/1708.02182\n",
    "learn = language_model_learner(data_lm, AWD_LSTM)\n",
    "learn.unfreeze()\n",
    "learn.fit_one_cycle(4, slice(1e-2), moms=moms)"
   ]
  },
  {
   "cell_type": "code",
   "execution_count": 61,
   "metadata": {},
   "outputs": [],
   "source": [
    "#save weights from language model\n",
    "learn.save_encoder('enc_LM_sent140')\n",
    "itos=data_lm.train_ds.vocab.itos# the vocab\n",
    "pickle.dump(itos, open(DATAPATH/'itos.pkl', 'wb'))#save the vocab\n",
    "#itos2 = pickle.load(open(DATAPATH/'itos.pkl', 'rb')) #load the vocab\n"
   ]
  },
  {
   "cell_type": "markdown",
   "metadata": {},
   "source": [
    "# Build and run first round of classification models for tri-training"
   ]
  },
  {
   "cell_type": "markdown",
   "metadata": {},
   "source": [
    "### This involves building and training three separate models, each based on one of the samples"
   ]
  },
  {
   "cell_type": "code",
   "execution_count": 563,
   "metadata": {},
   "outputs": [],
   "source": [
    "#create datasets for classification models\n",
    "\n",
    "#First some preprocessing for main training set:\n",
    "df_test=pd.read_csv(DATAPATH/'valid_labeled.csv')\n",
    "df_test['is_valid']=1\n",
    "df_tmp = pd.read_csv(DATAPATH/'train_labeled.csv')\n",
    "df_tmp['is_valid']=0\n",
    "df_tmp=pd.concat([df_tmp,df_test])\n",
    "df_tmp.to_csv(DATAPATH/'df_tmp.csv', index=False)\n",
    "tmplist=TextList.from_csv(DATAPATH, 'df_tmp.csv', cols='content', vocab=data_lm.train_ds.vocab)\n",
    "data_clas_main = (tmplist\n",
    "                .split_from_df(col='is_valid')\n",
    "                .label_from_df(cols='sentiment')#.add_test(test_list)\n",
    "                .databunch(bs=40))\n",
    "\n",
    "\n",
    "\n",
    "#Now for the samples...\n",
    "text_train_list_s1=TextList.from_csv(DATAPATH, 'train_labeled_s1.csv', cols='content', vocab=data_lm.train_ds.vocab)\n",
    "text_train_list_s2=TextList.from_csv(DATAPATH, 'train_labeled_s2.csv', cols='content', vocab=data_lm.train_ds.vocab)\n",
    "text_train_list_s3=TextList.from_csv(DATAPATH, 'train_labeled_s3.csv', cols='content', vocab=data_lm.train_ds.vocab)\n",
    "text_test_list=TextList.from_csv(DATAPATH, 'test_labeled.csv', cols='content', vocab=data_lm.train_ds.vocab)\n",
    "\n",
    "text_large_list=TextList.from_csv(DATAPATH, 'df_large.csv', cols='content', vocab=data_lm.train_ds.vocab)\n",
    "\n",
    "#The datasets for the 3 samples\n",
    "data_clas_s1 = (text_train_list_s1\n",
    "                .split_from_df(col='is_valid')\n",
    "                .label_from_df(cols='sentiment')\n",
    "                .add_test(text_test_list)\n",
    "                .databunch(bs=40))\n",
    "\n",
    "data_clas_s2 = (text_train_list_s2\n",
    "                .split_from_df(col='is_valid')\n",
    "                .label_from_df(cols='sentiment')\n",
    "                .add_test(text_test_list)\n",
    "                .databunch(bs=40))\n",
    "\n",
    "data_clas_s3 = (text_train_list_s3\n",
    "                .split_from_df(col='is_valid')\n",
    "                .label_from_df(cols='sentiment')\n",
    "                .add_test(text_test_list)\n",
    "                .databunch(bs=40))\n",
    "\n",
    "#Data for the much larger dataset\n",
    "data_clas_large = (text_large_list\n",
    "                .split_from_df(col='is_valid')\n",
    "                .label_from_df(cols='sentiment')\n",
    "                .add_test(text_test_list)\n",
    "                .databunch(bs=40))\n"
   ]
  },
  {
   "cell_type": "code",
   "execution_count": 77,
   "metadata": {},
   "outputs": [
    {
     "data": {
      "text/html": [
       "<table border=\"1\" class=\"dataframe\">\n",
       "  <thead>\n",
       "    <tr style=\"text-align: left;\">\n",
       "      <th>epoch</th>\n",
       "      <th>train_loss</th>\n",
       "      <th>valid_loss</th>\n",
       "      <th>accuracy</th>\n",
       "      <th>time</th>\n",
       "    </tr>\n",
       "  </thead>\n",
       "  <tbody>\n",
       "    <tr>\n",
       "      <td>0</td>\n",
       "      <td>0.557100</td>\n",
       "      <td>0.473547</td>\n",
       "      <td>0.778674</td>\n",
       "      <td>00:10</td>\n",
       "    </tr>\n",
       "    <tr>\n",
       "      <td>1</td>\n",
       "      <td>0.538399</td>\n",
       "      <td>0.469144</td>\n",
       "      <td>0.786290</td>\n",
       "      <td>00:10</td>\n",
       "    </tr>\n",
       "    <tr>\n",
       "      <td>2</td>\n",
       "      <td>0.528870</td>\n",
       "      <td>0.458265</td>\n",
       "      <td>0.793011</td>\n",
       "      <td>00:10</td>\n",
       "    </tr>\n",
       "    <tr>\n",
       "      <td>3</td>\n",
       "      <td>0.522673</td>\n",
       "      <td>0.450327</td>\n",
       "      <td>0.797043</td>\n",
       "      <td>00:10</td>\n",
       "    </tr>\n",
       "  </tbody>\n",
       "</table>"
      ],
      "text/plain": [
       "<IPython.core.display.HTML object>"
      ]
     },
     "metadata": {},
     "output_type": "display_data"
    }
   ],
   "source": [
    "#Classification model based on Howard/Ruder's ULMFiT approach:\n",
    "    #https://arxiv.org/abs/1801.06146\n",
    "#Start with pretrained LM and fine-tune on dataset as above\n",
    "#Keep the LM's \"encoder\" spine, but replace the head of the NN with a new network that predicts class\n",
    "#This approach utilizes transfer learning to enhance the classifier's performance\n",
    "#Also using one_cycle superconvergence: modify the learning rate and momentum value during training\n",
    "    #Ramp up then down the LR, while ramping down then up the momentum\n",
    "    #Significantly reduces training time and improves performance\n",
    "    #From Leslie Smith's paper: https://arxiv.org/pdf/1803.09820.pdf\n",
    "\n",
    "learn = text_classifier_learner(data_clas_s1, AWD_LSTM)\n",
    "learn.load_encoder('enc_LM_sent140')#load in the weights from the LM encoder\n",
    "learn.fit_one_cycle(4, moms=moms)\n"
   ]
  },
  {
   "cell_type": "code",
   "execution_count": 78,
   "metadata": {},
   "outputs": [
    {
     "data": {
      "text/html": [
       "<table border=\"1\" class=\"dataframe\">\n",
       "  <thead>\n",
       "    <tr style=\"text-align: left;\">\n",
       "      <th>epoch</th>\n",
       "      <th>train_loss</th>\n",
       "      <th>valid_loss</th>\n",
       "      <th>accuracy</th>\n",
       "      <th>time</th>\n",
       "    </tr>\n",
       "  </thead>\n",
       "  <tbody>\n",
       "    <tr>\n",
       "      <td>0</td>\n",
       "      <td>0.504981</td>\n",
       "      <td>0.447752</td>\n",
       "      <td>0.795251</td>\n",
       "      <td>00:20</td>\n",
       "    </tr>\n",
       "    <tr>\n",
       "      <td>1</td>\n",
       "      <td>0.502337</td>\n",
       "      <td>0.441159</td>\n",
       "      <td>0.802419</td>\n",
       "      <td>00:20</td>\n",
       "    </tr>\n",
       "    <tr>\n",
       "      <td>2</td>\n",
       "      <td>0.485947</td>\n",
       "      <td>0.434843</td>\n",
       "      <td>0.806452</td>\n",
       "      <td>00:20</td>\n",
       "    </tr>\n",
       "    <tr>\n",
       "      <td>3</td>\n",
       "      <td>0.464925</td>\n",
       "      <td>0.430869</td>\n",
       "      <td>0.800179</td>\n",
       "      <td>00:19</td>\n",
       "    </tr>\n",
       "    <tr>\n",
       "      <td>4</td>\n",
       "      <td>0.478139</td>\n",
       "      <td>0.427724</td>\n",
       "      <td>0.801971</td>\n",
       "      <td>00:20</td>\n",
       "    </tr>\n",
       "    <tr>\n",
       "      <td>5</td>\n",
       "      <td>0.441130</td>\n",
       "      <td>0.423802</td>\n",
       "      <td>0.807796</td>\n",
       "      <td>00:20</td>\n",
       "    </tr>\n",
       "    <tr>\n",
       "      <td>6</td>\n",
       "      <td>0.435809</td>\n",
       "      <td>0.424800</td>\n",
       "      <td>0.805556</td>\n",
       "      <td>00:19</td>\n",
       "    </tr>\n",
       "    <tr>\n",
       "      <td>7</td>\n",
       "      <td>0.436540</td>\n",
       "      <td>0.423292</td>\n",
       "      <td>0.805556</td>\n",
       "      <td>00:19</td>\n",
       "    </tr>\n",
       "  </tbody>\n",
       "</table>"
      ],
      "text/plain": [
       "<IPython.core.display.HTML object>"
      ]
     },
     "metadata": {},
     "output_type": "display_data"
    }
   ],
   "source": [
    "#Unfreeze all the layers and continue training:\n",
    "#Above, all the layers except for the last layer is frozen\n",
    "    #Idea is that \"encoder\" spine from the LM is fairly well-tuned, so only need to train the classifier head\n",
    "#Once head has been trained, now we can train all the layers of the network\n",
    "learn.unfreeze()\n",
    "learn.fit_one_cycle(8, slice(1e-5,1e-3), moms=moms)\n",
    "learn.save('s1_12e_unfreeze_001')\n",
    "\n"
   ]
  },
  {
   "cell_type": "code",
   "execution_count": 79,
   "metadata": {},
   "outputs": [
    {
     "data": {
      "text/html": [
       "<table border=\"1\" class=\"dataframe\">\n",
       "  <thead>\n",
       "    <tr style=\"text-align: left;\">\n",
       "      <th>epoch</th>\n",
       "      <th>train_loss</th>\n",
       "      <th>valid_loss</th>\n",
       "      <th>accuracy</th>\n",
       "      <th>time</th>\n",
       "    </tr>\n",
       "  </thead>\n",
       "  <tbody>\n",
       "    <tr>\n",
       "      <td>0</td>\n",
       "      <td>0.553158</td>\n",
       "      <td>0.479018</td>\n",
       "      <td>0.780018</td>\n",
       "      <td>00:10</td>\n",
       "    </tr>\n",
       "    <tr>\n",
       "      <td>1</td>\n",
       "      <td>0.529465</td>\n",
       "      <td>0.456275</td>\n",
       "      <td>0.788979</td>\n",
       "      <td>00:10</td>\n",
       "    </tr>\n",
       "    <tr>\n",
       "      <td>2</td>\n",
       "      <td>0.511834</td>\n",
       "      <td>0.449919</td>\n",
       "      <td>0.791219</td>\n",
       "      <td>00:10</td>\n",
       "    </tr>\n",
       "    <tr>\n",
       "      <td>3</td>\n",
       "      <td>0.511102</td>\n",
       "      <td>0.446709</td>\n",
       "      <td>0.795699</td>\n",
       "      <td>00:10</td>\n",
       "    </tr>\n",
       "  </tbody>\n",
       "</table>"
      ],
      "text/plain": [
       "<IPython.core.display.HTML object>"
      ]
     },
     "metadata": {},
     "output_type": "display_data"
    },
    {
     "data": {
      "text/html": [
       "<table border=\"1\" class=\"dataframe\">\n",
       "  <thead>\n",
       "    <tr style=\"text-align: left;\">\n",
       "      <th>epoch</th>\n",
       "      <th>train_loss</th>\n",
       "      <th>valid_loss</th>\n",
       "      <th>accuracy</th>\n",
       "      <th>time</th>\n",
       "    </tr>\n",
       "  </thead>\n",
       "  <tbody>\n",
       "    <tr>\n",
       "      <td>0</td>\n",
       "      <td>0.512473</td>\n",
       "      <td>0.443832</td>\n",
       "      <td>0.798835</td>\n",
       "      <td>00:20</td>\n",
       "    </tr>\n",
       "    <tr>\n",
       "      <td>1</td>\n",
       "      <td>0.496623</td>\n",
       "      <td>0.444081</td>\n",
       "      <td>0.794803</td>\n",
       "      <td>00:19</td>\n",
       "    </tr>\n",
       "    <tr>\n",
       "      <td>2</td>\n",
       "      <td>0.498999</td>\n",
       "      <td>0.439865</td>\n",
       "      <td>0.799731</td>\n",
       "      <td>00:20</td>\n",
       "    </tr>\n",
       "    <tr>\n",
       "      <td>3</td>\n",
       "      <td>0.480570</td>\n",
       "      <td>0.436788</td>\n",
       "      <td>0.801075</td>\n",
       "      <td>00:20</td>\n",
       "    </tr>\n",
       "    <tr>\n",
       "      <td>4</td>\n",
       "      <td>0.471058</td>\n",
       "      <td>0.432162</td>\n",
       "      <td>0.799283</td>\n",
       "      <td>00:20</td>\n",
       "    </tr>\n",
       "    <tr>\n",
       "      <td>5</td>\n",
       "      <td>0.449307</td>\n",
       "      <td>0.433056</td>\n",
       "      <td>0.804659</td>\n",
       "      <td>00:20</td>\n",
       "    </tr>\n",
       "    <tr>\n",
       "      <td>6</td>\n",
       "      <td>0.441979</td>\n",
       "      <td>0.432702</td>\n",
       "      <td>0.798387</td>\n",
       "      <td>00:20</td>\n",
       "    </tr>\n",
       "    <tr>\n",
       "      <td>7</td>\n",
       "      <td>0.438534</td>\n",
       "      <td>0.431688</td>\n",
       "      <td>0.799283</td>\n",
       "      <td>00:19</td>\n",
       "    </tr>\n",
       "  </tbody>\n",
       "</table>"
      ],
      "text/plain": [
       "<IPython.core.display.HTML object>"
      ]
     },
     "metadata": {},
     "output_type": "display_data"
    }
   ],
   "source": [
    "#Do same for s2\n",
    "learn = text_classifier_learner(data_clas_s2, AWD_LSTM)\n",
    "learn.load_encoder('enc_LM_sent140')#load in the weights from the LM encoder\n",
    "learn.fit_one_cycle(4, moms=moms)\n",
    "learn.unfreeze()\n",
    "learn.fit_one_cycle(8, slice(1e-5,1e-3), moms=moms)\n",
    "learn.save('s2_12e_unfreeze_001')"
   ]
  },
  {
   "cell_type": "code",
   "execution_count": 80,
   "metadata": {},
   "outputs": [
    {
     "data": {
      "text/html": [
       "<table border=\"1\" class=\"dataframe\">\n",
       "  <thead>\n",
       "    <tr style=\"text-align: left;\">\n",
       "      <th>epoch</th>\n",
       "      <th>train_loss</th>\n",
       "      <th>valid_loss</th>\n",
       "      <th>accuracy</th>\n",
       "      <th>time</th>\n",
       "    </tr>\n",
       "  </thead>\n",
       "  <tbody>\n",
       "    <tr>\n",
       "      <td>0</td>\n",
       "      <td>0.562157</td>\n",
       "      <td>0.463909</td>\n",
       "      <td>0.788082</td>\n",
       "      <td>00:10</td>\n",
       "    </tr>\n",
       "    <tr>\n",
       "      <td>1</td>\n",
       "      <td>0.537904</td>\n",
       "      <td>0.463287</td>\n",
       "      <td>0.791219</td>\n",
       "      <td>00:10</td>\n",
       "    </tr>\n",
       "    <tr>\n",
       "      <td>2</td>\n",
       "      <td>0.531749</td>\n",
       "      <td>0.453772</td>\n",
       "      <td>0.801075</td>\n",
       "      <td>00:10</td>\n",
       "    </tr>\n",
       "    <tr>\n",
       "      <td>3</td>\n",
       "      <td>0.515903</td>\n",
       "      <td>0.447557</td>\n",
       "      <td>0.801523</td>\n",
       "      <td>00:10</td>\n",
       "    </tr>\n",
       "  </tbody>\n",
       "</table>"
      ],
      "text/plain": [
       "<IPython.core.display.HTML object>"
      ]
     },
     "metadata": {},
     "output_type": "display_data"
    },
    {
     "data": {
      "text/html": [
       "<table border=\"1\" class=\"dataframe\">\n",
       "  <thead>\n",
       "    <tr style=\"text-align: left;\">\n",
       "      <th>epoch</th>\n",
       "      <th>train_loss</th>\n",
       "      <th>valid_loss</th>\n",
       "      <th>accuracy</th>\n",
       "      <th>time</th>\n",
       "    </tr>\n",
       "  </thead>\n",
       "  <tbody>\n",
       "    <tr>\n",
       "      <td>0</td>\n",
       "      <td>0.505817</td>\n",
       "      <td>0.446676</td>\n",
       "      <td>0.799283</td>\n",
       "      <td>00:20</td>\n",
       "    </tr>\n",
       "    <tr>\n",
       "      <td>1</td>\n",
       "      <td>0.511284</td>\n",
       "      <td>0.441550</td>\n",
       "      <td>0.801075</td>\n",
       "      <td>00:19</td>\n",
       "    </tr>\n",
       "    <tr>\n",
       "      <td>2</td>\n",
       "      <td>0.505528</td>\n",
       "      <td>0.438899</td>\n",
       "      <td>0.801523</td>\n",
       "      <td>00:20</td>\n",
       "    </tr>\n",
       "    <tr>\n",
       "      <td>3</td>\n",
       "      <td>0.484266</td>\n",
       "      <td>0.431523</td>\n",
       "      <td>0.801523</td>\n",
       "      <td>00:20</td>\n",
       "    </tr>\n",
       "    <tr>\n",
       "      <td>4</td>\n",
       "      <td>0.476524</td>\n",
       "      <td>0.427838</td>\n",
       "      <td>0.803315</td>\n",
       "      <td>00:19</td>\n",
       "    </tr>\n",
       "    <tr>\n",
       "      <td>5</td>\n",
       "      <td>0.461210</td>\n",
       "      <td>0.424891</td>\n",
       "      <td>0.811828</td>\n",
       "      <td>00:19</td>\n",
       "    </tr>\n",
       "    <tr>\n",
       "      <td>6</td>\n",
       "      <td>0.437228</td>\n",
       "      <td>0.423725</td>\n",
       "      <td>0.808692</td>\n",
       "      <td>00:20</td>\n",
       "    </tr>\n",
       "    <tr>\n",
       "      <td>7</td>\n",
       "      <td>0.437958</td>\n",
       "      <td>0.423919</td>\n",
       "      <td>0.814964</td>\n",
       "      <td>00:20</td>\n",
       "    </tr>\n",
       "  </tbody>\n",
       "</table>"
      ],
      "text/plain": [
       "<IPython.core.display.HTML object>"
      ]
     },
     "metadata": {},
     "output_type": "display_data"
    }
   ],
   "source": [
    "#Do same for s3\n",
    "learn = text_classifier_learner(data_clas_s3, AWD_LSTM)\n",
    "learn.load_encoder('enc_LM_sent140')#load in the weights from the LM encoder\n",
    "learn.fit_one_cycle(4, moms=moms)\n",
    "learn.unfreeze()\n",
    "learn.fit_one_cycle(8, slice(1e-5,1e-3), moms=moms)\n",
    "learn.save('s3_12e_unfreeze_001')"
   ]
  },
  {
   "cell_type": "code",
   "execution_count": 81,
   "metadata": {},
   "outputs": [
    {
     "data": {
      "text/html": [
       "<table border=\"1\" class=\"dataframe\">\n",
       "  <thead>\n",
       "    <tr style=\"text-align: left;\">\n",
       "      <th>epoch</th>\n",
       "      <th>train_loss</th>\n",
       "      <th>valid_loss</th>\n",
       "      <th>accuracy</th>\n",
       "      <th>time</th>\n",
       "    </tr>\n",
       "  </thead>\n",
       "  <tbody>\n",
       "    <tr>\n",
       "      <td>0</td>\n",
       "      <td>0.513515</td>\n",
       "      <td>0.425657</td>\n",
       "      <td>0.809588</td>\n",
       "      <td>07:28</td>\n",
       "    </tr>\n",
       "    <tr>\n",
       "      <td>1</td>\n",
       "      <td>0.514032</td>\n",
       "      <td>0.416941</td>\n",
       "      <td>0.812276</td>\n",
       "      <td>07:32</td>\n",
       "    </tr>\n",
       "    <tr>\n",
       "      <td>2</td>\n",
       "      <td>0.496843</td>\n",
       "      <td>0.411278</td>\n",
       "      <td>0.814516</td>\n",
       "      <td>07:17</td>\n",
       "    </tr>\n",
       "    <tr>\n",
       "      <td>3</td>\n",
       "      <td>0.498127</td>\n",
       "      <td>0.408943</td>\n",
       "      <td>0.819892</td>\n",
       "      <td>07:23</td>\n",
       "    </tr>\n",
       "  </tbody>\n",
       "</table>"
      ],
      "text/plain": [
       "<IPython.core.display.HTML object>"
      ]
     },
     "metadata": {},
     "output_type": "display_data"
    },
    {
     "data": {
      "text/html": [
       "<table border=\"1\" class=\"dataframe\">\n",
       "  <thead>\n",
       "    <tr style=\"text-align: left;\">\n",
       "      <th>epoch</th>\n",
       "      <th>train_loss</th>\n",
       "      <th>valid_loss</th>\n",
       "      <th>accuracy</th>\n",
       "      <th>time</th>\n",
       "    </tr>\n",
       "  </thead>\n",
       "  <tbody>\n",
       "    <tr>\n",
       "      <td>0</td>\n",
       "      <td>0.473285</td>\n",
       "      <td>0.385465</td>\n",
       "      <td>0.823477</td>\n",
       "      <td>19:16</td>\n",
       "    </tr>\n",
       "    <tr>\n",
       "      <td>1</td>\n",
       "      <td>0.442043</td>\n",
       "      <td>0.363186</td>\n",
       "      <td>0.838262</td>\n",
       "      <td>18:46</td>\n",
       "    </tr>\n",
       "    <tr>\n",
       "      <td>2</td>\n",
       "      <td>0.396280</td>\n",
       "      <td>0.347553</td>\n",
       "      <td>0.848118</td>\n",
       "      <td>18:39</td>\n",
       "    </tr>\n",
       "    <tr>\n",
       "      <td>3</td>\n",
       "      <td>0.401837</td>\n",
       "      <td>0.337543</td>\n",
       "      <td>0.859767</td>\n",
       "      <td>18:27</td>\n",
       "    </tr>\n",
       "    <tr>\n",
       "      <td>4</td>\n",
       "      <td>0.386306</td>\n",
       "      <td>0.332238</td>\n",
       "      <td>0.861559</td>\n",
       "      <td>19:18</td>\n",
       "    </tr>\n",
       "    <tr>\n",
       "      <td>5</td>\n",
       "      <td>0.388812</td>\n",
       "      <td>0.331113</td>\n",
       "      <td>0.861111</td>\n",
       "      <td>19:01</td>\n",
       "    </tr>\n",
       "    <tr>\n",
       "      <td>6</td>\n",
       "      <td>0.383931</td>\n",
       "      <td>0.326626</td>\n",
       "      <td>0.864695</td>\n",
       "      <td>19:06</td>\n",
       "    </tr>\n",
       "    <tr>\n",
       "      <td>7</td>\n",
       "      <td>0.398179</td>\n",
       "      <td>0.325612</td>\n",
       "      <td>0.866935</td>\n",
       "      <td>18:28</td>\n",
       "    </tr>\n",
       "  </tbody>\n",
       "</table>"
      ],
      "text/plain": [
       "<IPython.core.display.HTML object>"
      ]
     },
     "metadata": {},
     "output_type": "display_data"
    }
   ],
   "source": [
    "#Do same for large... \n",
    "#This simulates the situation where we have a much larger fully labeled dataset to work with\n",
    "#Performance of this model is just being used as a benchmark...\n",
    "    #it should be an upper bound for how well we can do with a semi-supervised approach\n",
    "learn = text_classifier_learner(data_clas_large, AWD_LSTM)\n",
    "learn.load_encoder('enc_LM_sent140')#load in the weights from the LM encoder\n",
    "learn.fit_one_cycle(4, moms=moms)\n",
    "learn.unfreeze()\n",
    "learn.fit_one_cycle(8, slice(1e-5,1e-3), moms=moms)\n",
    "learn.save('large_12e_unfreeze_001')"
   ]
  },
  {
   "cell_type": "code",
   "execution_count": 63,
   "metadata": {},
   "outputs": [
    {
     "data": {
      "text/html": [
       "<table border=\"1\" class=\"dataframe\">\n",
       "  <thead>\n",
       "    <tr style=\"text-align: left;\">\n",
       "      <th>epoch</th>\n",
       "      <th>train_loss</th>\n",
       "      <th>valid_loss</th>\n",
       "      <th>accuracy</th>\n",
       "      <th>time</th>\n",
       "    </tr>\n",
       "  </thead>\n",
       "  <tbody>\n",
       "    <tr>\n",
       "      <td>0</td>\n",
       "      <td>0.550273</td>\n",
       "      <td>0.481037</td>\n",
       "      <td>0.775538</td>\n",
       "      <td>00:11</td>\n",
       "    </tr>\n",
       "    <tr>\n",
       "      <td>1</td>\n",
       "      <td>0.546122</td>\n",
       "      <td>0.460460</td>\n",
       "      <td>0.786290</td>\n",
       "      <td>00:11</td>\n",
       "    </tr>\n",
       "    <tr>\n",
       "      <td>2</td>\n",
       "      <td>0.528236</td>\n",
       "      <td>0.448869</td>\n",
       "      <td>0.791667</td>\n",
       "      <td>00:10</td>\n",
       "    </tr>\n",
       "    <tr>\n",
       "      <td>3</td>\n",
       "      <td>0.531728</td>\n",
       "      <td>0.443203</td>\n",
       "      <td>0.800627</td>\n",
       "      <td>00:11</td>\n",
       "    </tr>\n",
       "  </tbody>\n",
       "</table>"
      ],
      "text/plain": [
       "<IPython.core.display.HTML object>"
      ]
     },
     "metadata": {},
     "output_type": "display_data"
    },
    {
     "data": {
      "text/html": [
       "<table border=\"1\" class=\"dataframe\">\n",
       "  <thead>\n",
       "    <tr style=\"text-align: left;\">\n",
       "      <th>epoch</th>\n",
       "      <th>train_loss</th>\n",
       "      <th>valid_loss</th>\n",
       "      <th>accuracy</th>\n",
       "      <th>time</th>\n",
       "    </tr>\n",
       "  </thead>\n",
       "  <tbody>\n",
       "    <tr>\n",
       "      <td>0</td>\n",
       "      <td>0.523767</td>\n",
       "      <td>0.439798</td>\n",
       "      <td>0.801971</td>\n",
       "      <td>00:21</td>\n",
       "    </tr>\n",
       "    <tr>\n",
       "      <td>1</td>\n",
       "      <td>0.520413</td>\n",
       "      <td>0.436762</td>\n",
       "      <td>0.803315</td>\n",
       "      <td>00:20</td>\n",
       "    </tr>\n",
       "    <tr>\n",
       "      <td>2</td>\n",
       "      <td>0.500631</td>\n",
       "      <td>0.424167</td>\n",
       "      <td>0.812724</td>\n",
       "      <td>00:20</td>\n",
       "    </tr>\n",
       "    <tr>\n",
       "      <td>3</td>\n",
       "      <td>0.506463</td>\n",
       "      <td>0.422609</td>\n",
       "      <td>0.810484</td>\n",
       "      <td>00:21</td>\n",
       "    </tr>\n",
       "    <tr>\n",
       "      <td>4</td>\n",
       "      <td>0.491173</td>\n",
       "      <td>0.418874</td>\n",
       "      <td>0.811828</td>\n",
       "      <td>00:21</td>\n",
       "    </tr>\n",
       "    <tr>\n",
       "      <td>5</td>\n",
       "      <td>0.489887</td>\n",
       "      <td>0.418407</td>\n",
       "      <td>0.813172</td>\n",
       "      <td>00:20</td>\n",
       "    </tr>\n",
       "    <tr>\n",
       "      <td>6</td>\n",
       "      <td>0.463318</td>\n",
       "      <td>0.416468</td>\n",
       "      <td>0.812724</td>\n",
       "      <td>00:20</td>\n",
       "    </tr>\n",
       "    <tr>\n",
       "      <td>7</td>\n",
       "      <td>0.491464</td>\n",
       "      <td>0.413754</td>\n",
       "      <td>0.814964</td>\n",
       "      <td>00:20</td>\n",
       "    </tr>\n",
       "  </tbody>\n",
       "</table>"
      ],
      "text/plain": [
       "<IPython.core.display.HTML object>"
      ]
     },
     "metadata": {},
     "output_type": "display_data"
    }
   ],
   "source": [
    "#Do same for main (unsampled) training set... \n",
    "learn = text_classifier_learner(data_clas_main, AWD_LSTM)\n",
    "learn.load_encoder('enc_LM_sent140')#load in the weights from the LM encoder\n",
    "learn.fit_one_cycle(4, moms=moms)\n",
    "learn.unfreeze()\n",
    "learn.fit_one_cycle(8, slice(1e-5,1e-3), moms=moms)\n",
    "learn.save('main_12e_unfreeze_001')"
   ]
  },
  {
   "cell_type": "markdown",
   "metadata": {},
   "source": [
    "### Get predictions on unlabeled data from all three samples"
   ]
  },
  {
   "cell_type": "code",
   "execution_count": 64,
   "metadata": {},
   "outputs": [],
   "source": [
    "#Construct a data structure for making predictions on the unlabeled data\n",
    "df_test=pd.read_csv(DATAPATH/'df_unlabeled.csv')\n",
    "df_test['is_valid']=1\n",
    "\n",
    "df_tmp = pd.read_csv(DATAPATH/'train_labeled_s1.csv')\n",
    "df_tmp=df_tmp[df_tmp['is_valid']==0]\n",
    "df_tmp=pd.concat([df_tmp,df_test])\n",
    "\n",
    "df_tmp.to_csv(DATAPATH/'df_tmp.csv', index=False)\n",
    "tmplist=TextList.from_csv(DATAPATH, 'df_tmp.csv', cols='content', vocab=data_lm.train_ds.vocab)\n",
    "data_tmp = (tmplist\n",
    "                .split_from_df(col='is_valid')\n",
    "                .label_from_df(cols='sentiment')\n",
    "                .databunch(bs=40))\n",
    "\n"
   ]
  },
  {
   "cell_type": "code",
   "execution_count": 43,
   "metadata": {},
   "outputs": [],
   "source": [
    "#make predictions on the unlabeled data, for all three samples\n",
    "learn = text_classifier_learner(data_tmp, AWD_LSTM)\n",
    "learn.load('s1_12e_unfreeze_001')\n",
    "predictions_s1=learn.get_preds(DatasetType.Valid,ordered=True)\n",
    "pickle.dump(predictions_s1, open(DATAPATH/'predictions_s1.pkl', 'wb'))#save the predictions\n",
    "learn.load('s2_12e_unfreeze_001')\n",
    "predictions_s2=learn.get_preds(DatasetType.Valid,ordered=True)\n",
    "pickle.dump(predictions_s2, open(DATAPATH/'predictions_s2.pkl', 'wb'))#save the predictions\n",
    "learn.load('s3_12e_unfreeze_001')\n",
    "predictions_s3=learn.get_preds(DatasetType.Valid,ordered=True)\n",
    "pickle.dump(predictions_s3, open(DATAPATH/'predictions_s3.pkl', 'wb'))#save the predictions\n"
   ]
  },
  {
   "cell_type": "code",
   "execution_count": 65,
   "metadata": {},
   "outputs": [],
   "source": [
    "#make predictions on the unlabeled data, for the main data's model\n",
    "learn = text_classifier_learner(data_tmp, AWD_LSTM)\n",
    "learn.load('main_12e_unfreeze_001')\n",
    "predictions_main=learn.get_preds(DatasetType.Valid,ordered=True)\n",
    "pickle.dump(predictions_main, open(DATAPATH/'predictions_main.pkl', 'wb'))#save the predictions\n",
    "#predictions_main = pickle.load(open(DATAPATH/'predictions_main.pkl', 'rb')) #\n"
   ]
  },
  {
   "cell_type": "code",
   "execution_count": 45,
   "metadata": {},
   "outputs": [],
   "source": [
    "#convert prediction probabilities into np arrays, and concatenate\n",
    "predictions_probs=np.stack([predictions_s1[0].cpu().numpy()[:,0],\n",
    "                            predictions_s2[0].cpu().numpy()[:,0],\n",
    "                            predictions_s3[0].cpu().numpy()[:,0]],1)\n"
   ]
  },
  {
   "cell_type": "code",
   "execution_count": 46,
   "metadata": {
    "scrolled": true
   },
   "outputs": [],
   "source": [
    "#Do various pre-processing useful for deciding which unlabeled examples\n",
    "    # go to which samples\n",
    "\n",
    "#predictions for each of 3 samples\n",
    "predictions_predtargets=(predictions_probs>.5).astype(int)\n",
    "#average prediction\n",
    "ave_pred=np.mean(predictions_predtargets,axis=1)\n",
    "#get average probability over 3 samples:\n",
    "ave_prob=np.mean(predictions_probs,axis=1)\n",
    "#get standard deviation over 3 samples:\n",
    "std_prob=np.std(predictions_probs,axis=1)\n",
    "#get biggest differences bw ave of 2 and the third\n",
    "dif_prob_12m3=np.mean(predictions_probs[:,[0,1]],axis=1)-predictions_probs[:,2]\n",
    "dif_prob_13m2=np.mean(predictions_probs[:,[0,2]],axis=1)-predictions_probs[:,1]\n",
    "dif_prob_23m1=np.mean(predictions_probs[:,[1,2]],axis=1)-predictions_probs[:,0]\n",
    "#get individual samples probs\n",
    "s1_prediction_probs=predictions_probs[:,0]\n",
    "s2_prediction_probs=predictions_probs[:,1]\n",
    "s3_prediction_probs=predictions_probs[:,2]\n",
    "#get averages between pairings of 2 samples\n",
    "ave_prob12=np.mean(predictions_probs[:,[0,1]],axis=1)\n",
    "ave_prob13=np.mean(predictions_probs[:,[0,2]],axis=1)\n",
    "ave_prob23=np.mean(predictions_probs[:,[1,2]],axis=1)\n",
    "#set target to 1 or 0 based on ave_pred:\n",
    "ave_prob_target=np.round(ave_pred).astype('int')\n",
    "#get the indices of the max and min values\n",
    "probs_max_ind=np.argmax(predictions_probs,axis=1)\n",
    "probs_min_ind=np.argmin(predictions_probs,axis=1)\n"
   ]
  },
  {
   "cell_type": "code",
   "execution_count": 47,
   "metadata": {},
   "outputs": [
    {
     "name": "stdout",
     "output_type": "stream",
     "text": [
      "standard deviation between three models prediction labels:  0.04928733\n"
     ]
    },
    {
     "data": {
      "text/plain": [
       "(array([2.00000e+00, 4.00000e+00, 7.00000e+00, 1.10000e+01, 2.50000e+01, 4.60000e+01, 1.07000e+02, 1.62000e+02,\n",
       "        2.42000e+02, 4.66000e+02, 7.45000e+02, 1.23100e+03, 2.06000e+03, 3.54400e+03, 5.55200e+03, 9.04200e+03,\n",
       "        1.38700e+04, 2.11900e+04, 3.08680e+04, 4.37740e+04, 6.04790e+04, 7.90900e+04, 1.08859e+05, 8.47090e+04,\n",
       "        6.69870e+04, 5.31460e+04, 4.19600e+04, 3.12800e+04, 2.26760e+04, 1.59200e+04, 1.07640e+04, 7.08400e+03,\n",
       "        4.75800e+03, 3.28000e+03, 1.91100e+03, 1.23400e+03, 7.42000e+02, 4.56000e+02, 2.84000e+02, 1.50000e+02,\n",
       "        8.60000e+01, 4.70000e+01, 3.40000e+01, 2.00000e+01, 1.70000e+01, 4.00000e+00, 4.00000e+00, 2.00000e+00,\n",
       "        6.00000e+00, 2.00000e+00]),\n",
       " array([-0.532669, -0.509105, -0.48554 , -0.461975, ...,  0.574874,  0.598439,  0.622003,  0.645568], dtype=float32),\n",
       " <a list of 50 Patch objects>)"
      ]
     },
     "execution_count": 47,
     "metadata": {},
     "output_type": "execute_result"
    },
    {
     "data": {
      "image/png": "[encoded data removed]",
      "text/plain": [
       "<Figure size 432x288 with 1 Axes>"
      ]
     },
     "metadata": {
      "needs_background": "light"
     },
     "output_type": "display_data"
    }
   ],
   "source": [
    "# the difference in predicted label between\n",
    "    #a single sample and the average of the other two samples\n",
    "#The vast majority of generated predictions are very similar between the three models \n",
    "print('standard deviation between three models prediction labels: ',np.mean(np.std(predictions_probs,axis=1)))\n",
    "plt.hist(dif_prob_12m3,50)\n"
   ]
  },
  {
   "cell_type": "code",
   "execution_count": 71,
   "metadata": {},
   "outputs": [
    {
     "data": {
      "text/plain": [
       "(array([ 8918., 15396., 15408., 14118., ..., 12816., 13178., 12885.,  7376.]),\n",
       " array([2.631912e-04, 1.025930e-02, 2.025542e-02, 3.025153e-02, ..., 9.698861e-01, 9.798822e-01, 9.898784e-01,\n",
       "        9.998745e-01], dtype=float32),\n",
       " <a list of 100 Patch objects>)"
      ]
     },
     "execution_count": 71,
     "metadata": {},
     "output_type": "execute_result"
    },
    {
     "data": {
      "image/png": "[encoded data removed]",
      "text/plain": [
       "<Figure size 432x288 with 1 Axes>"
      ]
     },
     "metadata": {
      "needs_background": "light"
     },
     "output_type": "display_data"
    }
   ],
   "source": [
    "#The distribution of the generated probabilities\n",
    "plt.hist(predictions_main[0].cpu().numpy()[:,0],100)"
   ]
  },
  {
   "cell_type": "markdown",
   "metadata": {},
   "source": [
    "# Simulate situation of paying for most important labels."
   ]
  },
  {
   "cell_type": "code",
   "execution_count": 66,
   "metadata": {},
   "outputs": [
    {
     "name": "stdout",
     "output_type": "stream",
     "text": [
      "(29999,)\n",
      "(30000,)\n",
      "(30000,)\n",
      "(30000,)\n",
      "(30000,)\n"
     ]
    }
   ],
   "source": [
    "#for main... test effect of adding in 30K examples of TRUE labels from:\n",
    "    #1) It's most confident predictions\n",
    "    #2) It's least confident predictions\n",
    "    #3) It's somewhat confident predictions (i.e. .25, .75) \n",
    "    #4) A random sampling\n",
    "    #5) A random sampling f/ .25 to .75\n",
    "how_many=15000\n",
    "predictions_main = pickle.load(open(DATAPATH/'predictions_main.pkl', 'rb')) #\n",
    "predictions_main_tmp=predictions_main[0].cpu().numpy()[:,0]\n",
    "targets_tmp=predictions_main[1].cpu().numpy()\n",
    "#most confident\n",
    "predictions_main_tmp_sorted=np.sort(predictions_main_tmp)\n",
    "lowthresh=predictions_main_tmp_sorted[how_many]\n",
    "highthresh=predictions_main_tmp_sorted[len(absdif_f_p5)-how_many]\n",
    "get_these_most=np.zeros(len(absdif_f_p5))\n",
    "get_these_most[np.logical_or(predictions_main_tmp<lowthresh,predictions_main_tmp>highthresh)]=1\n",
    "get_these_most=get_these_most.astype(bool)\n",
    "print(np.shape(predictions_main_tmp[get_these_most]))\n",
    "#least confident\n",
    "absdif_f_p5=np.abs(.5-predictions_main_tmp)\n",
    "absdif_f_p5_sorted=np.sort(absdif_f_p5)\n",
    "lowthresh=absdif_f_p5_sorted[how_many*2]\n",
    "get_these_least=np.zeros(len(absdif_f_p5))\n",
    "get_these_least[np.logical_and(predictions_main_tmp>.5-lowthresh,predictions_main_tmp<.5+lowthresh)]=1\n",
    "get_these_least=get_these_least.astype(bool)\n",
    "print(np.shape(predictions_main_tmp[get_these_least]))\n",
    "#somewhat confident predictions (i.e. .25, .75) \n",
    "get_these_somewhat=np.zeros(len(absdif_f_p5))\n",
    "absdif_f_p25=np.abs(.25-predictions_main_tmp)\n",
    "absdif_f_p25_sorted=np.sort(absdif_f_p25)\n",
    "lowthresh=absdif_f_p25_sorted[how_many]\n",
    "get_these_somewhat[np.logical_and(predictions_main_tmp>.25-lowthresh,predictions_main_tmp<.25+lowthresh)]=1\n",
    "absdif_f_p75=np.abs(.75-predictions_main_tmp)\n",
    "absdif_f_p75_sorted=np.sort(absdif_f_p75)\n",
    "lowthresh=absdif_f_p75_sorted[how_many]\n",
    "get_these_somewhat[np.logical_and(predictions_main_tmp>.75-lowthresh,predictions_main_tmp<.75+lowthresh)]=1\n",
    "get_these_somewhat=get_these_somewhat.astype(bool)\n",
    "print(np.shape(predictions_main_tmp[get_these_somewhat]))\n",
    "#random sampling\n",
    "get_these_rand=np.zeros(len(absdif_f_p5))\n",
    "get_these_rand[np.random.permutation(len(absdif_f_p5))[:how_many*2]]=1\n",
    "get_these_rand=get_these_rand.astype(bool)                 \n",
    "print(np.shape(predictions_main_tmp[get_these_rand]))\n",
    "#random sampling f/ .25 to .75\n",
    "rand_indices=np.array(list(range(len(absdif_f_p5))))\n",
    "rand_indices=rand_indices[np.logical_and(predictions_main_tmp>.25,predictions_main_tmp<.75)][:how_many*2]\n",
    "get_these_randsome=np.zeros(len(absdif_f_p5))\n",
    "get_these_randsome[rand_indices]=1\n",
    "get_these_randsome=get_these_randsome.astype(bool)                 \n",
    "print(np.shape(predictions_main_tmp[get_these_randsome]))\n",
    "#plt.hist(predictions_main_tmp[get_these_randsome],50)\n",
    "                             "
   ]
  },
  {
   "cell_type": "code",
   "execution_count": 67,
   "metadata": {},
   "outputs": [
    {
     "data": {
      "text/html": [
       "<table border=\"1\" class=\"dataframe\">\n",
       "  <thead>\n",
       "    <tr style=\"text-align: left;\">\n",
       "      <th>epoch</th>\n",
       "      <th>train_loss</th>\n",
       "      <th>valid_loss</th>\n",
       "      <th>accuracy</th>\n",
       "      <th>time</th>\n",
       "    </tr>\n",
       "  </thead>\n",
       "  <tbody>\n",
       "    <tr>\n",
       "      <td>0</td>\n",
       "      <td>0.482997</td>\n",
       "      <td>0.416772</td>\n",
       "      <td>0.811380</td>\n",
       "      <td>00:21</td>\n",
       "    </tr>\n",
       "    <tr>\n",
       "      <td>1</td>\n",
       "      <td>0.466325</td>\n",
       "      <td>0.409586</td>\n",
       "      <td>0.814964</td>\n",
       "      <td>00:21</td>\n",
       "    </tr>\n",
       "    <tr>\n",
       "      <td>2</td>\n",
       "      <td>0.457923</td>\n",
       "      <td>0.407707</td>\n",
       "      <td>0.816308</td>\n",
       "      <td>00:21</td>\n",
       "    </tr>\n",
       "    <tr>\n",
       "      <td>3</td>\n",
       "      <td>0.459724</td>\n",
       "      <td>0.409453</td>\n",
       "      <td>0.814516</td>\n",
       "      <td>00:21</td>\n",
       "    </tr>\n",
       "  </tbody>\n",
       "</table>"
      ],
      "text/plain": [
       "<IPython.core.display.HTML object>"
      ]
     },
     "metadata": {},
     "output_type": "display_data"
    }
   ],
   "source": [
    "#no additional labels\n",
    "#no change in accuracy... 81.4 to 81.4\n",
    "df_valid=pd.read_csv(DATAPATH/'valid_labeled.csv')\n",
    "df_valid['is_valid']=1\n",
    "df_tmp = pd.read_csv(DATAPATH/'train_labeled.csv')\n",
    "df_tmp['is_valid']=0\n",
    "df_tmp=pd.concat([df_tmp,df_valid])\n",
    "\n",
    "df_tmp.to_csv(DATAPATH/'df_tmp.csv', index=False)\n",
    "tmplist=TextList.from_csv(DATAPATH, 'df_tmp.csv', cols='content', vocab=data_lm.train_ds.vocab)\n",
    "data_clas_main = (tmplist\n",
    "                .split_from_df(col='is_valid')\n",
    "                .label_from_df(cols='sentiment')#.add_test(test_list)\n",
    "                .databunch(bs=40))\n",
    "\n",
    "learn = text_classifier_learner(data_clas_main, AWD_LSTM)\n",
    "learn.load('main_12e_unfreeze_001')\n",
    "learn.unfreeze()\n",
    "learn.fit_one_cycle(4, slice(1e-5,1e-3), moms=moms)\n",
    "learn.save('main_16e_noadd_001')\n"
   ]
  },
  {
   "cell_type": "code",
   "execution_count": 76,
   "metadata": {},
   "outputs": [
    {
     "data": {
      "text/html": [
       "<table border=\"1\" class=\"dataframe\">\n",
       "  <thead>\n",
       "    <tr style=\"text-align: left;\">\n",
       "      <th>epoch</th>\n",
       "      <th>train_loss</th>\n",
       "      <th>valid_loss</th>\n",
       "      <th>accuracy</th>\n",
       "      <th>time</th>\n",
       "    </tr>\n",
       "  </thead>\n",
       "  <tbody>\n",
       "    <tr>\n",
       "      <td>0</td>\n",
       "      <td>0.178386</td>\n",
       "      <td>0.429605</td>\n",
       "      <td>0.801523</td>\n",
       "      <td>01:02</td>\n",
       "    </tr>\n",
       "    <tr>\n",
       "      <td>1</td>\n",
       "      <td>0.213697</td>\n",
       "      <td>0.421999</td>\n",
       "      <td>0.810484</td>\n",
       "      <td>01:02</td>\n",
       "    </tr>\n",
       "    <tr>\n",
       "      <td>2</td>\n",
       "      <td>0.171913</td>\n",
       "      <td>0.420076</td>\n",
       "      <td>0.806452</td>\n",
       "      <td>01:02</td>\n",
       "    </tr>\n",
       "    <tr>\n",
       "      <td>3</td>\n",
       "      <td>0.177001</td>\n",
       "      <td>0.417598</td>\n",
       "      <td>0.802867</td>\n",
       "      <td>01:03</td>\n",
       "    </tr>\n",
       "  </tbody>\n",
       "</table>"
      ],
      "text/plain": [
       "<IPython.core.display.HTML object>"
      ]
     },
     "metadata": {},
     "output_type": "display_data"
    }
   ],
   "source": [
    "#add most confident labels\n",
    "\n",
    "#OUTCOME:\n",
    "#Training loss drastically decreases\n",
    "#Validation loss decreases: .423 to 0.417\n",
    "#Slight overfitting: validation accuracy decreases slightly (even though loss decreased as well)\n",
    "    #81.4 to 80.3\n",
    "\n",
    "df_test=pd.read_csv(DATAPATH/'df_unlabeled.csv')\n",
    "df_test_tmp=df_test.iloc[get_these_most]\n",
    "df_test_tmp['is_valid']=0\n",
    "print(np.shape(df_test_tmp))\n",
    "\n",
    "df_valid=pd.read_csv(DATAPATH/'valid_labeled.csv')\n",
    "df_valid['is_valid']=1\n",
    "df_tmp = pd.read_csv(DATAPATH/'train_labeled.csv')\n",
    "df_tmp['is_valid']=0\n",
    "df_tmp=pd.concat([df_tmp,df_valid])\n",
    "df_tmp=pd.concat([df_tmp,df_test_tmp])\n",
    "print(np.shape(df_tmp))\n",
    "\n",
    "df_tmp.to_csv(DATAPATH/'df_tmp.csv', index=False)\n",
    "tmplist=TextList.from_csv(DATAPATH, 'df_tmp.csv', cols='content', vocab=data_lm.train_ds.vocab)\n",
    "data_clas_main = (tmplist\n",
    "                .split_from_df(col='is_valid')\n",
    "                .label_from_df(cols='sentiment')#.add_test(test_list)\n",
    "                .databunch(bs=40))\n",
    "\n",
    "learn = text_classifier_learner(data_clas_main, AWD_LSTM)\n",
    "learn.load('main_12e_unfreeze_001')\n",
    "learn.unfreeze()\n",
    "learn.fit_one_cycle(4, slice(1e-5,1e-3), moms=moms)\n",
    "learn.save('main_16e_most_001')\n"
   ]
  },
  {
   "cell_type": "code",
   "execution_count": 80,
   "metadata": {},
   "outputs": [
    {
     "data": {
      "text/html": [
       "<table border=\"1\" class=\"dataframe\">\n",
       "  <thead>\n",
       "    <tr style=\"text-align: left;\">\n",
       "      <th>epoch</th>\n",
       "      <th>train_loss</th>\n",
       "      <th>valid_loss</th>\n",
       "      <th>accuracy</th>\n",
       "      <th>time</th>\n",
       "    </tr>\n",
       "  </thead>\n",
       "  <tbody>\n",
       "    <tr>\n",
       "      <td>0</td>\n",
       "      <td>0.648263</td>\n",
       "      <td>0.452710</td>\n",
       "      <td>0.816756</td>\n",
       "      <td>01:08</td>\n",
       "    </tr>\n",
       "    <tr>\n",
       "      <td>1</td>\n",
       "      <td>0.637243</td>\n",
       "      <td>0.430505</td>\n",
       "      <td>0.828853</td>\n",
       "      <td>01:11</td>\n",
       "    </tr>\n",
       "    <tr>\n",
       "      <td>2</td>\n",
       "      <td>0.642052</td>\n",
       "      <td>0.435259</td>\n",
       "      <td>0.828405</td>\n",
       "      <td>01:09</td>\n",
       "    </tr>\n",
       "    <tr>\n",
       "      <td>3</td>\n",
       "      <td>0.638956</td>\n",
       "      <td>0.415244</td>\n",
       "      <td>0.829301</td>\n",
       "      <td>01:07</td>\n",
       "    </tr>\n",
       "  </tbody>\n",
       "</table>"
      ],
      "text/plain": [
       "<IPython.core.display.HTML object>"
      ]
     },
     "metadata": {},
     "output_type": "display_data"
    }
   ],
   "source": [
    "#add least confident labels\n",
    "\n",
    "#OUTCOME:\n",
    "#Training loss jumps!\n",
    "#validation loss: .423 to .415\n",
    "#But validation accuracy increases!\n",
    "    #81.4 to 82.9\n",
    "    #that's 30% jump towards theoretical maximum of 86.7 (f/ training full large dataset)\n",
    "\n",
    "df_test=pd.read_csv(DATAPATH/'df_unlabeled.csv')\n",
    "df_test_tmp=df_test.iloc[get_these_least]\n",
    "df_test_tmp['is_valid']=0\n",
    "print(np.shape(df_test_tmp))\n",
    "\n",
    "df_valid=pd.read_csv(DATAPATH/'valid_labeled.csv')\n",
    "df_valid['is_valid']=1\n",
    "df_tmp = pd.read_csv(DATAPATH/'train_labeled.csv')\n",
    "df_tmp['is_valid']=0\n",
    "df_tmp=pd.concat([df_tmp,df_valid])\n",
    "df_tmp=pd.concat([df_tmp,df_test_tmp])\n",
    "print(np.shape(df_tmp))\n",
    "\n",
    "df_tmp.to_csv(DATAPATH/'df_tmp.csv', index=False)\n",
    "tmplist=TextList.from_csv(DATAPATH, 'df_tmp.csv', cols='content', vocab=data_lm.train_ds.vocab)\n",
    "data_clas_main = (tmplist\n",
    "                .split_from_df(col='is_valid')\n",
    "                .label_from_df(cols='sentiment')#.add_test(test_list)\n",
    "                .databunch(bs=40))\n",
    "\n",
    "learn = text_classifier_learner(data_clas_main, AWD_LSTM)\n",
    "learn.load('main_12e_unfreeze_001')\n",
    "learn.unfreeze()\n",
    "learn.fit_one_cycle(4, slice(1e-5,1e-3), moms=moms)\n",
    "learn.save('main_16e_least_001')\n"
   ]
  },
  {
   "cell_type": "code",
   "execution_count": 78,
   "metadata": {},
   "outputs": [
    {
     "data": {
      "text/html": [
       "<table border=\"1\" class=\"dataframe\">\n",
       "  <thead>\n",
       "    <tr style=\"text-align: left;\">\n",
       "      <th>epoch</th>\n",
       "      <th>train_loss</th>\n",
       "      <th>valid_loss</th>\n",
       "      <th>accuracy</th>\n",
       "      <th>time</th>\n",
       "    </tr>\n",
       "  </thead>\n",
       "  <tbody>\n",
       "    <tr>\n",
       "      <td>0</td>\n",
       "      <td>0.561795</td>\n",
       "      <td>0.414618</td>\n",
       "      <td>0.816756</td>\n",
       "      <td>01:07</td>\n",
       "    </tr>\n",
       "    <tr>\n",
       "      <td>1</td>\n",
       "      <td>0.563368</td>\n",
       "      <td>0.406196</td>\n",
       "      <td>0.823477</td>\n",
       "      <td>01:07</td>\n",
       "    </tr>\n",
       "    <tr>\n",
       "      <td>2</td>\n",
       "      <td>0.558479</td>\n",
       "      <td>0.402578</td>\n",
       "      <td>0.822133</td>\n",
       "      <td>01:09</td>\n",
       "    </tr>\n",
       "    <tr>\n",
       "      <td>3</td>\n",
       "      <td>0.558469</td>\n",
       "      <td>0.393962</td>\n",
       "      <td>0.825717</td>\n",
       "      <td>01:08</td>\n",
       "    </tr>\n",
       "  </tbody>\n",
       "</table>"
      ],
      "text/plain": [
       "<IPython.core.display.HTML object>"
      ]
     },
     "metadata": {},
     "output_type": "display_data"
    }
   ],
   "source": [
    "#add somewhat confident labels (centered at .25 and .75)\n",
    "\n",
    "#OUTCOME:\n",
    "#slight increase in training loss\n",
    "#validation loss: .423 to .394\n",
    "#validation accuracy improves somewhat:\n",
    "    #81.4 to 82.6\n",
    "    #~20% jump to theoretical maximum of 86.7\n",
    "\n",
    "df_test=pd.read_csv(DATAPATH/'df_unlabeled.csv')\n",
    "df_test_tmp=df_test.iloc[get_these_somewhat]\n",
    "df_test_tmp['is_valid']=0\n",
    "print(np.shape(df_test_tmp))\n",
    "\n",
    "df_valid=pd.read_csv(DATAPATH/'valid_labeled.csv')\n",
    "df_valid['is_valid']=1\n",
    "df_tmp = pd.read_csv(DATAPATH/'train_labeled.csv')\n",
    "df_tmp['is_valid']=0\n",
    "df_tmp=pd.concat([df_tmp,df_valid])\n",
    "df_tmp=pd.concat([df_tmp,df_test_tmp])\n",
    "print(np.shape(df_tmp))\n",
    "\n",
    "df_tmp.to_csv(DATAPATH/'df_tmp.csv', index=False)\n",
    "tmplist=TextList.from_csv(DATAPATH, 'df_tmp.csv', cols='content', vocab=data_lm.train_ds.vocab)\n",
    "data_clas_main = (tmplist\n",
    "                .split_from_df(col='is_valid')\n",
    "                .label_from_df(cols='sentiment')#.add_test(test_list)\n",
    "                .databunch(bs=40))\n",
    "\n",
    "learn = text_classifier_learner(data_clas_main, AWD_LSTM)\n",
    "learn.load('main_12e_unfreeze_001')\n",
    "learn.unfreeze()\n",
    "learn.fit_one_cycle(4, slice(1e-5,1e-3), moms=moms)\n",
    "learn.save('main_16e_somewhat_001')\n",
    "\n"
   ]
  },
  {
   "cell_type": "code",
   "execution_count": 79,
   "metadata": {},
   "outputs": [
    {
     "data": {
      "text/html": [
       "<table border=\"1\" class=\"dataframe\">\n",
       "  <thead>\n",
       "    <tr style=\"text-align: left;\">\n",
       "      <th>epoch</th>\n",
       "      <th>train_loss</th>\n",
       "      <th>valid_loss</th>\n",
       "      <th>accuracy</th>\n",
       "      <th>time</th>\n",
       "    </tr>\n",
       "  </thead>\n",
       "  <tbody>\n",
       "    <tr>\n",
       "      <td>0</td>\n",
       "      <td>0.496485</td>\n",
       "      <td>0.410004</td>\n",
       "      <td>0.812276</td>\n",
       "      <td>01:05</td>\n",
       "    </tr>\n",
       "    <tr>\n",
       "      <td>1</td>\n",
       "      <td>0.474730</td>\n",
       "      <td>0.403703</td>\n",
       "      <td>0.818100</td>\n",
       "      <td>01:06</td>\n",
       "    </tr>\n",
       "    <tr>\n",
       "      <td>2</td>\n",
       "      <td>0.473569</td>\n",
       "      <td>0.395176</td>\n",
       "      <td>0.823925</td>\n",
       "      <td>01:07</td>\n",
       "    </tr>\n",
       "    <tr>\n",
       "      <td>3</td>\n",
       "      <td>0.456877</td>\n",
       "      <td>0.393547</td>\n",
       "      <td>0.824821</td>\n",
       "      <td>01:06</td>\n",
       "    </tr>\n",
       "  </tbody>\n",
       "</table>"
      ],
      "text/plain": [
       "<IPython.core.display.HTML object>"
      ]
     },
     "metadata": {},
     "output_type": "display_data"
    }
   ],
   "source": [
    "#add random sampling of labels (regardless of confidence)\n",
    "\n",
    "\n",
    "#OUTCOME:\n",
    "#training loss slightly increases but then returns back to baseline\n",
    "#validation loss: .423 to .394\n",
    "#validation accuracy improves somewhat:\n",
    "    #81.4 to 82.5\n",
    "    #~20% jump to theoretical maximum of 86.7\n",
    "\n",
    "df_test=pd.read_csv(DATAPATH/'df_unlabeled.csv')\n",
    "df_test_tmp=df_test.iloc[get_these_rand]\n",
    "df_test_tmp['is_valid']=0\n",
    "print(np.shape(df_test_tmp))\n",
    "\n",
    "df_valid=pd.read_csv(DATAPATH/'valid_labeled.csv')\n",
    "df_valid['is_valid']=1\n",
    "df_tmp = pd.read_csv(DATAPATH/'train_labeled.csv')\n",
    "df_tmp['is_valid']=0\n",
    "df_tmp=pd.concat([df_tmp,df_valid])\n",
    "df_tmp=pd.concat([df_tmp,df_test_tmp])\n",
    "print(np.shape(df_tmp))\n",
    "\n",
    "df_tmp.to_csv(DATAPATH/'df_tmp.csv', index=False)\n",
    "tmplist=TextList.from_csv(DATAPATH, 'df_tmp.csv', cols='content', vocab=data_lm.train_ds.vocab)\n",
    "data_clas_main = (tmplist\n",
    "                .split_from_df(col='is_valid')\n",
    "                .label_from_df(cols='sentiment')#.add_test(test_list)\n",
    "                .databunch(bs=40))\n",
    "\n",
    "learn = text_classifier_learner(data_clas_main, AWD_LSTM)\n",
    "learn.load('main_12e_unfreeze_001')\n",
    "learn.unfreeze()\n",
    "learn.fit_one_cycle(4, slice(1e-5,1e-3), moms=moms)\n",
    "learn.save('main_16e_rand_001')\n"
   ]
  },
  {
   "cell_type": "code",
   "execution_count": 81,
   "metadata": {},
   "outputs": [
    {
     "data": {
      "text/html": [
       "<table border=\"1\" class=\"dataframe\">\n",
       "  <thead>\n",
       "    <tr style=\"text-align: left;\">\n",
       "      <th>epoch</th>\n",
       "      <th>train_loss</th>\n",
       "      <th>valid_loss</th>\n",
       "      <th>accuracy</th>\n",
       "      <th>time</th>\n",
       "    </tr>\n",
       "  </thead>\n",
       "  <tbody>\n",
       "    <tr>\n",
       "      <td>0</td>\n",
       "      <td>0.630040</td>\n",
       "      <td>0.434415</td>\n",
       "      <td>0.823477</td>\n",
       "      <td>01:09</td>\n",
       "    </tr>\n",
       "    <tr>\n",
       "      <td>1</td>\n",
       "      <td>0.625436</td>\n",
       "      <td>0.421574</td>\n",
       "      <td>0.823029</td>\n",
       "      <td>01:09</td>\n",
       "    </tr>\n",
       "    <tr>\n",
       "      <td>2</td>\n",
       "      <td>0.604657</td>\n",
       "      <td>0.410515</td>\n",
       "      <td>0.831541</td>\n",
       "      <td>01:08</td>\n",
       "    </tr>\n",
       "    <tr>\n",
       "      <td>3</td>\n",
       "      <td>0.605880</td>\n",
       "      <td>0.405822</td>\n",
       "      <td>0.828853</td>\n",
       "      <td>01:08</td>\n",
       "    </tr>\n",
       "  </tbody>\n",
       "</table>"
      ],
      "text/plain": [
       "<IPython.core.display.HTML object>"
      ]
     },
     "metadata": {},
     "output_type": "display_data"
    }
   ],
   "source": [
    "#add random sampling of labels in range f/ .25 to .75\n",
    "\n",
    "#OUTCOME:\n",
    "#training loss jumps!\n",
    "#validation loss: .423 to .406\n",
    "#validation accuracy: 81.4 to 82.9\n",
    "    #30% jump towards theoretical maximum of 86.7\n",
    "\n",
    "\n",
    "df_test=pd.read_csv(DATAPATH/'df_unlabeled.csv')\n",
    "df_test_tmp=df_test.iloc[get_these_randsome]\n",
    "df_test_tmp['is_valid']=0\n",
    "print(np.shape(df_test_tmp))\n",
    "\n",
    "df_valid=pd.read_csv(DATAPATH/'valid_labeled.csv')\n",
    "df_valid['is_valid']=1\n",
    "df_tmp = pd.read_csv(DATAPATH/'train_labeled.csv')\n",
    "df_tmp['is_valid']=0\n",
    "df_tmp=pd.concat([df_tmp,df_valid])\n",
    "df_tmp=pd.concat([df_tmp,df_test_tmp])\n",
    "print(np.shape(df_tmp))\n",
    "\n",
    "df_tmp.to_csv(DATAPATH/'df_tmp.csv', index=False)\n",
    "tmplist=TextList.from_csv(DATAPATH, 'df_tmp.csv', cols='content', vocab=data_lm.train_ds.vocab)\n",
    "data_clas_main = (tmplist\n",
    "                .split_from_df(col='is_valid')\n",
    "                .label_from_df(cols='sentiment')#.add_test(test_list)\n",
    "                .databunch(bs=40))\n",
    "\n",
    "learn = text_classifier_learner(data_clas_main, AWD_LSTM)\n",
    "learn.load('main_12e_unfreeze_001')\n",
    "learn.unfreeze()\n",
    "learn.fit_one_cycle(4, slice(1e-5,1e-3), moms=moms)\n",
    "learn.save('main_16e_randsome_001')\n"
   ]
  },
  {
   "cell_type": "code",
   "execution_count": null,
   "metadata": {},
   "outputs": [],
   "source": [
    "#Summary:\n",
    "#Best choices are: 1) least confident (closest to 0.5), 2) random sampling bw .25 and .75\n",
    "    #Both produced 30% improvements in accuracy, which is 30% of theoretical maximum\n",
    "#Somewhat effective: 1) random sampling, 2) just values at .25 and .75\n",
    "    #Both produced 20% improvements in accuracy, which is 20% of theoretical maximum\n",
    "#Not effective: most confident\n",
    "    #slight DECREASE in accuracy due to overfitting"
   ]
  },
  {
   "cell_type": "code",
   "execution_count": null,
   "metadata": {},
   "outputs": [],
   "source": []
  },
  {
   "cell_type": "code",
   "execution_count": null,
   "metadata": {},
   "outputs": [],
   "source": []
  },
  {
   "cell_type": "code",
   "execution_count": null,
   "metadata": {},
   "outputs": [],
   "source": []
  }
 ],
 "metadata": {
  "kernelspec": {
   "display_name": "Python 3",
   "language": "python",
   "name": "python3"
  },
  "language_info": {
   "codemirror_mode": {
    "name": "ipython",
    "version": 3
   },
   "file_extension": ".py",
   "mimetype": "text/x-python",
   "name": "python",
   "nbconvert_exporter": "python",
   "pygments_lexer": "ipython3",
   "version": "3.7.1"
  }
 },
 "nbformat": 4,
 "nbformat_minor": 2
}
