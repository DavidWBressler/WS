{
 "cells": [
  {
   "cell_type": "code",
   "execution_count": 1,
   "metadata": {},
   "outputs": [
    {
     "name": "stdout",
     "output_type": "stream",
     "text": [
      "/notebooks\n"
     ]
    }
   ],
   "source": [
    "cd /notebooks/"
   ]
  },
  {
   "cell_type": "code",
   "execution_count": 2,
   "metadata": {},
   "outputs": [
    {
     "name": "stdout",
     "output_type": "stream",
     "text": [
      "Pixiedust database opened successfully\n"
     ]
    },
    {
     "data": {
      "text/html": [
       "\n",
       "        <div style=\"margin:10px\">\n",
       "            <a href=\"https://github.com/ibm-watson-data-lab/pixiedust\" target=\"_new\">\n",
       "                <img src=\"https://github.com/ibm-watson-data-lab/pixiedust/raw/master/docs/_static/pd_icon32.png\" style=\"float:left;margin-right:10px\"/>\n",
       "            </a>\n",
       "            <span>Pixiedust version 1.1.15</span>\n",
       "        </div>\n",
       "        "
      ],
      "text/plain": [
       "<IPython.core.display.HTML object>"
      ]
     },
     "metadata": {},
     "output_type": "display_data"
    }
   ],
   "source": [
    "from fastai import *\n",
    "from fastai.text import *   # Quick accesss to NLP functionality\n",
    "\n",
    "import torch.utils.data as data_utils\n",
    "from torch.utils.data.dataset import Dataset\n",
    "from torch.utils.data.sampler import Sampler\n",
    "from torch.autograd import Variable\n",
    "\n",
    "import time\n",
    "import importlib\n",
    "import pixiedust\n",
    "import spacy"
   ]
  },
  {
   "cell_type": "code",
   "execution_count": 3,
   "metadata": {},
   "outputs": [],
   "source": [
    "DATAPATH = Path('/data/WS/')\n",
    "PATH = Path('/data/sav/WS/')"
   ]
  },
  {
   "cell_type": "code",
   "execution_count": 4,
   "metadata": {},
   "outputs": [
    {
     "name": "stdout",
     "output_type": "stream",
     "text": [
      "download: s3://dbressbuck/data/WS/evaluate.csv to ../data/WS/evaluate.csv\n",
      "download: s3://dbressbuck/data/WS/train.csv to ../data/WS/train.csv\n",
      "download: s3://dbressbuck/data/WS/classifier_weights_001.pth to ../data/WS/classifier_weights_001.pth\n",
      "download: s3://dbressbuck/data/WS/sent140_training.csv to ../data/WS/sent140_training.csv\n"
     ]
    }
   ],
   "source": [
    "#DOWNLOAD THE DATA\n",
    "!aws s3 cp --recursive s3://dbressbuck/data/WS /data/WS"
   ]
  },
  {
   "cell_type": "markdown",
   "metadata": {},
   "source": [
    "# Preprocess the data"
   ]
  },
  {
   "cell_type": "code",
   "execution_count": 49,
   "metadata": {},
   "outputs": [
    {
     "name": "stdout",
     "output_type": "stream",
     "text": [
      "(750000, 2)\n",
      "         sentiment                                            content\n",
      "477646           0  todays plans have been messed up as now not fe...\n",
      "133647           0  Nose is completely stuffed and throat is sore ...\n",
      "1196363          4                             Zero tolerence policy \n",
      "64522            0  How in the name of all that is holy did it get...\n",
      "523066           0  @tlmasonaea I wish I could, but I live a bit t...\n"
     ]
    }
   ],
   "source": [
    "#load data, look at size of training sets and test set, look at some samples\n",
    "df_trn = pd.read_csv(DATAPATH/'sent140_training.csv',encoding = \"ISO-8859-1\",names=['sentiment', 'id', 'date','flag','user','content'])\n",
    "df_trn= df_trn[['sentiment','content']]\n",
    "get_these=np.random.permutation(np.shape(df_trn)[0])\n",
    "df_trn=df_trn.iloc[get_these[:750000]]#take a sample of 750K, due to time constraints\n",
    "\n",
    "print(np.shape(df_trn))\n",
    "print(df_trn.head())"
   ]
  },
  {
   "cell_type": "code",
   "execution_count": 50,
   "metadata": {},
   "outputs": [
    {
     "name": "stdout",
     "output_type": "stream",
     "text": [
      "(743815, 2)\n"
     ]
    },
    {
     "data": {
      "text/html": [
       "<div>\n",
       "<style scoped>\n",
       "    .dataframe tbody tr th:only-of-type {\n",
       "        vertical-align: middle;\n",
       "    }\n",
       "\n",
       "    .dataframe tbody tr th {\n",
       "        vertical-align: top;\n",
       "    }\n",
       "\n",
       "    .dataframe thead th {\n",
       "        text-align: right;\n",
       "    }\n",
       "</style>\n",
       "<table border=\"1\" class=\"dataframe\">\n",
       "  <thead>\n",
       "    <tr style=\"text-align: right;\">\n",
       "      <th></th>\n",
       "      <th>sentiment</th>\n",
       "      <th>content</th>\n",
       "    </tr>\n",
       "  </thead>\n",
       "  <tbody>\n",
       "    <tr>\n",
       "      <th>132481</th>\n",
       "      <td>0</td>\n",
       "      <td>Headache</td>\n",
       "    </tr>\n",
       "    <tr>\n",
       "      <th>340713</th>\n",
       "      <td>0</td>\n",
       "      <td>isPlayer Has Died! Sorry</td>\n",
       "    </tr>\n",
       "    <tr>\n",
       "      <th>498708</th>\n",
       "      <td>0</td>\n",
       "      <td>I miss you</td>\n",
       "    </tr>\n",
       "    <tr>\n",
       "      <th>220156</th>\n",
       "      <td>0</td>\n",
       "      <td>I have a headache</td>\n",
       "    </tr>\n",
       "    <tr>\n",
       "      <th>650089</th>\n",
       "      <td>0</td>\n",
       "      <td>Jogging, isnt REALLY that cool, especially if ...</td>\n",
       "    </tr>\n",
       "  </tbody>\n",
       "</table>\n",
       "</div>"
      ],
      "text/plain": [
       "        sentiment                                            content\n",
       "132481          0                                          Headache \n",
       "340713          0                          isPlayer Has Died! Sorry \n",
       "498708          0                                        I miss you \n",
       "220156          0                                 I have a headache \n",
       "650089          0  Jogging, isnt REALLY that cool, especially if ..."
      ]
     },
     "execution_count": 50,
     "metadata": {},
     "output_type": "execute_result"
    }
   ],
   "source": [
    "#there are some duplicate tweets... Take a quick look at them\n",
    "print(np.shape(df_trn[~df_trn['content'].duplicated()]))\n",
    "df_duplicated=df_trn[df_trn['content'].duplicated()]\n",
    "df_duplicated.head()"
   ]
  },
  {
   "cell_type": "code",
   "execution_count": 51,
   "metadata": {},
   "outputs": [
    {
     "name": "stdout",
     "output_type": "stream",
     "text": [
      "(743815, 2)\n"
     ]
    }
   ],
   "source": [
    "#remove duplicates... no reason to include these in training\n",
    "df_trn=df_trn[~df_trn['content'].duplicated()]\n",
    "print(np.shape(df_trn))"
   ]
  },
  {
   "cell_type": "code",
   "execution_count": 52,
   "metadata": {},
   "outputs": [
    {
     "name": "stdout",
     "output_type": "stream",
     "text": [
      "         sentiment                                            content  str_len\n",
      "477646           0  todays plans have been messed up as now not fe...      101\n",
      "133647           0  Nose is completely stuffed and throat is sore ...       85\n",
      "1196363          4                             Zero tolerence policy        22\n",
      "64522            0  How in the name of all that is holy did it get...       58\n",
      "523066           0  @tlmasonaea I wish I could, but I live a bit t...       62\n"
     ]
    },
    {
     "data": {
      "text/plain": [
       "array([[<matplotlib.axes._subplots.AxesSubplot object at 0x7f3a484273c8>]], dtype=object)"
      ]
     },
     "execution_count": 52,
     "metadata": {},
     "output_type": "execute_result"
    },
    {
     "data": {
      "image/png": "[encoded data removed]",
      "text/plain": [
       "<Figure size 432x288 with 1 Axes>"
      ]
     },
     "metadata": {
      "needs_background": "light"
     },
     "output_type": "display_data"
    }
   ],
   "source": [
    "#create column to take a look at length of tweets, and create graph of distribution\n",
    "df_trn['str_len']=df_trn['content'].str.len()\n",
    "print(df_trn.head())\n",
    "df_trn.hist(column='str_len', bins=100)"
   ]
  },
  {
   "cell_type": "code",
   "execution_count": 53,
   "metadata": {},
   "outputs": [],
   "source": [
    "#Time permitting, investigate if there's anything peculiar \n",
    "    #about the spike at the right side of the graph above"
   ]
  },
  {
   "cell_type": "code",
   "execution_count": 54,
   "metadata": {},
   "outputs": [
    {
     "name": "stdout",
     "output_type": "stream",
     "text": [
      "[0 4]\n"
     ]
    },
    {
     "data": {
      "text/plain": [
       "(array([371759.,      0.,      0.,      0.,      0.,      0.,      0.,      0.,      0., 372056.]),\n",
       " array([0. , 0.4, 0.8, 1.2, 1.6, 2. , 2.4, 2.8, 3.2, 3.6, 4. ]),\n",
       " <a list of 10 Patch objects>)"
      ]
     },
     "execution_count": 54,
     "metadata": {},
     "output_type": "execute_result"
    },
    {
     "data": {
      "image/png": "[encoded data removed]",
      "text/plain": [
       "<Figure size 432x288 with 1 Axes>"
      ]
     },
     "metadata": {
      "needs_background": "light"
     },
     "output_type": "display_data"
    }
   ],
   "source": [
    "#look at distribution of labels... \n",
    "#2 categories, approximately equal number each\n",
    "print(df_trn['sentiment'].unique()) #unique labels\n",
    "plt.hist(list(df_trn['sentiment']))"
   ]
  },
  {
   "cell_type": "markdown",
   "metadata": {},
   "source": [
    "# Build new training set for semi-supervised learning"
   ]
  },
  {
   "cell_type": "markdown",
   "metadata": {},
   "source": [
    "### Goal: simulate common situation of: 1) Small labeled dataset, 2) Much larger unlabeled dataset"
   ]
  },
  {
   "cell_type": "code",
   "execution_count": 72,
   "metadata": {},
   "outputs": [
    {
     "name": "stdout",
     "output_type": "stream",
     "text": [
      "labeled set size: 14876\n",
      "unlabeled set size: 728939\n"
     ]
    }
   ],
   "source": [
    "#grab 2% of the dataset as our labeled dataset\n",
    "#the other 98% will serve as our 'unlabeled dataset'\n",
    "    #but we'll still keep the labels\n",
    "get_these=np.random.permutation(np.shape(df_trn)[0])\n",
    "split_here=round(.02*np.shape(df_trn)[0])\n",
    "df_labeled=df_trn.iloc[get_these[:split_here]]\n",
    "df_unlabeled=df_trn.iloc[get_these[split_here:]]\n",
    "print('labeled set size:', np.shape(df_labeled)[0])\n",
    "print('unlabeled set size:',np.shape(df_unlabeled)[0])\n",
    "assert np.shape(df_labeled)[0]+np.shape(df_unlabeled)[0]==np.shape(df_trn)[0], 'lengths dont add up'\n"
   ]
  },
  {
   "cell_type": "code",
   "execution_count": 73,
   "metadata": {},
   "outputs": [
    {
     "name": "stdout",
     "output_type": "stream",
     "text": [
      "test set size: 2231\n",
      "valid set size: 2232\n",
      "train set size: 10413\n",
      "larger set size: 739352\n"
     ]
    },
    {
     "name": "stderr",
     "output_type": "stream",
     "text": [
      "/opt/conda/lib/python3.7/site-packages/ipykernel_launcher.py:15: SettingWithCopyWarning: \n",
      "A value is trying to be set on a copy of a slice from a DataFrame.\n",
      "Try using .loc[row_indexer,col_indexer] = value instead\n",
      "\n",
      "See the caveats in the documentation: http://pandas.pydata.org/pandas-docs/stable/indexing.html#indexing-view-versus-copy\n",
      "  from ipykernel import kernelapp as app\n",
      "/opt/conda/lib/python3.7/site-packages/ipykernel_launcher.py:16: SettingWithCopyWarning: \n",
      "A value is trying to be set on a copy of a slice from a DataFrame.\n",
      "Try using .loc[row_indexer,col_indexer] = value instead\n",
      "\n",
      "See the caveats in the documentation: http://pandas.pydata.org/pandas-docs/stable/indexing.html#indexing-view-versus-copy\n",
      "  app.launch_new_instance()\n",
      "/opt/conda/lib/python3.7/site-packages/ipykernel_launcher.py:17: SettingWithCopyWarning: \n",
      "A value is trying to be set on a copy of a slice from a DataFrame.\n",
      "Try using .loc[row_indexer,col_indexer] = value instead\n",
      "\n",
      "See the caveats in the documentation: http://pandas.pydata.org/pandas-docs/stable/indexing.html#indexing-view-versus-copy\n"
     ]
    }
   ],
   "source": [
    "#create train, valid, and test set from labeled data\n",
    "get_these=np.random.permutation(np.shape(df_labeled)[0])\n",
    "split_here1=round(.15*np.shape(df_labeled)[0])\n",
    "split_here2=round(.3*np.shape(df_labeled)[0])\n",
    "df_labeled_test=df_labeled.iloc[get_these[:split_here1]]\n",
    "df_labeled_valid=df_labeled.iloc[get_these[split_here1:split_here2]]\n",
    "df_labeled_trn=df_labeled.iloc[get_these[split_here2:]]\n",
    "print('test set size:', np.shape(df_labeled_test)[0])\n",
    "print('valid set size:', np.shape(df_labeled_valid)[0])\n",
    "print('train set size:',np.shape(df_labeled_trn)[0])\n",
    "assert np.shape(df_labeled_test)[0]+np.shape(df_labeled_valid)[0]+np.shape(df_labeled_trn)[0]==np.shape(df_labeled)[0], 'lengths dont add up'\n",
    "\n",
    "\n",
    "\n",
    "df_labeled_valid['is_valid']=1\n",
    "df_labeled_trn['is_valid']=0\n",
    "df_unlabeled['is_valid']=0\n",
    "\n",
    "#create a dataset made of df_labeled_trn and df_unlabeled\n",
    "#this simulates situation where we have a much larger set of labeled data\n",
    "df_large=pd.concat([df_labeled_trn,df_unlabeled])\n",
    "\n",
    "print('larger set size:',np.shape(df_large)[0])\n",
    "\n"
   ]
  },
  {
   "cell_type": "code",
   "execution_count": 74,
   "metadata": {},
   "outputs": [
    {
     "name": "stdout",
     "output_type": "stream",
     "text": [
      "         sentiment                                            content  \\\n",
      "877259           4  Talk about Different  I like this one  ? http:...   \n",
      "1434762          4  Got a job at KFC, taking in some new hobbies, ...   \n",
      "139399           0  @HeathCastor I dunno? I never been to a club. ...   \n",
      "53857            0                                 My phone is dying    \n",
      "976136           4                  is watching ellen degeneres show    \n",
      "\n",
      "         str_len  is_valid  \n",
      "877259        62         0  \n",
      "1434762       84         0  \n",
      "139399       116         0  \n",
      "53857         18         0  \n",
      "976136        33         0  \n",
      "         sentiment                                            content  \\\n",
      "299472           0  Ditching school. Im gonna sleep. =P LOL. Watch...   \n",
      "611166           0  @bear_smooter Even with a bottle of wine? That...   \n",
      "777080           0  Running the M/V Donald Creppel *sigh* for the ...   \n",
      "1414226          4  @myMisericordia oH I would love to see the dog...   \n",
      "1109583          4  What a perfect day... Sunshine, 23'C, 4-5 Bft ...   \n",
      "\n",
      "         str_len  is_valid  \n",
      "299472        91         0  \n",
      "611166        58         0  \n",
      "777080       112         0  \n",
      "1414226       63         0  \n",
      "1109583      137         0  \n",
      "size of each sample: 12645\n"
     ]
    }
   ],
   "source": [
    "#For tri-training, we need 3 bootstrapped samples from the labeled train set\n",
    "#That is, we need random sampling with replacement\n",
    "sample_n=np.shape(df_labeled_trn)[0]\n",
    "\n",
    "df_labeled_trn_s1=df_labeled_trn.sample(n=sample_n,replace=True)\n",
    "df_labeled_trn_s2=df_labeled_trn.sample(n=sample_n,replace=True)\n",
    "df_labeled_trn_s3=df_labeled_trn.sample(n=sample_n,replace=True)\n",
    "\n",
    "#add in the validation set\n",
    "df_labeled_trn_s1=pd.concat([df_labeled_trn_s1,df_labeled_valid])\n",
    "df_labeled_trn_s2=pd.concat([df_labeled_trn_s2,df_labeled_valid])\n",
    "df_labeled_trn_s3=pd.concat([df_labeled_trn_s3,df_labeled_valid])\n",
    "df_large=pd.concat([df_large,df_labeled_valid])\n",
    "\n",
    "print(df_labeled_trn_s1.head())\n",
    "print(df_labeled_trn_s2.head())\n",
    "\n",
    "print('size of each sample:',np.shape(df_labeled_trn_s1)[0])\n",
    "\n",
    "assert np.shape(df_labeled_trn_s1)[0]==np.shape(df_labeled_trn_s2)[0]\n",
    "assert np.shape(df_labeled_trn_s1)[0]==np.shape(df_labeled_trn_s3)[0]\n",
    "\n"
   ]
  },
  {
   "cell_type": "code",
   "execution_count": 75,
   "metadata": {},
   "outputs": [],
   "source": [
    "#Save all of our datasets!\n",
    "\n",
    "df_trn.to_csv(DATAPATH/'df_full.csv', index=False)\n",
    "df_large.to_csv(DATAPATH/'df_large.csv', index=False)\n",
    "\n",
    "df_labeled.to_csv(DATAPATH/'df_labeled.csv', index=False)\n",
    "df_unlabeled.to_csv(DATAPATH/'df_unlabeled.csv', index=False)\n",
    "\n",
    "df_labeled_trn.to_csv(DATAPATH/'train_labeled.csv', index=False)\n",
    "df_labeled_valid.to_csv(DATAPATH/'valid_labeled.csv', index=False)\n",
    "df_labeled_test.to_csv(DATAPATH/'test_labeled.csv', index=False)\n",
    "\n",
    "df_labeled_trn_s1.to_csv(DATAPATH/'train_labeled_s1.csv', index=False)\n",
    "df_labeled_trn_s2.to_csv(DATAPATH/'train_labeled_s2.csv', index=False)\n",
    "df_labeled_trn_s3.to_csv(DATAPATH/'train_labeled_s3.csv', index=False)\n",
    "\n",
    "\n"
   ]
  },
  {
   "cell_type": "code",
   "execution_count": null,
   "metadata": {},
   "outputs": [],
   "source": []
  },
  {
   "cell_type": "markdown",
   "metadata": {},
   "source": [
    "# Build and run language model on the full dataset"
   ]
  },
  {
   "cell_type": "code",
   "execution_count": 19,
   "metadata": {},
   "outputs": [],
   "source": [
    "#set momentum values\n",
    "moms = (0.8,0.7)"
   ]
  },
  {
   "cell_type": "code",
   "execution_count": 20,
   "metadata": {},
   "outputs": [],
   "source": [
    "#language model data object\n",
    "data_lm = TextLMDataBunch.from_csv(DATAPATH, 'df_full.csv')"
   ]
  },
  {
   "cell_type": "code",
   "execution_count": 21,
   "metadata": {},
   "outputs": [
    {
     "data": {
      "text/html": [
       "<table border=\"1\" class=\"dataframe\">\n",
       "  <thead>\n",
       "    <tr style=\"text-align: left;\">\n",
       "      <th>epoch</th>\n",
       "      <th>train_loss</th>\n",
       "      <th>valid_loss</th>\n",
       "      <th>accuracy</th>\n",
       "      <th>time</th>\n",
       "    </tr>\n",
       "  </thead>\n",
       "  <tbody>\n",
       "    <tr>\n",
       "      <td>0</td>\n",
       "      <td>4.500430</td>\n",
       "      <td>4.261662</td>\n",
       "      <td>0.252461</td>\n",
       "      <td>14:14</td>\n",
       "    </tr>\n",
       "    <tr>\n",
       "      <td>1</td>\n",
       "      <td>4.348021</td>\n",
       "      <td>4.134992</td>\n",
       "      <td>0.265569</td>\n",
       "      <td>14:16</td>\n",
       "    </tr>\n",
       "    <tr>\n",
       "      <td>2</td>\n",
       "      <td>4.225672</td>\n",
       "      <td>4.066481</td>\n",
       "      <td>0.272583</td>\n",
       "      <td>14:16</td>\n",
       "    </tr>\n",
       "    <tr>\n",
       "      <td>3</td>\n",
       "      <td>4.155884</td>\n",
       "      <td>4.047857</td>\n",
       "      <td>0.274637</td>\n",
       "      <td>14:16</td>\n",
       "    </tr>\n",
       "  </tbody>\n",
       "</table>"
      ],
      "text/plain": [
       "<IPython.core.display.HTML object>"
      ]
     },
     "metadata": {},
     "output_type": "display_data"
    }
   ],
   "source": [
    "#This is using fast.ai's pretrained language model:\n",
    "#Model pretrained on wikitext103 dataset: \n",
    "    #https://blog.einstein.ai/the-wikitext-long-term-dependency-language-modeling-dataset/\n",
    "    #~100M tokens, ~270K vocab\n",
    "#Model based on Merity/Socher's AWD-LSTM quasi-recurrent neural network (QRNN)\n",
    "    #https://arxiv.org/abs/1708.02182\n",
    "learn = language_model_learner(data_lm, AWD_LSTM)\n",
    "learn.unfreeze()\n",
    "learn.fit_one_cycle(4, slice(1e-2), moms=moms)"
   ]
  },
  {
   "cell_type": "code",
   "execution_count": 22,
   "metadata": {},
   "outputs": [],
   "source": [
    "#save weights from language model\n",
    "learn.save_encoder('enc_LM_sent140')"
   ]
  },
  {
   "cell_type": "markdown",
   "metadata": {},
   "source": [
    "# Build and run first round of classification models for tri-training"
   ]
  },
  {
   "cell_type": "markdown",
   "metadata": {},
   "source": [
    "### This involves building and training three separate models, each based on one of the samples"
   ]
  },
  {
   "cell_type": "code",
   "execution_count": 563,
   "metadata": {},
   "outputs": [],
   "source": [
    "#create datasets for classification models\n",
    "\n",
    "#First some preprocessing for main training set:\n",
    "df_test=pd.read_csv(DATAPATH/'valid_labeled.csv')\n",
    "df_test['is_valid']=1\n",
    "df_tmp = pd.read_csv(DATAPATH/'train_labeled.csv')\n",
    "df_tmp['is_valid']=0\n",
    "df_tmp=pd.concat([df_tmp,df_test])\n",
    "df_tmp.to_csv(DATAPATH/'df_tmp.csv', index=False)\n",
    "tmplist=TextList.from_csv(DATAPATH, 'df_tmp.csv', cols='content', vocab=data_lm.train_ds.vocab)\n",
    "data_clas_main = (tmplist\n",
    "                .split_from_df(col='is_valid')\n",
    "                .label_from_df(cols='sentiment')#.add_test(test_list)\n",
    "                .databunch(bs=40))\n",
    "\n",
    "\n",
    "\n",
    "#Now for the samples...\n",
    "text_train_list_s1=TextList.from_csv(DATAPATH, 'train_labeled_s1.csv', cols='content', vocab=data_lm.train_ds.vocab)\n",
    "text_train_list_s2=TextList.from_csv(DATAPATH, 'train_labeled_s2.csv', cols='content', vocab=data_lm.train_ds.vocab)\n",
    "text_train_list_s3=TextList.from_csv(DATAPATH, 'train_labeled_s3.csv', cols='content', vocab=data_lm.train_ds.vocab)\n",
    "text_test_list=TextList.from_csv(DATAPATH, 'test_labeled.csv', cols='content', vocab=data_lm.train_ds.vocab)\n",
    "\n",
    "text_large_list=TextList.from_csv(DATAPATH, 'df_large.csv', cols='content', vocab=data_lm.train_ds.vocab)\n",
    "\n",
    "#The datasets for the 3 samples\n",
    "data_clas_s1 = (text_train_list_s1\n",
    "                .split_from_df(col='is_valid')\n",
    "                .label_from_df(cols='sentiment')\n",
    "                .add_test(text_test_list)\n",
    "                .databunch(bs=40))\n",
    "\n",
    "data_clas_s2 = (text_train_list_s2\n",
    "                .split_from_df(col='is_valid')\n",
    "                .label_from_df(cols='sentiment')\n",
    "                .add_test(text_test_list)\n",
    "                .databunch(bs=40))\n",
    "\n",
    "data_clas_s3 = (text_train_list_s3\n",
    "                .split_from_df(col='is_valid')\n",
    "                .label_from_df(cols='sentiment')\n",
    "                .add_test(text_test_list)\n",
    "                .databunch(bs=40))\n",
    "\n",
    "#Data for the much larger dataset\n",
    "data_clas_large = (text_large_list\n",
    "                .split_from_df(col='is_valid')\n",
    "                .label_from_df(cols='sentiment')\n",
    "                .add_test(text_test_list)\n",
    "                .databunch(bs=40))\n"
   ]
  },
  {
   "cell_type": "code",
   "execution_count": 77,
   "metadata": {},
   "outputs": [
    {
     "data": {
      "text/html": [
       "<table border=\"1\" class=\"dataframe\">\n",
       "  <thead>\n",
       "    <tr style=\"text-align: left;\">\n",
       "      <th>epoch</th>\n",
       "      <th>train_loss</th>\n",
       "      <th>valid_loss</th>\n",
       "      <th>accuracy</th>\n",
       "      <th>time</th>\n",
       "    </tr>\n",
       "  </thead>\n",
       "  <tbody>\n",
       "    <tr>\n",
       "      <td>0</td>\n",
       "      <td>0.557100</td>\n",
       "      <td>0.473547</td>\n",
       "      <td>0.778674</td>\n",
       "      <td>00:10</td>\n",
       "    </tr>\n",
       "    <tr>\n",
       "      <td>1</td>\n",
       "      <td>0.538399</td>\n",
       "      <td>0.469144</td>\n",
       "      <td>0.786290</td>\n",
       "      <td>00:10</td>\n",
       "    </tr>\n",
       "    <tr>\n",
       "      <td>2</td>\n",
       "      <td>0.528870</td>\n",
       "      <td>0.458265</td>\n",
       "      <td>0.793011</td>\n",
       "      <td>00:10</td>\n",
       "    </tr>\n",
       "    <tr>\n",
       "      <td>3</td>\n",
       "      <td>0.522673</td>\n",
       "      <td>0.450327</td>\n",
       "      <td>0.797043</td>\n",
       "      <td>00:10</td>\n",
       "    </tr>\n",
       "  </tbody>\n",
       "</table>"
      ],
      "text/plain": [
       "<IPython.core.display.HTML object>"
      ]
     },
     "metadata": {},
     "output_type": "display_data"
    }
   ],
   "source": [
    "#Classification model based on Howard/Ruder's ULMFiT approach:\n",
    "    #https://arxiv.org/abs/1801.06146\n",
    "#Start with pretrained LM and fine-tune on dataset as above\n",
    "#Keep the LM's \"encoder\" spine, but replace the head of the NN with a new network that predicts class\n",
    "#This approach utilizes transfer learning to enhance the classifier's performance\n",
    "#Also using one_cycle superconvergence: modify the learning rate and momentum value during training\n",
    "    #Ramp up then down the LR, while ramping down then up the momentum\n",
    "    #Significantly reduces training time and improves performance\n",
    "    #From Leslie Smith's paper: https://arxiv.org/pdf/1803.09820.pdf\n",
    "\n",
    "learn = text_classifier_learner(data_clas_s1, AWD_LSTM)\n",
    "learn.load_encoder('enc_LM_sent140')#load in the weights from the LM encoder\n",
    "learn.fit_one_cycle(4, moms=moms)\n"
   ]
  },
  {
   "cell_type": "code",
   "execution_count": 78,
   "metadata": {},
   "outputs": [
    {
     "data": {
      "text/html": [
       "<table border=\"1\" class=\"dataframe\">\n",
       "  <thead>\n",
       "    <tr style=\"text-align: left;\">\n",
       "      <th>epoch</th>\n",
       "      <th>train_loss</th>\n",
       "      <th>valid_loss</th>\n",
       "      <th>accuracy</th>\n",
       "      <th>time</th>\n",
       "    </tr>\n",
       "  </thead>\n",
       "  <tbody>\n",
       "    <tr>\n",
       "      <td>0</td>\n",
       "      <td>0.504981</td>\n",
       "      <td>0.447752</td>\n",
       "      <td>0.795251</td>\n",
       "      <td>00:20</td>\n",
       "    </tr>\n",
       "    <tr>\n",
       "      <td>1</td>\n",
       "      <td>0.502337</td>\n",
       "      <td>0.441159</td>\n",
       "      <td>0.802419</td>\n",
       "      <td>00:20</td>\n",
       "    </tr>\n",
       "    <tr>\n",
       "      <td>2</td>\n",
       "      <td>0.485947</td>\n",
       "      <td>0.434843</td>\n",
       "      <td>0.806452</td>\n",
       "      <td>00:20</td>\n",
       "    </tr>\n",
       "    <tr>\n",
       "      <td>3</td>\n",
       "      <td>0.464925</td>\n",
       "      <td>0.430869</td>\n",
       "      <td>0.800179</td>\n",
       "      <td>00:19</td>\n",
       "    </tr>\n",
       "    <tr>\n",
       "      <td>4</td>\n",
       "      <td>0.478139</td>\n",
       "      <td>0.427724</td>\n",
       "      <td>0.801971</td>\n",
       "      <td>00:20</td>\n",
       "    </tr>\n",
       "    <tr>\n",
       "      <td>5</td>\n",
       "      <td>0.441130</td>\n",
       "      <td>0.423802</td>\n",
       "      <td>0.807796</td>\n",
       "      <td>00:20</td>\n",
       "    </tr>\n",
       "    <tr>\n",
       "      <td>6</td>\n",
       "      <td>0.435809</td>\n",
       "      <td>0.424800</td>\n",
       "      <td>0.805556</td>\n",
       "      <td>00:19</td>\n",
       "    </tr>\n",
       "    <tr>\n",
       "      <td>7</td>\n",
       "      <td>0.436540</td>\n",
       "      <td>0.423292</td>\n",
       "      <td>0.805556</td>\n",
       "      <td>00:19</td>\n",
       "    </tr>\n",
       "  </tbody>\n",
       "</table>"
      ],
      "text/plain": [
       "<IPython.core.display.HTML object>"
      ]
     },
     "metadata": {},
     "output_type": "display_data"
    }
   ],
   "source": [
    "#Unfreeze all the layers and continue training:\n",
    "#Above, all the layers except for the last layer is frozen\n",
    "    #Idea is that \"encoder\" spine from the LM is fairly well-tuned, so only need to train the classifier head\n",
    "#Once head has been trained, now we can train all the layers of the network\n",
    "learn.unfreeze()\n",
    "learn.fit_one_cycle(8, slice(1e-5,1e-3), moms=moms)\n",
    "learn.save('s1_12e_unfreeze_001')\n",
    "\n"
   ]
  },
  {
   "cell_type": "code",
   "execution_count": 79,
   "metadata": {},
   "outputs": [
    {
     "data": {
      "text/html": [
       "<table border=\"1\" class=\"dataframe\">\n",
       "  <thead>\n",
       "    <tr style=\"text-align: left;\">\n",
       "      <th>epoch</th>\n",
       "      <th>train_loss</th>\n",
       "      <th>valid_loss</th>\n",
       "      <th>accuracy</th>\n",
       "      <th>time</th>\n",
       "    </tr>\n",
       "  </thead>\n",
       "  <tbody>\n",
       "    <tr>\n",
       "      <td>0</td>\n",
       "      <td>0.553158</td>\n",
       "      <td>0.479018</td>\n",
       "      <td>0.780018</td>\n",
       "      <td>00:10</td>\n",
       "    </tr>\n",
       "    <tr>\n",
       "      <td>1</td>\n",
       "      <td>0.529465</td>\n",
       "      <td>0.456275</td>\n",
       "      <td>0.788979</td>\n",
       "      <td>00:10</td>\n",
       "    </tr>\n",
       "    <tr>\n",
       "      <td>2</td>\n",
       "      <td>0.511834</td>\n",
       "      <td>0.449919</td>\n",
       "      <td>0.791219</td>\n",
       "      <td>00:10</td>\n",
       "    </tr>\n",
       "    <tr>\n",
       "      <td>3</td>\n",
       "      <td>0.511102</td>\n",
       "      <td>0.446709</td>\n",
       "      <td>0.795699</td>\n",
       "      <td>00:10</td>\n",
       "    </tr>\n",
       "  </tbody>\n",
       "</table>"
      ],
      "text/plain": [
       "<IPython.core.display.HTML object>"
      ]
     },
     "metadata": {},
     "output_type": "display_data"
    },
    {
     "data": {
      "text/html": [
       "<table border=\"1\" class=\"dataframe\">\n",
       "  <thead>\n",
       "    <tr style=\"text-align: left;\">\n",
       "      <th>epoch</th>\n",
       "      <th>train_loss</th>\n",
       "      <th>valid_loss</th>\n",
       "      <th>accuracy</th>\n",
       "      <th>time</th>\n",
       "    </tr>\n",
       "  </thead>\n",
       "  <tbody>\n",
       "    <tr>\n",
       "      <td>0</td>\n",
       "      <td>0.512473</td>\n",
       "      <td>0.443832</td>\n",
       "      <td>0.798835</td>\n",
       "      <td>00:20</td>\n",
       "    </tr>\n",
       "    <tr>\n",
       "      <td>1</td>\n",
       "      <td>0.496623</td>\n",
       "      <td>0.444081</td>\n",
       "      <td>0.794803</td>\n",
       "      <td>00:19</td>\n",
       "    </tr>\n",
       "    <tr>\n",
       "      <td>2</td>\n",
       "      <td>0.498999</td>\n",
       "      <td>0.439865</td>\n",
       "      <td>0.799731</td>\n",
       "      <td>00:20</td>\n",
       "    </tr>\n",
       "    <tr>\n",
       "      <td>3</td>\n",
       "      <td>0.480570</td>\n",
       "      <td>0.436788</td>\n",
       "      <td>0.801075</td>\n",
       "      <td>00:20</td>\n",
       "    </tr>\n",
       "    <tr>\n",
       "      <td>4</td>\n",
       "      <td>0.471058</td>\n",
       "      <td>0.432162</td>\n",
       "      <td>0.799283</td>\n",
       "      <td>00:20</td>\n",
       "    </tr>\n",
       "    <tr>\n",
       "      <td>5</td>\n",
       "      <td>0.449307</td>\n",
       "      <td>0.433056</td>\n",
       "      <td>0.804659</td>\n",
       "      <td>00:20</td>\n",
       "    </tr>\n",
       "    <tr>\n",
       "      <td>6</td>\n",
       "      <td>0.441979</td>\n",
       "      <td>0.432702</td>\n",
       "      <td>0.798387</td>\n",
       "      <td>00:20</td>\n",
       "    </tr>\n",
       "    <tr>\n",
       "      <td>7</td>\n",
       "      <td>0.438534</td>\n",
       "      <td>0.431688</td>\n",
       "      <td>0.799283</td>\n",
       "      <td>00:19</td>\n",
       "    </tr>\n",
       "  </tbody>\n",
       "</table>"
      ],
      "text/plain": [
       "<IPython.core.display.HTML object>"
      ]
     },
     "metadata": {},
     "output_type": "display_data"
    }
   ],
   "source": [
    "#Do same for s2\n",
    "learn = text_classifier_learner(data_clas_s2, AWD_LSTM)\n",
    "learn.load_encoder('enc_LM_sent140')#load in the weights from the LM encoder\n",
    "learn.fit_one_cycle(4, moms=moms)\n",
    "learn.unfreeze()\n",
    "learn.fit_one_cycle(8, slice(1e-5,1e-3), moms=moms)\n",
    "learn.save('s2_12e_unfreeze_001')"
   ]
  },
  {
   "cell_type": "code",
   "execution_count": 80,
   "metadata": {},
   "outputs": [
    {
     "data": {
      "text/html": [
       "<table border=\"1\" class=\"dataframe\">\n",
       "  <thead>\n",
       "    <tr style=\"text-align: left;\">\n",
       "      <th>epoch</th>\n",
       "      <th>train_loss</th>\n",
       "      <th>valid_loss</th>\n",
       "      <th>accuracy</th>\n",
       "      <th>time</th>\n",
       "    </tr>\n",
       "  </thead>\n",
       "  <tbody>\n",
       "    <tr>\n",
       "      <td>0</td>\n",
       "      <td>0.562157</td>\n",
       "      <td>0.463909</td>\n",
       "      <td>0.788082</td>\n",
       "      <td>00:10</td>\n",
       "    </tr>\n",
       "    <tr>\n",
       "      <td>1</td>\n",
       "      <td>0.537904</td>\n",
       "      <td>0.463287</td>\n",
       "      <td>0.791219</td>\n",
       "      <td>00:10</td>\n",
       "    </tr>\n",
       "    <tr>\n",
       "      <td>2</td>\n",
       "      <td>0.531749</td>\n",
       "      <td>0.453772</td>\n",
       "      <td>0.801075</td>\n",
       "      <td>00:10</td>\n",
       "    </tr>\n",
       "    <tr>\n",
       "      <td>3</td>\n",
       "      <td>0.515903</td>\n",
       "      <td>0.447557</td>\n",
       "      <td>0.801523</td>\n",
       "      <td>00:10</td>\n",
       "    </tr>\n",
       "  </tbody>\n",
       "</table>"
      ],
      "text/plain": [
       "<IPython.core.display.HTML object>"
      ]
     },
     "metadata": {},
     "output_type": "display_data"
    },
    {
     "data": {
      "text/html": [
       "<table border=\"1\" class=\"dataframe\">\n",
       "  <thead>\n",
       "    <tr style=\"text-align: left;\">\n",
       "      <th>epoch</th>\n",
       "      <th>train_loss</th>\n",
       "      <th>valid_loss</th>\n",
       "      <th>accuracy</th>\n",
       "      <th>time</th>\n",
       "    </tr>\n",
       "  </thead>\n",
       "  <tbody>\n",
       "    <tr>\n",
       "      <td>0</td>\n",
       "      <td>0.505817</td>\n",
       "      <td>0.446676</td>\n",
       "      <td>0.799283</td>\n",
       "      <td>00:20</td>\n",
       "    </tr>\n",
       "    <tr>\n",
       "      <td>1</td>\n",
       "      <td>0.511284</td>\n",
       "      <td>0.441550</td>\n",
       "      <td>0.801075</td>\n",
       "      <td>00:19</td>\n",
       "    </tr>\n",
       "    <tr>\n",
       "      <td>2</td>\n",
       "      <td>0.505528</td>\n",
       "      <td>0.438899</td>\n",
       "      <td>0.801523</td>\n",
       "      <td>00:20</td>\n",
       "    </tr>\n",
       "    <tr>\n",
       "      <td>3</td>\n",
       "      <td>0.484266</td>\n",
       "      <td>0.431523</td>\n",
       "      <td>0.801523</td>\n",
       "      <td>00:20</td>\n",
       "    </tr>\n",
       "    <tr>\n",
       "      <td>4</td>\n",
       "      <td>0.476524</td>\n",
       "      <td>0.427838</td>\n",
       "      <td>0.803315</td>\n",
       "      <td>00:19</td>\n",
       "    </tr>\n",
       "    <tr>\n",
       "      <td>5</td>\n",
       "      <td>0.461210</td>\n",
       "      <td>0.424891</td>\n",
       "      <td>0.811828</td>\n",
       "      <td>00:19</td>\n",
       "    </tr>\n",
       "    <tr>\n",
       "      <td>6</td>\n",
       "      <td>0.437228</td>\n",
       "      <td>0.423725</td>\n",
       "      <td>0.808692</td>\n",
       "      <td>00:20</td>\n",
       "    </tr>\n",
       "    <tr>\n",
       "      <td>7</td>\n",
       "      <td>0.437958</td>\n",
       "      <td>0.423919</td>\n",
       "      <td>0.814964</td>\n",
       "      <td>00:20</td>\n",
       "    </tr>\n",
       "  </tbody>\n",
       "</table>"
      ],
      "text/plain": [
       "<IPython.core.display.HTML object>"
      ]
     },
     "metadata": {},
     "output_type": "display_data"
    }
   ],
   "source": [
    "#Do same for s3\n",
    "learn = text_classifier_learner(data_clas_s3, AWD_LSTM)\n",
    "learn.load_encoder('enc_LM_sent140')#load in the weights from the LM encoder\n",
    "learn.fit_one_cycle(4, moms=moms)\n",
    "learn.unfreeze()\n",
    "learn.fit_one_cycle(8, slice(1e-5,1e-3), moms=moms)\n",
    "learn.save('s3_12e_unfreeze_001')"
   ]
  },
  {
   "cell_type": "code",
   "execution_count": 81,
   "metadata": {},
   "outputs": [
    {
     "data": {
      "text/html": [
       "<table border=\"1\" class=\"dataframe\">\n",
       "  <thead>\n",
       "    <tr style=\"text-align: left;\">\n",
       "      <th>epoch</th>\n",
       "      <th>train_loss</th>\n",
       "      <th>valid_loss</th>\n",
       "      <th>accuracy</th>\n",
       "      <th>time</th>\n",
       "    </tr>\n",
       "  </thead>\n",
       "  <tbody>\n",
       "    <tr>\n",
       "      <td>0</td>\n",
       "      <td>0.513515</td>\n",
       "      <td>0.425657</td>\n",
       "      <td>0.809588</td>\n",
       "      <td>07:28</td>\n",
       "    </tr>\n",
       "    <tr>\n",
       "      <td>1</td>\n",
       "      <td>0.514032</td>\n",
       "      <td>0.416941</td>\n",
       "      <td>0.812276</td>\n",
       "      <td>07:32</td>\n",
       "    </tr>\n",
       "    <tr>\n",
       "      <td>2</td>\n",
       "      <td>0.496843</td>\n",
       "      <td>0.411278</td>\n",
       "      <td>0.814516</td>\n",
       "      <td>07:17</td>\n",
       "    </tr>\n",
       "    <tr>\n",
       "      <td>3</td>\n",
       "      <td>0.498127</td>\n",
       "      <td>0.408943</td>\n",
       "      <td>0.819892</td>\n",
       "      <td>07:23</td>\n",
       "    </tr>\n",
       "  </tbody>\n",
       "</table>"
      ],
      "text/plain": [
       "<IPython.core.display.HTML object>"
      ]
     },
     "metadata": {},
     "output_type": "display_data"
    },
    {
     "data": {
      "text/html": [
       "<table border=\"1\" class=\"dataframe\">\n",
       "  <thead>\n",
       "    <tr style=\"text-align: left;\">\n",
       "      <th>epoch</th>\n",
       "      <th>train_loss</th>\n",
       "      <th>valid_loss</th>\n",
       "      <th>accuracy</th>\n",
       "      <th>time</th>\n",
       "    </tr>\n",
       "  </thead>\n",
       "  <tbody>\n",
       "    <tr>\n",
       "      <td>0</td>\n",
       "      <td>0.473285</td>\n",
       "      <td>0.385465</td>\n",
       "      <td>0.823477</td>\n",
       "      <td>19:16</td>\n",
       "    </tr>\n",
       "    <tr>\n",
       "      <td>1</td>\n",
       "      <td>0.442043</td>\n",
       "      <td>0.363186</td>\n",
       "      <td>0.838262</td>\n",
       "      <td>18:46</td>\n",
       "    </tr>\n",
       "    <tr>\n",
       "      <td>2</td>\n",
       "      <td>0.396280</td>\n",
       "      <td>0.347553</td>\n",
       "      <td>0.848118</td>\n",
       "      <td>18:39</td>\n",
       "    </tr>\n",
       "    <tr>\n",
       "      <td>3</td>\n",
       "      <td>0.401837</td>\n",
       "      <td>0.337543</td>\n",
       "      <td>0.859767</td>\n",
       "      <td>18:27</td>\n",
       "    </tr>\n",
       "    <tr>\n",
       "      <td>4</td>\n",
       "      <td>0.386306</td>\n",
       "      <td>0.332238</td>\n",
       "      <td>0.861559</td>\n",
       "      <td>19:18</td>\n",
       "    </tr>\n",
       "    <tr>\n",
       "      <td>5</td>\n",
       "      <td>0.388812</td>\n",
       "      <td>0.331113</td>\n",
       "      <td>0.861111</td>\n",
       "      <td>19:01</td>\n",
       "    </tr>\n",
       "    <tr>\n",
       "      <td>6</td>\n",
       "      <td>0.383931</td>\n",
       "      <td>0.326626</td>\n",
       "      <td>0.864695</td>\n",
       "      <td>19:06</td>\n",
       "    </tr>\n",
       "    <tr>\n",
       "      <td>7</td>\n",
       "      <td>0.398179</td>\n",
       "      <td>0.325612</td>\n",
       "      <td>0.866935</td>\n",
       "      <td>18:28</td>\n",
       "    </tr>\n",
       "  </tbody>\n",
       "</table>"
      ],
      "text/plain": [
       "<IPython.core.display.HTML object>"
      ]
     },
     "metadata": {},
     "output_type": "display_data"
    }
   ],
   "source": [
    "#Do same for large... \n",
    "#This simulates the situation where we have a much larger fully labeled dataset to work with\n",
    "#Performance of this model is just being used as a benchmark...\n",
    "    #it should be an upper bound for how well we can do with a semi-supervised approach\n",
    "learn = text_classifier_learner(data_clas_large, AWD_LSTM)\n",
    "learn.load_encoder('enc_LM_sent140')#load in the weights from the LM encoder\n",
    "learn.fit_one_cycle(4, moms=moms)\n",
    "learn.unfreeze()\n",
    "learn.fit_one_cycle(8, slice(1e-5,1e-3), moms=moms)\n",
    "learn.save('large_12e_unfreeze_001')"
   ]
  },
  {
   "cell_type": "code",
   "execution_count": 564,
   "metadata": {},
   "outputs": [
    {
     "data": {
      "text/html": [
       "<table border=\"1\" class=\"dataframe\">\n",
       "  <thead>\n",
       "    <tr style=\"text-align: left;\">\n",
       "      <th>epoch</th>\n",
       "      <th>train_loss</th>\n",
       "      <th>valid_loss</th>\n",
       "      <th>accuracy</th>\n",
       "      <th>time</th>\n",
       "    </tr>\n",
       "  </thead>\n",
       "  <tbody>\n",
       "    <tr>\n",
       "      <td>0</td>\n",
       "      <td>0.561704</td>\n",
       "      <td>0.481441</td>\n",
       "      <td>0.781362</td>\n",
       "      <td>00:12</td>\n",
       "    </tr>\n",
       "    <tr>\n",
       "      <td>1</td>\n",
       "      <td>0.549204</td>\n",
       "      <td>0.465433</td>\n",
       "      <td>0.793907</td>\n",
       "      <td>00:12</td>\n",
       "    </tr>\n",
       "    <tr>\n",
       "      <td>2</td>\n",
       "      <td>0.536986</td>\n",
       "      <td>0.450241</td>\n",
       "      <td>0.802419</td>\n",
       "      <td>00:12</td>\n",
       "    </tr>\n",
       "    <tr>\n",
       "      <td>3</td>\n",
       "      <td>0.525893</td>\n",
       "      <td>0.447468</td>\n",
       "      <td>0.800179</td>\n",
       "      <td>00:12</td>\n",
       "    </tr>\n",
       "  </tbody>\n",
       "</table>"
      ],
      "text/plain": [
       "<IPython.core.display.HTML object>"
      ]
     },
     "metadata": {},
     "output_type": "display_data"
    },
    {
     "data": {
      "text/html": [
       "<table border=\"1\" class=\"dataframe\">\n",
       "  <thead>\n",
       "    <tr style=\"text-align: left;\">\n",
       "      <th>epoch</th>\n",
       "      <th>train_loss</th>\n",
       "      <th>valid_loss</th>\n",
       "      <th>accuracy</th>\n",
       "      <th>time</th>\n",
       "    </tr>\n",
       "  </thead>\n",
       "  <tbody>\n",
       "    <tr>\n",
       "      <td>0</td>\n",
       "      <td>0.526163</td>\n",
       "      <td>0.442150</td>\n",
       "      <td>0.805108</td>\n",
       "      <td>00:22</td>\n",
       "    </tr>\n",
       "    <tr>\n",
       "      <td>1</td>\n",
       "      <td>0.520787</td>\n",
       "      <td>0.434077</td>\n",
       "      <td>0.810932</td>\n",
       "      <td>00:21</td>\n",
       "    </tr>\n",
       "    <tr>\n",
       "      <td>2</td>\n",
       "      <td>0.512583</td>\n",
       "      <td>0.430157</td>\n",
       "      <td>0.809140</td>\n",
       "      <td>00:22</td>\n",
       "    </tr>\n",
       "    <tr>\n",
       "      <td>3</td>\n",
       "      <td>0.480988</td>\n",
       "      <td>0.423372</td>\n",
       "      <td>0.808692</td>\n",
       "      <td>00:22</td>\n",
       "    </tr>\n",
       "    <tr>\n",
       "      <td>4</td>\n",
       "      <td>0.489114</td>\n",
       "      <td>0.422890</td>\n",
       "      <td>0.805556</td>\n",
       "      <td>00:21</td>\n",
       "    </tr>\n",
       "    <tr>\n",
       "      <td>5</td>\n",
       "      <td>0.468415</td>\n",
       "      <td>0.418971</td>\n",
       "      <td>0.811380</td>\n",
       "      <td>00:22</td>\n",
       "    </tr>\n",
       "    <tr>\n",
       "      <td>6</td>\n",
       "      <td>0.475307</td>\n",
       "      <td>0.417309</td>\n",
       "      <td>0.813172</td>\n",
       "      <td>00:21</td>\n",
       "    </tr>\n",
       "    <tr>\n",
       "      <td>7</td>\n",
       "      <td>0.480229</td>\n",
       "      <td>0.418968</td>\n",
       "      <td>0.811380</td>\n",
       "      <td>00:22</td>\n",
       "    </tr>\n",
       "  </tbody>\n",
       "</table>"
      ],
      "text/plain": [
       "<IPython.core.display.HTML object>"
      ]
     },
     "metadata": {},
     "output_type": "display_data"
    }
   ],
   "source": [
    "#Do same for main (unsampled) training set... \n",
    "learn = text_classifier_learner(data_clas_main, AWD_LSTM)\n",
    "learn.load_encoder('enc_LM_sent140')#load in the weights from the LM encoder\n",
    "learn.fit_one_cycle(4, moms=moms)\n",
    "learn.unfreeze()\n",
    "learn.fit_one_cycle(8, slice(1e-5,1e-3), moms=moms)\n",
    "learn.save('main_12e_unfreeze_001')"
   ]
  },
  {
   "cell_type": "markdown",
   "metadata": {},
   "source": [
    "### Get predictions on unlabeled data from all three samples"
   ]
  },
  {
   "cell_type": "code",
   "execution_count": 920,
   "metadata": {},
   "outputs": [],
   "source": [
    "#Construct a data structure for making predictions on the unlabeled data\n",
    "df_test=pd.read_csv(DATAPATH/'df_unlabeled.csv')\n",
    "df_test['is_valid']=1\n",
    "\n",
    "df_tmp = pd.read_csv(DATAPATH/'train_labeled_s1.csv')\n",
    "df_tmp=df_tmp[df_tmp['is_valid']==0]\n",
    "df_tmp=pd.concat([df_tmp,df_test])\n",
    "\n",
    "df_tmp.to_csv(DATAPATH/'df_tmp.csv', index=False)\n",
    "tmplist=TextList.from_csv(DATAPATH, 'df_tmp.csv', cols='content', vocab=data_lm.train_ds.vocab)\n",
    "data_tmp = (tmplist\n",
    "                .split_from_df(col='is_valid')\n",
    "                .label_from_df(cols='sentiment')\n",
    "                .databunch(bs=40))\n",
    "\n"
   ]
  },
  {
   "cell_type": "code",
   "execution_count": 921,
   "metadata": {},
   "outputs": [],
   "source": [
    "#make predictions on the unlabeled data, for all three samples\n",
    "learn = text_classifier_learner(data_tmp, AWD_LSTM)\n",
    "learn.load('s1_12e_unfreeze_001')\n",
    "predictions_s1=learn.get_preds(DatasetType.Valid,ordered=True)\n",
    "learn.load('s2_12e_unfreeze_001')\n",
    "predictions_s2=learn.get_preds(DatasetType.Valid,ordered=True)\n",
    "learn.load('s3_12e_unfreeze_001')\n",
    "predictions_s3=learn.get_preds(DatasetType.Valid,ordered=True)"
   ]
  },
  {
   "cell_type": "code",
   "execution_count": 922,
   "metadata": {},
   "outputs": [],
   "source": [
    "#convert prediction probabilities into np arrays, and concatenate\n",
    "predictions_probs=np.stack([predictions_s1[0].cpu().numpy()[:,0],\n",
    "                            predictions_s2[0].cpu().numpy()[:,0],\n",
    "                            predictions_s3[0].cpu().numpy()[:,0]],1)\n"
   ]
  },
  {
   "cell_type": "code",
   "execution_count": 923,
   "metadata": {
    "scrolled": true
   },
   "outputs": [],
   "source": [
    "#Do various pre-processing useful for deciding which unlabeled examples\n",
    "    # go to which samples\n",
    "\n",
    "#predictions for each of 3 samples\n",
    "predictions_predtargets=(predictions_probs>.5).astype(int)\n",
    "#average prediction\n",
    "ave_pred=np.mean(predictions_predtargets,axis=1)\n",
    "#get average probability over 3 samples:\n",
    "ave_prob=np.mean(predictions_probs,axis=1)\n",
    "#get standard deviation over 3 samples:\n",
    "std_prob=np.std(predictions_probs,axis=1)\n",
    "#get biggest differences bw ave of 2 and the third\n",
    "dif_prob_12m3=np.mean(predictions_probs[:,[0,1]],axis=1)-predictions_probs[:,2]\n",
    "dif_prob_13m2=np.mean(predictions_probs[:,[0,2]],axis=1)-predictions_probs[:,1]\n",
    "dif_prob_23m1=np.mean(predictions_probs[:,[1,2]],axis=1)-predictions_probs[:,0]\n",
    "#get individual samples probs\n",
    "s1_prediction_probs=predictions_probs[:,0]\n",
    "s2_prediction_probs=predictions_probs[:,1]\n",
    "s3_prediction_probs=predictions_probs[:,2]\n",
    "#get averages between pairings of 2 samples\n",
    "ave_prob12=np.mean(predictions_probs[:,[0,1]],axis=1)\n",
    "ave_prob13=np.mean(predictions_probs[:,[0,2]],axis=1)\n",
    "ave_prob23=np.mean(predictions_probs[:,[1,2]],axis=1)\n",
    "#set target to 1 or 0 based on ave_pred:\n",
    "ave_prob_target=np.round(ave_pred).astype('int')\n",
    "#get the indices of the max and min values\n",
    "probs_max_ind=np.argmax(predictions_probs,axis=1)\n",
    "probs_min_ind=np.argmin(predictions_probs,axis=1)\n"
   ]
  },
  {
   "cell_type": "code",
   "execution_count": 924,
   "metadata": {},
   "outputs": [
    {
     "name": "stdout",
     "output_type": "stream",
     "text": [
      "standard deviation between three models prediction labels:  0.044066004\n"
     ]
    },
    {
     "data": {
      "text/plain": [
       "(array([1.00000e+00, 2.00000e+00, 6.00000e+00, 5.00000e+00, 1.50000e+01, 2.70000e+01, 4.40000e+01, 6.80000e+01,\n",
       "        1.37000e+02, 2.30000e+02, 3.62000e+02, 5.66000e+02, 9.83000e+02, 1.51200e+03, 2.42700e+03, 3.83300e+03,\n",
       "        5.95000e+03, 9.25600e+03, 1.38740e+04, 2.14060e+04, 3.23460e+04, 5.03180e+04, 8.75960e+04, 1.68758e+05,\n",
       "        8.81120e+04, 6.10790e+04, 4.59570e+04, 3.57090e+04, 2.72180e+04, 2.08260e+04, 1.52500e+04, 1.12110e+04,\n",
       "        7.87000e+03, 5.46100e+03, 3.83300e+03, 2.48500e+03, 1.57200e+03, 1.05500e+03, 6.52000e+02, 3.60000e+02,\n",
       "        2.19000e+02, 1.76000e+02, 7.20000e+01, 4.40000e+01, 1.90000e+01, 1.30000e+01, 1.20000e+01, 7.00000e+00,\n",
       "        3.00000e+00, 2.00000e+00]),\n",
       " array([-0.559595, -0.53567 , -0.511745, -0.48782 , ...,  0.564884,  0.58881 ,  0.612735,  0.63666 ], dtype=float32),\n",
       " <a list of 50 Patch objects>)"
      ]
     },
     "execution_count": 924,
     "metadata": {},
     "output_type": "execute_result"
    },
    {
     "data": {
      "image/png": "[encoded data removed]",
      "text/plain": [
       "<Figure size 432x288 with 1 Axes>"
      ]
     },
     "metadata": {
      "needs_background": "light"
     },
     "output_type": "display_data"
    }
   ],
   "source": [
    "# the difference in predicted label between\n",
    "    #a single sample and the average of the other two samples\n",
    "#The vast majority of generated predictions are very similar between the three models \n",
    "print('standard deviation between three models prediction labels: ',np.mean(np.std(predictions_probs,axis=1)))\n",
    "plt.hist(dif_prob_12m3,50)\n"
   ]
  },
  {
   "cell_type": "code",
   "execution_count": 925,
   "metadata": {},
   "outputs": [
    {
     "data": {
      "text/plain": [
       "(array([18668., 19357., 15489., 13325., ..., 13230., 14515., 16023., 14599.]),\n",
       " array([1.470389e-04, 1.014541e-02, 2.014377e-02, 3.014214e-02, ..., 9.699886e-01, 9.799870e-01, 9.899853e-01,\n",
       "        9.999837e-01], dtype=float32),\n",
       " <a list of 100 Patch objects>)"
      ]
     },
     "execution_count": 925,
     "metadata": {},
     "output_type": "execute_result"
    },
    {
     "data": {
      "image/png": "[encoded data removed]",
      "text/plain": [
       "<Figure size 432x288 with 1 Axes>"
      ]
     },
     "metadata": {
      "needs_background": "light"
     },
     "output_type": "display_data"
    }
   ],
   "source": [
    "#The distribution of the generated probabilities\n",
    "#The distribution has peaks at 0 and 1, since it is trained to discriminate Neg from Pos\n",
    "plt.hist(ave_prob,100)"
   ]
  },
  {
   "cell_type": "markdown",
   "metadata": {},
   "source": [
    "### Continue tri-training with the unlabeled dataset's predicted labels"
   ]
  },
  {
   "cell_type": "code",
   "execution_count": 926,
   "metadata": {},
   "outputs": [
    {
     "name": "stdout",
     "output_type": "stream",
     "text": [
      "(728939, 13)\n"
     ]
    }
   ],
   "source": [
    "get_top_n=5000# Get top 10K examples (5K of '0' and 5K of '1') of most certain pair-predicted labels \n",
    "df_test=pd.read_csv(DATAPATH/'df_unlabeled.csv')\n",
    "df_test['ave_prob12']=ave_prob12\n",
    "df_test['ave_prob13']=ave_prob13\n",
    "df_test['ave_prob23']=ave_prob23\n",
    "df_test['dif_prob_23m1']=dif_prob_23m1\n",
    "df_test['dif_prob_13m2']=dif_prob_13m2\n",
    "df_test['dif_prob_12m3']=dif_prob_12m3\n",
    "df_test['s1_prediction_probs']=s1_prediction_probs\n",
    "df_test['s2_prediction_probs']=s2_prediction_probs\n",
    "df_test['s3_prediction_probs']=s3_prediction_probs\n",
    "print(np.shape(df_test))\n",
    "\n",
    "df_tmp = pd.read_csv(DATAPATH/'train_labeled_s1.csv')\n",
    "df_tmp.to_csv(DATAPATH/'train_labeled_s1_tmp.csv', index=False)\n",
    "df_tmp = pd.read_csv(DATAPATH/'train_labeled_s2.csv')\n",
    "df_tmp.to_csv(DATAPATH/'train_labeled_s2_tmp.csv', index=False)\n",
    "df_tmp = pd.read_csv(DATAPATH/'train_labeled_s3.csv')\n",
    "df_tmp.to_csv(DATAPATH/'train_labeled_s3_tmp.csv', index=False)\n"
   ]
  },
  {
   "cell_type": "code",
   "execution_count": 927,
   "metadata": {},
   "outputs": [],
   "source": [
    "#for s1\n",
    "ave_prob_pair=np.array(df_test['ave_prob23'])\n",
    "dif_prob_pair_m_s=np.array(df_test['dif_prob_23m1'])\n",
    "s_prediction_probs=np.array(df_test['s1_prediction_probs'])\n",
    "csv_name='train_labeled_s1_tmp.csv'\n",
    "df_tmp = pd.read_csv(DATAPATH/csv_name)\n",
    "#set targets to the mean of pair\n",
    "ave_prob_target_tmp=np.round(ave_prob_pair).astype(int)\n",
    "ave_prob_target_tmp[ave_prob_target_tmp==0]=4\n",
    "ave_prob_target_tmp[ave_prob_target_tmp==1]=0\n",
    "print(np.shape(ave_prob_target_tmp))\n",
    "#get thresholds\n",
    "ave_prob_pair_sorted=np.sort(ave_prob_pair)\n",
    "low_thresh=ave_prob_pair_sorted[get_top_n]\n",
    "high_thresh=ave_prob_pair_sorted[len(ave_prob_pair_sorted)-get_top_n]\n",
    "get_these=np.zeros(np.shape(ave_prob_pair)[0])\n",
    "get_these[ave_prob_pair<low_thresh]=1\n",
    "get_these[ave_prob_pair>high_thresh]=1\n",
    "get_these=get_these.astype(bool)\n",
    "print(np.shape(ave_prob_target_tmp[get_these]))\n",
    "#get selections\n",
    "ave_prob_pair_tmp=ave_prob_pair[get_these]\n",
    "s_prediction_probs_tmp=s_prediction_probs[get_these]\n",
    "dif_prob_pair_m_s_tmp=dif_prob_pair_m_s[get_these]\n",
    "ave_prob_target_tmp=ave_prob_target_tmp[get_these]\n",
    "print(np.shape(ave_prob_pair_tmp))\n",
    "#modify df_test_tmp\n",
    "df_test_tmp=df_test.iloc[get_these]\n",
    "print(np.shape(df_test_tmp))\n",
    "df_test=df_test[~get_these]\n",
    "print(np.shape(df_test))\n",
    "df_test_tmp['sentiment']=ave_prob_target_tmp\n",
    "#df_test_tmp['sentiment'].iloc[get_these_s1]=s_prediction_preds[get_these_s1]\n",
    "df_test_tmp['is_valid']=0\n",
    "#create expanded data for further training of sample's model\n",
    "df_tmp=pd.concat([df_tmp,df_test_tmp])\n",
    "df_tmp.to_csv(DATAPATH/csv_name, index=False)\n",
    "tmplist=TextList.from_csv(DATAPATH, csv_name, cols='content', vocab=data_lm.train_ds.vocab)\n",
    "data_tmp = (tmplist\n",
    "                .split_from_df(col='is_valid')\n",
    "                .label_from_df(cols='sentiment')\n",
    "                .databunch(bs=40))\n"
   ]
  },
  {
   "cell_type": "code",
   "execution_count": 928,
   "metadata": {
    "scrolled": true
   },
   "outputs": [
    {
     "name": "stdout",
     "output_type": "stream",
     "text": [
      "(22644, 13)\n",
      "(718940, 13)\n"
     ]
    },
    {
     "data": {
      "text/html": [
       "<table border=\"1\" class=\"dataframe\">\n",
       "  <thead>\n",
       "    <tr style=\"text-align: left;\">\n",
       "      <th>epoch</th>\n",
       "      <th>train_loss</th>\n",
       "      <th>valid_loss</th>\n",
       "      <th>accuracy</th>\n",
       "      <th>time</th>\n",
       "    </tr>\n",
       "  </thead>\n",
       "  <tbody>\n",
       "    <tr>\n",
       "      <td>0</td>\n",
       "      <td>0.272075</td>\n",
       "      <td>0.426291</td>\n",
       "      <td>0.805556</td>\n",
       "      <td>00:37</td>\n",
       "    </tr>\n",
       "    <tr>\n",
       "      <td>1</td>\n",
       "      <td>0.246473</td>\n",
       "      <td>0.429492</td>\n",
       "      <td>0.802867</td>\n",
       "      <td>00:38</td>\n",
       "    </tr>\n",
       "    <tr>\n",
       "      <td>2</td>\n",
       "      <td>0.253791</td>\n",
       "      <td>0.427987</td>\n",
       "      <td>0.806900</td>\n",
       "      <td>00:38</td>\n",
       "    </tr>\n",
       "    <tr>\n",
       "      <td>3</td>\n",
       "      <td>0.242967</td>\n",
       "      <td>0.428436</td>\n",
       "      <td>0.810036</td>\n",
       "      <td>00:38</td>\n",
       "    </tr>\n",
       "  </tbody>\n",
       "</table>"
      ],
      "text/plain": [
       "<IPython.core.display.HTML object>"
      ]
     },
     "metadata": {},
     "output_type": "display_data"
    }
   ],
   "source": [
    "#Continue training model using the pseudo-labels\n",
    "print(np.shape(df_tmp))\n",
    "print(np.shape(df_test))\n",
    "learn = text_classifier_learner(data_tmp, AWD_LSTM)\n",
    "learn.load('s1_12e_unfreeze_001')#load in the weights from the LM encoder\n",
    "learn.unfreeze()\n",
    "learn.fit_one_cycle(4, slice(1e-5,1e-3), moms=moms)\n",
    "learn.save('s1_16e_tritrained_001')"
   ]
  },
  {
   "cell_type": "code",
   "execution_count": 929,
   "metadata": {},
   "outputs": [],
   "source": [
    "#for s2\n",
    "ave_prob_pair=np.array(df_test['ave_prob13'])\n",
    "dif_prob_pair_m_s=np.array(df_test['dif_prob_13m2'])\n",
    "s_prediction_probs=np.array(df_test['s2_prediction_probs'])\n",
    "csv_name='train_labeled_s2_tmp.csv'\n",
    "df_tmp = pd.read_csv(DATAPATH/csv_name)\n",
    "#set targets to the mean of pair\n",
    "ave_prob_target_tmp=np.round(ave_prob_pair).astype(int)\n",
    "ave_prob_target_tmp[ave_prob_target_tmp==0]=4\n",
    "ave_prob_target_tmp[ave_prob_target_tmp==1]=0\n",
    "print(np.shape(ave_prob_target_tmp))\n",
    "#get thresholds\n",
    "ave_prob_pair_sorted=np.sort(ave_prob_pair)\n",
    "low_thresh=ave_prob_pair_sorted[get_top_n]\n",
    "high_thresh=ave_prob_pair_sorted[len(ave_prob_pair_sorted)-get_top_n]\n",
    "get_these=np.zeros(np.shape(ave_prob_pair)[0])\n",
    "get_these[ave_prob_pair<low_thresh]=1\n",
    "get_these[ave_prob_pair>high_thresh]=1\n",
    "get_these=get_these.astype(bool)\n",
    "print(np.shape(ave_prob_target_tmp[get_these]))\n",
    "#get selections\n",
    "ave_prob_pair_tmp=ave_prob_pair[get_these]\n",
    "s_prediction_probs_tmp=s_prediction_probs[get_these]\n",
    "dif_prob_pair_m_s_tmp=dif_prob_pair_m_s[get_these]\n",
    "ave_prob_target_tmp=ave_prob_target_tmp[get_these]\n",
    "print(np.shape(ave_prob_pair_tmp))\n",
    "#modify df_test_tmp\n",
    "df_test_tmp=df_test.iloc[get_these]\n",
    "print(np.shape(df_test_tmp))\n",
    "df_test=df_test[~get_these]\n",
    "print(np.shape(df_test))\n",
    "df_test_tmp['sentiment']=ave_prob_target_tmp\n",
    "#df_test_tmp['sentiment'].iloc[get_these_s1]=s_prediction_preds[get_these_s1]\n",
    "df_test_tmp['is_valid']=0\n",
    "#create expanded data for further training of sample's model\n",
    "df_tmp=pd.concat([df_tmp,df_test_tmp])\n",
    "df_tmp.to_csv(DATAPATH/csv_name, index=False)\n",
    "tmplist=TextList.from_csv(DATAPATH, csv_name, cols='content', vocab=data_lm.train_ds.vocab)\n",
    "data_tmp = (tmplist\n",
    "                .split_from_df(col='is_valid')\n",
    "                .label_from_df(cols='sentiment')\n",
    "                .databunch(bs=40))\n"
   ]
  },
  {
   "cell_type": "code",
   "execution_count": 930,
   "metadata": {},
   "outputs": [
    {
     "name": "stdout",
     "output_type": "stream",
     "text": [
      "(22644, 13)\n",
      "(708941, 13)\n"
     ]
    },
    {
     "data": {
      "text/html": [
       "<table border=\"1\" class=\"dataframe\">\n",
       "  <thead>\n",
       "    <tr style=\"text-align: left;\">\n",
       "      <th>epoch</th>\n",
       "      <th>train_loss</th>\n",
       "      <th>valid_loss</th>\n",
       "      <th>accuracy</th>\n",
       "      <th>time</th>\n",
       "    </tr>\n",
       "  </thead>\n",
       "  <tbody>\n",
       "    <tr>\n",
       "      <td>0</td>\n",
       "      <td>0.268938</td>\n",
       "      <td>0.440734</td>\n",
       "      <td>0.797043</td>\n",
       "      <td>00:38</td>\n",
       "    </tr>\n",
       "    <tr>\n",
       "      <td>1</td>\n",
       "      <td>0.256114</td>\n",
       "      <td>0.439992</td>\n",
       "      <td>0.798835</td>\n",
       "      <td>00:38</td>\n",
       "    </tr>\n",
       "    <tr>\n",
       "      <td>2</td>\n",
       "      <td>0.245596</td>\n",
       "      <td>0.438050</td>\n",
       "      <td>0.798387</td>\n",
       "      <td>00:37</td>\n",
       "    </tr>\n",
       "    <tr>\n",
       "      <td>3</td>\n",
       "      <td>0.251346</td>\n",
       "      <td>0.438122</td>\n",
       "      <td>0.801971</td>\n",
       "      <td>00:39</td>\n",
       "    </tr>\n",
       "  </tbody>\n",
       "</table>"
      ],
      "text/plain": [
       "<IPython.core.display.HTML object>"
      ]
     },
     "metadata": {},
     "output_type": "display_data"
    }
   ],
   "source": [
    "#Continue training model using the pseudo-labels\n",
    "print(np.shape(df_tmp))\n",
    "print(np.shape(df_test))\n",
    "learn = text_classifier_learner(data_tmp, AWD_LSTM)\n",
    "learn.load('s2_12e_unfreeze_001')#load in the weights from the LM encoder\n",
    "learn.unfreeze()\n",
    "learn.fit_one_cycle(4, slice(1e-5,1e-3), moms=moms)\n",
    "learn.save('s2_16e_tritrained_001')"
   ]
  },
  {
   "cell_type": "code",
   "execution_count": 931,
   "metadata": {},
   "outputs": [],
   "source": [
    "#for s3\n",
    "ave_prob_pair=np.array(df_test['ave_prob12'])\n",
    "dif_prob_pair_m_s=np.array(df_test['dif_prob_12m3'])\n",
    "s_prediction_probs=np.array(df_test['s3_prediction_probs'])\n",
    "csv_name='train_labeled_s3_tmp.csv'\n",
    "df_tmp = pd.read_csv(DATAPATH/csv_name)\n",
    "#set targets to the mean of pair\n",
    "ave_prob_target_tmp=np.round(ave_prob_pair).astype(int)\n",
    "ave_prob_target_tmp[ave_prob_target_tmp==0]=4\n",
    "ave_prob_target_tmp[ave_prob_target_tmp==1]=0\n",
    "print(np.shape(ave_prob_target_tmp))\n",
    "#get thresholds\n",
    "ave_prob_pair_sorted=np.sort(ave_prob_pair)\n",
    "low_thresh=ave_prob_pair_sorted[get_top_n]\n",
    "high_thresh=ave_prob_pair_sorted[len(ave_prob_pair_sorted)-get_top_n]\n",
    "get_these=np.zeros(np.shape(ave_prob_pair)[0])\n",
    "get_these[ave_prob_pair<low_thresh]=1\n",
    "get_these[ave_prob_pair>high_thresh]=1\n",
    "get_these=get_these.astype(bool)\n",
    "print(np.shape(ave_prob_target_tmp[get_these]))\n",
    "#get selections\n",
    "ave_prob_pair_tmp=ave_prob_pair[get_these]\n",
    "s_prediction_probs_tmp=s_prediction_probs[get_these]\n",
    "dif_prob_pair_m_s_tmp=dif_prob_pair_m_s[get_these]\n",
    "ave_prob_target_tmp=ave_prob_target_tmp[get_these]\n",
    "print(np.shape(ave_prob_pair_tmp))\n",
    "#modify df_test_tmp\n",
    "df_test_tmp=df_test.iloc[get_these]\n",
    "print(np.shape(df_test_tmp))\n",
    "df_test=df_test[~get_these]\n",
    "print(np.shape(df_test))\n",
    "df_test_tmp['sentiment']=ave_prob_target_tmp\n",
    "#df_test_tmp['sentiment'].iloc[get_these_s1]=s_prediction_preds[get_these_s1]\n",
    "df_test_tmp['is_valid']=0\n",
    "#create expanded data for further training of sample's model\n",
    "df_tmp=pd.concat([df_tmp,df_test_tmp])\n",
    "df_tmp.to_csv(DATAPATH/csv_name, index=False)\n",
    "tmplist=TextList.from_csv(DATAPATH, csv_name, cols='content', vocab=data_lm.train_ds.vocab)\n",
    "data_tmp = (tmplist\n",
    "                .split_from_df(col='is_valid')\n",
    "                .label_from_df(cols='sentiment')\n",
    "                .databunch(bs=40))\n"
   ]
  },
  {
   "cell_type": "code",
   "execution_count": 932,
   "metadata": {},
   "outputs": [
    {
     "name": "stdout",
     "output_type": "stream",
     "text": [
      "(22644, 13)\n",
      "(698942, 13)\n"
     ]
    },
    {
     "data": {
      "text/html": [
       "<table border=\"1\" class=\"dataframe\">\n",
       "  <thead>\n",
       "    <tr style=\"text-align: left;\">\n",
       "      <th>epoch</th>\n",
       "      <th>train_loss</th>\n",
       "      <th>valid_loss</th>\n",
       "      <th>accuracy</th>\n",
       "      <th>time</th>\n",
       "    </tr>\n",
       "  </thead>\n",
       "  <tbody>\n",
       "    <tr>\n",
       "      <td>0</td>\n",
       "      <td>0.265480</td>\n",
       "      <td>0.425043</td>\n",
       "      <td>0.813620</td>\n",
       "      <td>00:38</td>\n",
       "    </tr>\n",
       "    <tr>\n",
       "      <td>1</td>\n",
       "      <td>0.253222</td>\n",
       "      <td>0.415999</td>\n",
       "      <td>0.803763</td>\n",
       "      <td>00:38</td>\n",
       "    </tr>\n",
       "    <tr>\n",
       "      <td>2</td>\n",
       "      <td>0.245343</td>\n",
       "      <td>0.423436</td>\n",
       "      <td>0.814068</td>\n",
       "      <td>00:38</td>\n",
       "    </tr>\n",
       "    <tr>\n",
       "      <td>3</td>\n",
       "      <td>0.237727</td>\n",
       "      <td>0.423912</td>\n",
       "      <td>0.810484</td>\n",
       "      <td>00:38</td>\n",
       "    </tr>\n",
       "  </tbody>\n",
       "</table>"
      ],
      "text/plain": [
       "<IPython.core.display.HTML object>"
      ]
     },
     "metadata": {},
     "output_type": "display_data"
    }
   ],
   "source": [
    "#Continue training model using the pseudo-labels\n",
    "print(np.shape(df_tmp))\n",
    "print(np.shape(df_test))\n",
    "learn = text_classifier_learner(data_tmp, AWD_LSTM)\n",
    "learn.load('s3_12e_unfreeze_001')#load in the weights from the LM encoder\n",
    "learn.unfreeze()\n",
    "learn.fit_one_cycle(4, slice(1e-5,1e-3), moms=moms)\n",
    "learn.save('s3_16e_tritrained_001')"
   ]
  },
  {
   "cell_type": "markdown",
   "metadata": {},
   "source": [
    "### Round 2 of predictions and tri-training"
   ]
  },
  {
   "cell_type": "code",
   "execution_count": 933,
   "metadata": {},
   "outputs": [],
   "source": [
    "#Construct a data structure for making predictions on the unlabeled data\n",
    "df_test['is_valid']=1\n",
    "\n",
    "df_tmp = pd.read_csv(DATAPATH/'train_labeled_s1.csv')\n",
    "df_tmp=df_tmp[df_tmp['is_valid']==0]\n",
    "df_tmp=pd.concat([df_tmp,df_test])\n",
    "\n",
    "df_tmp.to_csv(DATAPATH/'df_tmp.csv', index=False)\n",
    "tmplist=TextList.from_csv(DATAPATH, 'df_tmp.csv', cols='content', vocab=data_lm.train_ds.vocab)\n",
    "data_tmp = (tmplist\n",
    "                .split_from_df(col='is_valid')\n",
    "                .label_from_df(cols='sentiment')\n",
    "                .databunch(bs=40))\n",
    "\n",
    "#make predictions on the unlabeled data, for all three samples\n",
    "learn = text_classifier_learner(data_tmp, AWD_LSTM)\n",
    "learn.load('s1_16e_tritrained_001')\n",
    "predictions_s1_2=learn.get_preds(DatasetType.Valid,ordered=True)\n",
    "learn.load('s2_16e_tritrained_001')\n",
    "predictions_s2_2=learn.get_preds(DatasetType.Valid,ordered=True)\n",
    "learn.load('s3_16e_tritrained_001')\n",
    "predictions_s3_2=learn.get_preds(DatasetType.Valid,ordered=True)\n",
    "\n",
    "#convert prediction probabilities into np arrays, and concatenate\n",
    "predictions_probs=np.stack([predictions_s1_2[0].cpu().numpy()[:,0],\n",
    "                            predictions_s2_2[0].cpu().numpy()[:,0],\n",
    "                            predictions_s3_2[0].cpu().numpy()[:,0]],1)"
   ]
  },
  {
   "cell_type": "code",
   "execution_count": 934,
   "metadata": {},
   "outputs": [
    {
     "name": "stdout",
     "output_type": "stream",
     "text": [
      "(698942, 13)\n"
     ]
    }
   ],
   "source": [
    "#df_test=pd.read_csv(DATAPATH/'df_unlabeled.csv')\n",
    "\n",
    "#get averages between pairings of 2 samples\n",
    "ave_prob12=np.mean(predictions_probs[:,[0,1]],axis=1)\n",
    "ave_prob13=np.mean(predictions_probs[:,[0,2]],axis=1)\n",
    "ave_prob23=np.mean(predictions_probs[:,[1,2]],axis=1)\n",
    "\n",
    "df_test['ave_prob12']=ave_prob12\n",
    "df_test['ave_prob13']=ave_prob13\n",
    "df_test['ave_prob23']=ave_prob23\n",
    "print(np.shape(df_test))\n",
    "\n"
   ]
  },
  {
   "cell_type": "code",
   "execution_count": 935,
   "metadata": {},
   "outputs": [],
   "source": [
    "#for s1\n",
    "ave_prob_pair=np.array(df_test['ave_prob23'])\n",
    "csv_name='train_labeled_s1_tmp.csv'\n",
    "df_tmp = pd.read_csv(DATAPATH/csv_name)\n",
    "#set targets to the mean of pair\n",
    "ave_prob_target_tmp=np.round(ave_prob_pair).astype(int)\n",
    "ave_prob_target_tmp[ave_prob_target_tmp==0]=4\n",
    "ave_prob_target_tmp[ave_prob_target_tmp==1]=0\n",
    "print(np.shape(ave_prob_target_tmp))\n",
    "#get thresholds\n",
    "ave_prob_pair_sorted=np.sort(ave_prob_pair)\n",
    "low_thresh=ave_prob_pair_sorted[get_top_n]\n",
    "high_thresh=ave_prob_pair_sorted[len(ave_prob_pair_sorted)-get_top_n]\n",
    "get_these=np.zeros(np.shape(ave_prob_pair)[0])\n",
    "get_these[ave_prob_pair<low_thresh]=1\n",
    "get_these[ave_prob_pair>high_thresh]=1\n",
    "get_these=get_these.astype(bool)\n",
    "print(np.shape(ave_prob_target_tmp[get_these]))\n",
    "#get selections\n",
    "ave_prob_pair_tmp=ave_prob_pair[get_these]\n",
    "ave_prob_target_tmp=ave_prob_target_tmp[get_these]\n",
    "print(np.shape(ave_prob_pair_tmp))\n",
    "#modify df_test_tmp\n",
    "df_test_tmp=df_test.iloc[get_these]\n",
    "print(np.shape(df_test_tmp))\n",
    "df_test=df_test[~get_these]\n",
    "print(np.shape(df_test))\n",
    "df_test_tmp['sentiment']=ave_prob_target_tmp\n",
    "#df_test_tmp['sentiment'].iloc[get_these_s1]=s_prediction_preds[get_these_s1]\n",
    "df_test_tmp['is_valid']=0\n",
    "#create expanded data for further training of sample's model\n",
    "df_tmp=pd.concat([df_tmp,df_test_tmp])\n",
    "df_tmp.to_csv(DATAPATH/csv_name, index=False)\n",
    "tmplist=TextList.from_csv(DATAPATH, csv_name, cols='content', vocab=data_lm.train_ds.vocab)\n",
    "data_tmp = (tmplist\n",
    "                .split_from_df(col='is_valid')\n",
    "                .label_from_df(cols='sentiment')\n",
    "                .databunch(bs=40))\n"
   ]
  },
  {
   "cell_type": "code",
   "execution_count": 936,
   "metadata": {
    "scrolled": true
   },
   "outputs": [
    {
     "name": "stdout",
     "output_type": "stream",
     "text": [
      "(32643, 13)\n",
      "(688943, 13)\n"
     ]
    },
    {
     "data": {
      "text/html": [
       "<table border=\"1\" class=\"dataframe\">\n",
       "  <thead>\n",
       "    <tr style=\"text-align: left;\">\n",
       "      <th>epoch</th>\n",
       "      <th>train_loss</th>\n",
       "      <th>valid_loss</th>\n",
       "      <th>accuracy</th>\n",
       "      <th>time</th>\n",
       "    </tr>\n",
       "  </thead>\n",
       "  <tbody>\n",
       "    <tr>\n",
       "      <td>0</td>\n",
       "      <td>0.184301</td>\n",
       "      <td>0.429720</td>\n",
       "      <td>0.812276</td>\n",
       "      <td>00:50</td>\n",
       "    </tr>\n",
       "    <tr>\n",
       "      <td>1</td>\n",
       "      <td>0.179923</td>\n",
       "      <td>0.464210</td>\n",
       "      <td>0.808244</td>\n",
       "      <td>00:52</td>\n",
       "    </tr>\n",
       "    <tr>\n",
       "      <td>2</td>\n",
       "      <td>0.152048</td>\n",
       "      <td>0.440930</td>\n",
       "      <td>0.811828</td>\n",
       "      <td>00:51</td>\n",
       "    </tr>\n",
       "    <tr>\n",
       "      <td>3</td>\n",
       "      <td>0.165068</td>\n",
       "      <td>0.441226</td>\n",
       "      <td>0.809140</td>\n",
       "      <td>00:50</td>\n",
       "    </tr>\n",
       "  </tbody>\n",
       "</table>"
      ],
      "text/plain": [
       "<IPython.core.display.HTML object>"
      ]
     },
     "metadata": {},
     "output_type": "display_data"
    }
   ],
   "source": [
    "#Continue training model using the pseudo-labels\n",
    "print(np.shape(df_tmp))\n",
    "print(np.shape(df_test))\n",
    "learn = text_classifier_learner(data_tmp, AWD_LSTM)\n",
    "learn.load('s1_16e_tritrained_001')#load in the weights from the LM encoder\n",
    "learn.unfreeze()\n",
    "learn.fit_one_cycle(4, slice(1e-5,1e-3), moms=moms)\n",
    "learn.save('s1_20e_tritrained_001')"
   ]
  },
  {
   "cell_type": "code",
   "execution_count": 937,
   "metadata": {},
   "outputs": [],
   "source": [
    "#for s2\n",
    "ave_prob_pair=np.array(df_test['ave_prob13'])\n",
    "csv_name='train_labeled_s2_tmp.csv'\n",
    "df_tmp = pd.read_csv(DATAPATH/csv_name)\n",
    "#set targets to the mean of pair\n",
    "ave_prob_target_tmp=np.round(ave_prob_pair).astype(int)\n",
    "ave_prob_target_tmp[ave_prob_target_tmp==0]=4\n",
    "ave_prob_target_tmp[ave_prob_target_tmp==1]=0\n",
    "print(np.shape(ave_prob_target_tmp))\n",
    "#get thresholds\n",
    "ave_prob_pair_sorted=np.sort(ave_prob_pair)\n",
    "low_thresh=ave_prob_pair_sorted[get_top_n]\n",
    "high_thresh=ave_prob_pair_sorted[len(ave_prob_pair_sorted)-get_top_n]\n",
    "get_these=np.zeros(np.shape(ave_prob_pair)[0])\n",
    "get_these[ave_prob_pair<low_thresh]=1\n",
    "get_these[ave_prob_pair>high_thresh]=1\n",
    "get_these=get_these.astype(bool)\n",
    "print(np.shape(ave_prob_target_tmp[get_these]))\n",
    "#get selections\n",
    "ave_prob_pair_tmp=ave_prob_pair[get_these]\n",
    "ave_prob_target_tmp=ave_prob_target_tmp[get_these]\n",
    "print(np.shape(ave_prob_pair_tmp))\n",
    "#modify df_test_tmp\n",
    "df_test_tmp=df_test.iloc[get_these]\n",
    "print(np.shape(df_test_tmp))\n",
    "df_test=df_test[~get_these]\n",
    "print(np.shape(df_test))\n",
    "df_test_tmp['sentiment']=ave_prob_target_tmp\n",
    "#df_test_tmp['sentiment'].iloc[get_these_s1]=s_prediction_preds[get_these_s1]\n",
    "df_test_tmp['is_valid']=0\n",
    "#create expanded data for further training of sample's model\n",
    "df_tmp=pd.concat([df_tmp,df_test_tmp])\n",
    "df_tmp.to_csv(DATAPATH/csv_name, index=False)\n",
    "tmplist=TextList.from_csv(DATAPATH, csv_name, cols='content', vocab=data_lm.train_ds.vocab)\n",
    "data_tmp = (tmplist\n",
    "                .split_from_df(col='is_valid')\n",
    "                .label_from_df(cols='sentiment')\n",
    "                .databunch(bs=40))\n"
   ]
  },
  {
   "cell_type": "code",
   "execution_count": 938,
   "metadata": {},
   "outputs": [
    {
     "name": "stdout",
     "output_type": "stream",
     "text": [
      "(32641, 13)\n",
      "(678946, 13)\n"
     ]
    },
    {
     "data": {
      "text/html": [
       "<table border=\"1\" class=\"dataframe\">\n",
       "  <thead>\n",
       "    <tr style=\"text-align: left;\">\n",
       "      <th>epoch</th>\n",
       "      <th>train_loss</th>\n",
       "      <th>valid_loss</th>\n",
       "      <th>accuracy</th>\n",
       "      <th>time</th>\n",
       "    </tr>\n",
       "  </thead>\n",
       "  <tbody>\n",
       "    <tr>\n",
       "      <td>0</td>\n",
       "      <td>0.187832</td>\n",
       "      <td>0.448729</td>\n",
       "      <td>0.799283</td>\n",
       "      <td>00:53</td>\n",
       "    </tr>\n",
       "    <tr>\n",
       "      <td>1</td>\n",
       "      <td>0.191983</td>\n",
       "      <td>0.443321</td>\n",
       "      <td>0.801075</td>\n",
       "      <td>00:52</td>\n",
       "    </tr>\n",
       "    <tr>\n",
       "      <td>2</td>\n",
       "      <td>0.170951</td>\n",
       "      <td>0.448432</td>\n",
       "      <td>0.801971</td>\n",
       "      <td>00:51</td>\n",
       "    </tr>\n",
       "    <tr>\n",
       "      <td>3</td>\n",
       "      <td>0.153393</td>\n",
       "      <td>0.450314</td>\n",
       "      <td>0.803315</td>\n",
       "      <td>00:51</td>\n",
       "    </tr>\n",
       "  </tbody>\n",
       "</table>"
      ],
      "text/plain": [
       "<IPython.core.display.HTML object>"
      ]
     },
     "metadata": {},
     "output_type": "display_data"
    }
   ],
   "source": [
    "#Continue training model using the pseudo-labels\n",
    "print(np.shape(df_tmp))\n",
    "print(np.shape(df_test))\n",
    "learn = text_classifier_learner(data_tmp, AWD_LSTM)\n",
    "learn.load('s2_16e_tritrained_001')#load in the weights from the LM encoder\n",
    "learn.unfreeze()\n",
    "learn.fit_one_cycle(4, slice(1e-5,1e-3), moms=moms)\n",
    "learn.save('s2_20e_tritrained_001')"
   ]
  },
  {
   "cell_type": "code",
   "execution_count": 939,
   "metadata": {},
   "outputs": [],
   "source": [
    "#for s3\n",
    "ave_prob_pair=np.array(df_test['ave_prob12'])\n",
    "csv_name='train_labeled_s3_tmp.csv'\n",
    "df_tmp = pd.read_csv(DATAPATH/csv_name)\n",
    "#set targets to the mean of pair\n",
    "ave_prob_target_tmp=np.round(ave_prob_pair).astype(int)\n",
    "ave_prob_target_tmp[ave_prob_target_tmp==0]=4\n",
    "ave_prob_target_tmp[ave_prob_target_tmp==1]=0\n",
    "print(np.shape(ave_prob_target_tmp))\n",
    "#get thresholds\n",
    "ave_prob_pair_sorted=np.sort(ave_prob_pair)\n",
    "low_thresh=ave_prob_pair_sorted[get_top_n]\n",
    "high_thresh=ave_prob_pair_sorted[len(ave_prob_pair_sorted)-get_top_n]\n",
    "get_these=np.zeros(np.shape(ave_prob_pair)[0])\n",
    "get_these[ave_prob_pair<low_thresh]=1\n",
    "get_these[ave_prob_pair>high_thresh]=1\n",
    "get_these=get_these.astype(bool)\n",
    "print(np.shape(ave_prob_target_tmp[get_these]))\n",
    "#get selections\n",
    "ave_prob_pair_tmp=ave_prob_pair[get_these]\n",
    "ave_prob_target_tmp=ave_prob_target_tmp[get_these]\n",
    "print(np.shape(ave_prob_pair_tmp))\n",
    "#modify df_test_tmp\n",
    "df_test_tmp=df_test.iloc[get_these]\n",
    "print(np.shape(df_test_tmp))\n",
    "df_test=df_test[~get_these]\n",
    "print(np.shape(df_test))\n",
    "df_test_tmp['sentiment']=ave_prob_target_tmp\n",
    "#df_test_tmp['sentiment'].iloc[get_these_s1]=s_prediction_preds[get_these_s1]\n",
    "df_test_tmp['is_valid']=0\n",
    "#create expanded data for further training of sample's model\n",
    "df_tmp=pd.concat([df_tmp,df_test_tmp])\n",
    "df_tmp.to_csv(DATAPATH/csv_name, index=False)\n",
    "tmplist=TextList.from_csv(DATAPATH, csv_name, cols='content', vocab=data_lm.train_ds.vocab)\n",
    "data_tmp = (tmplist\n",
    "                .split_from_df(col='is_valid')\n",
    "                .label_from_df(cols='sentiment')\n",
    "                .databunch(bs=40))\n"
   ]
  },
  {
   "cell_type": "code",
   "execution_count": 940,
   "metadata": {},
   "outputs": [
    {
     "name": "stdout",
     "output_type": "stream",
     "text": [
      "(32643, 13)\n",
      "(668947, 13)\n"
     ]
    },
    {
     "data": {
      "text/html": [
       "<table border=\"1\" class=\"dataframe\">\n",
       "  <thead>\n",
       "    <tr style=\"text-align: left;\">\n",
       "      <th>epoch</th>\n",
       "      <th>train_loss</th>\n",
       "      <th>valid_loss</th>\n",
       "      <th>accuracy</th>\n",
       "      <th>time</th>\n",
       "    </tr>\n",
       "  </thead>\n",
       "  <tbody>\n",
       "    <tr>\n",
       "      <td>0</td>\n",
       "      <td>0.190354</td>\n",
       "      <td>0.432078</td>\n",
       "      <td>0.802867</td>\n",
       "      <td>00:53</td>\n",
       "    </tr>\n",
       "    <tr>\n",
       "      <td>1</td>\n",
       "      <td>0.179874</td>\n",
       "      <td>0.439112</td>\n",
       "      <td>0.810036</td>\n",
       "      <td>00:51</td>\n",
       "    </tr>\n",
       "    <tr>\n",
       "      <td>2</td>\n",
       "      <td>0.149430</td>\n",
       "      <td>0.434203</td>\n",
       "      <td>0.814964</td>\n",
       "      <td>00:52</td>\n",
       "    </tr>\n",
       "    <tr>\n",
       "      <td>3</td>\n",
       "      <td>0.172851</td>\n",
       "      <td>0.431397</td>\n",
       "      <td>0.814068</td>\n",
       "      <td>00:51</td>\n",
       "    </tr>\n",
       "  </tbody>\n",
       "</table>"
      ],
      "text/plain": [
       "<IPython.core.display.HTML object>"
      ]
     },
     "metadata": {},
     "output_type": "display_data"
    }
   ],
   "source": [
    "#Continue training model using the pseudo-labels\n",
    "print(np.shape(df_tmp))\n",
    "print(np.shape(df_test))\n",
    "learn = text_classifier_learner(data_tmp, AWD_LSTM)\n",
    "learn.load('s3_16e_tritrained_001')#load in the weights from the LM encoder\n",
    "learn.unfreeze()\n",
    "learn.fit_one_cycle(4, slice(1e-5,1e-3), moms=moms)\n",
    "learn.save('s3_20e_tritrained_001')"
   ]
  },
  {
   "cell_type": "code",
   "execution_count": null,
   "metadata": {},
   "outputs": [],
   "source": []
  },
  {
   "cell_type": "markdown",
   "metadata": {},
   "source": [
    "# Get predictions on test set!"
   ]
  },
  {
   "cell_type": "code",
   "execution_count": 941,
   "metadata": {},
   "outputs": [],
   "source": [
    "# create data structure needed for getting predictions on the test set\n",
    "\n",
    "df_test_tmp=pd.read_csv(DATAPATH/'test_labeled.csv')\n",
    "df_test_tmp['is_valid']=1\n",
    "\n",
    "df_tmp = pd.read_csv(DATAPATH/'train_labeled_s1.csv')\n",
    "df_tmp=df_tmp[df_tmp['is_valid']==0]\n",
    "df_tmp=pd.concat([df_tmp,df_test_tmp])\n",
    "df_tmp.to_csv(DATAPATH/'df_tmp.csv', index=False)\n",
    "tmplist=TextList.from_csv(DATAPATH, 'df_tmp.csv', cols='content', vocab=data_lm.train_ds.vocab)\n",
    "data_tmp = (tmplist\n",
    "                .split_from_df(col='is_valid')\n",
    "                .label_from_df(cols='sentiment')#.add_test(test_list)\n",
    "                .databunch(bs=40))\n"
   ]
  },
  {
   "cell_type": "code",
   "execution_count": 942,
   "metadata": {},
   "outputs": [],
   "source": [
    "#now get predictions on test set for:\n",
    "    #1) all three added_sample's\n",
    "    #2) main ds\n",
    "    #3) large ds\n",
    "    \n",
    "learn = text_classifier_learner(data_tmp, AWD_LSTM)\n",
    "\n",
    "#3 added_samples\n",
    "learn.load('s1_20e_tritrained_001')\n",
    "predictions_added_s1=learn.get_preds(DatasetType.Valid,ordered=True)\n",
    "learn.load('s2_20e_tritrained_001')\n",
    "predictions_added_s2=learn.get_preds(DatasetType.Valid,ordered=True)\n",
    "learn.load('s3_20e_tritrained_001')\n",
    "predictions_added_s3=learn.get_preds(DatasetType.Valid,ordered=True)\n",
    "\n",
    "#main dataset\n",
    "learn.load('main_12e_unfreeze_001')\n",
    "predictions_main=learn.get_preds(DatasetType.Valid,ordered=True)\n",
    "\n",
    "#large dataset\n",
    "learn.load('large_12e_unfreeze_001')\n",
    "predictions_large=learn.get_preds(DatasetType.Valid,ordered=True)\n"
   ]
  },
  {
   "cell_type": "code",
   "execution_count": 943,
   "metadata": {},
   "outputs": [
    {
     "name": "stdout",
     "output_type": "stream",
     "text": [
      "tensor(0.7974)\n"
     ]
    }
   ],
   "source": [
    "#Accuracy on test set for the main unsampled data\n",
    "#This is just the final answer we'd get without using any SSL\n",
    "print(accuracy(*predictions_main))"
   ]
  },
  {
   "cell_type": "code",
   "execution_count": 944,
   "metadata": {},
   "outputs": [
    {
     "name": "stdout",
     "output_type": "stream",
     "text": [
      "tensor(0.8377)\n"
     ]
    }
   ],
   "source": [
    "#Accuracy on test set for the much larger dataset\n",
    "#This is the accuracy if we somehow got labels for the much larger 'unlabeled' dataset\n",
    "#It should provide an upper bound for what we could expect for SSL\n",
    "print(accuracy(*predictions_large))"
   ]
  },
  {
   "cell_type": "code",
   "execution_count": 945,
   "metadata": {},
   "outputs": [
    {
     "name": "stdout",
     "output_type": "stream",
     "text": [
      "tensor(0.8001)\n",
      "tensor(0.7956)\n",
      "tensor(0.8050)\n"
     ]
    }
   ],
   "source": [
    "#Accuracy on test set for each individual sample\n",
    "#This closely matches what we get on the main unsampled dataset\n",
    "print(accuracy(*predictions_added_s1))\n",
    "print(accuracy(*predictions_added_s2))\n",
    "print(accuracy(*predictions_added_s3))"
   ]
  },
  {
   "cell_type": "code",
   "execution_count": 946,
   "metadata": {},
   "outputs": [
    {
     "name": "stdout",
     "output_type": "stream",
     "text": [
      "Final accuracy across the 3 samples:  0.8027790228597041\n"
     ]
    }
   ],
   "source": [
    "ave_predictions=(np.array(predictions_added_s1[0])+np.array(predictions_added_s2[0])+np.array(predictions_added_s3[0]))/3\n",
    "argmax_pred=np.argmax(ave_predictions,axis=1)\n",
    "the_targets=np.array(predictions_added_s1[1])\n",
    "the_matches=np.equal(argmax_pred,the_targets).astype('int')\n",
    "print('Final accuracy across the 3 samples: ',np.mean(the_matches))\n"
   ]
  },
  {
   "cell_type": "code",
   "execution_count": null,
   "metadata": {},
   "outputs": [],
   "source": []
  },
  {
   "cell_type": "code",
   "execution_count": null,
   "metadata": {},
   "outputs": [],
   "source": []
  },
  {
   "cell_type": "code",
   "execution_count": null,
   "metadata": {},
   "outputs": [],
   "source": []
  }
 ],
 "metadata": {
  "kernelspec": {
   "display_name": "Python 3",
   "language": "python",
   "name": "python3"
  },
  "language_info": {
   "codemirror_mode": {
    "name": "ipython",
    "version": 3
   },
   "file_extension": ".py",
   "mimetype": "text/x-python",
   "name": "python",
   "nbconvert_exporter": "python",
   "pygments_lexer": "ipython3",
   "version": "3.7.1"
  }
 },
 "nbformat": 4,
 "nbformat_minor": 2
}
